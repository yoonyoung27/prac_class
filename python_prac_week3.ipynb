{
  "nbformat": 4,
  "nbformat_minor": 0,
  "metadata": {
    "colab": {
      "name": "python_prac_week3.ipynb",
      "provenance": [],
      "authorship_tag": "ABX9TyNVpWkk6ort7GB0JlHfM9OI",
      "include_colab_link": true
    },
    "kernelspec": {
      "name": "python3",
      "display_name": "Python 3"
    },
    "language_info": {
      "name": "python"
    }
  },
  "cells": [
    {
      "cell_type": "markdown",
      "metadata": {
        "id": "view-in-github",
        "colab_type": "text"
      },
      "source": [
        "<a href=\"https://colab.research.google.com/github/yoonyoung27/prac_class/blob/main/python_prac_week3.ipynb\" target=\"_parent\"><img src=\"https://colab.research.google.com/assets/colab-badge.svg\" alt=\"Open In Colab\"/></a>"
      ]
    },
    {
      "cell_type": "markdown",
      "metadata": {
        "id": "sCtQCVLABBrV"
      },
      "source": [
        "#3주차 실습과제1\n",
        "입력받은 자연수가 홀수인지 짝수인지 판별해 주는 함수(is_odd)를 작성하시오."
      ]
    },
    {
      "cell_type": "code",
      "metadata": {
        "colab": {
          "base_uri": "https://localhost:8080/"
        },
        "id": "gyzoAa_FAnOv",
        "outputId": "aedae887-89e0-4475-ddbc-abdeb4fac0df"
      },
      "source": [
        "def is_odd():\n",
        "    number=input(\"자연수를 입력하세요 : \")\n",
        "    if int(number)%2==0:\n",
        "        print(\"짝수\")\n",
        "    else:\n",
        "        print(\"홀수\")\n",
        "\n",
        "is_odd()"
      ],
      "execution_count": 2,
      "outputs": [
        {
          "output_type": "stream",
          "text": [
            "자연수를 입력하세요 : 5\n",
            "홀수\n"
          ],
          "name": "stdout"
        }
      ]
    },
    {
      "cell_type": "markdown",
      "metadata": {
        "id": "Om-GLZkCBVFt"
      },
      "source": [
        "#3주차 실습과제2\n",
        "입력으로 들어오는 모든 수의 평균값을 계산해 주는 함수를 작성해보자.\n",
        "\n",
        "(단, 입력으로 들어오는 수의 갯수는 정해져 있지 않다.)"
      ]
    },
    {
      "cell_type": "code",
      "metadata": {
        "id": "yyTjcKQUBgh3"
      },
      "source": [
        ""
      ],
      "execution_count": null,
      "outputs": []
    },
    {
      "cell_type": "markdown",
      "metadata": {
        "id": "kJQjV8h7BgvQ"
      },
      "source": [
        "#3주차 실습과제3\n",
        "두 숫자 a,b에 대하여 a를 b로 나누었을 때 몫과 나머지를 출력하는 함수를 만들어라."
      ]
    },
    {
      "cell_type": "code",
      "metadata": {
        "id": "svHqK55pBpJW"
      },
      "source": [
        ""
      ],
      "execution_count": null,
      "outputs": []
    },
    {
      "cell_type": "markdown",
      "metadata": {
        "id": "R3e2G32-BpeF"
      },
      "source": [
        "#3주차 실습과제4\n",
        "입력받은 숫자들의 총합을 구하는 프로그램을 작성하시오\n",
        "\n",
        "실행 예:\n",
        "\n",
        "합을 알고 싶은 숫자를 입력하세요 : 1,2,3,4,5,6\n",
        "\n",
        "합은 21입니다."
      ]
    },
    {
      "cell_type": "code",
      "metadata": {
        "id": "Io5YWSmKB32w"
      },
      "source": [
        ""
      ],
      "execution_count": null,
      "outputs": []
    },
    {
      "cell_type": "markdown",
      "metadata": {
        "id": "6Hl3tTHUB4Fq"
      },
      "source": [
        "#3주차 실습과제5\n",
        "사용자로부터 2~9까지의 숫자 중 하나를 입력받아 해당 숫자의 구구단을 한줄로 출력하는 프로그램을 작성하시오.\n",
        "\n",
        "실행 예:\n",
        "\n",
        "구구단을 출력할 숫자를 입력하세요(2~9): 2\n",
        "\n",
        "2,4,6,8,10,12,14,16,18"
      ]
    },
    {
      "cell_type": "code",
      "metadata": {
        "id": "pbX4kL19CLpI"
      },
      "source": [
        ""
      ],
      "execution_count": null,
      "outputs": []
    },
    {
      "cell_type": "markdown",
      "metadata": {
        "id": "3Cie8JKnCL5K"
      },
      "source": [
        "#3주차 실습과제6\n",
        "피보나치 수열은 1,1,2,3,5,8,... 순으로 앞의 두 수를 합한 수를 나열한 수열이다. 예를 들어 다섯 번째 피보나치 수는 세 번째 수 2와 네 번째 수 3의 합이다. 다음 세 가지 규칙만 알면 몇 번째 피보나치 수라도 계산할 수 있다.\n",
        "\n",
        "규칙1:첫 번째 피보나치 수는 1\n",
        "\n",
        "규칙2:두 번째 피보나치 수는 1\n",
        "\n",
        "규칙3:그 후, N번째 피보나치 수는 (N-1)번째 피보나치 수와 (N-2)번째 피보나치 수의 합\n",
        "\n",
        "N번째 피보나치 수를 구하는(리턴하는) 함수 fib(n)을 정의하고 fib(20)을 실행해보자."
      ]
    },
    {
      "cell_type": "code",
      "metadata": {
        "id": "W5H2kvXkHcRo"
      },
      "source": [
        ""
      ],
      "execution_count": null,
      "outputs": []
    },
    {
      "cell_type": "markdown",
      "metadata": {
        "id": "AKCXoA80HciA"
      },
      "source": [
        "#3주차 실습과제7\n",
        "어떤 시험에서 90이상이면 A, 80이상 90미만이면 B, 70이상 80미만이면 C, 60이상 70미만이면 D, 60미만이면 F를 주려고 한다. 입력 점수에 대해서 위와 같은 학점을 리턴하는 Grading함수를 작성하고 이를 이용하여 다음과 같은 출력이 나오는 프로그램을 작성하여라.\n",
        "\n",
        "실행 예:\n",
        "\n",
        "\"당신의 점수는?\" 75\n",
        "\n",
        "\"75점은 C입니다.\""
      ]
    },
    {
      "cell_type": "code",
      "metadata": {
        "id": "sdahQ5FRH5Hp"
      },
      "source": [
        ""
      ],
      "execution_count": null,
      "outputs": []
    },
    {
      "cell_type": "markdown",
      "metadata": {
        "id": "V2VNvfKmH5Uq"
      },
      "source": [
        "#3주차 실습과제8\n",
        "맨처음 실습과제는 홀수인지 짝수인지를 판별하는 프로그램을 작성하는 것이었고 다음과 같이 작성하였다.\n",
        "\n",
        "    number = input(\"자연수를 입력하세요\")\n",
        "    if int(number)%2==0:\n",
        "        print(\"짝수\")\n",
        "    else:\n",
        "        print(\"홀수)\n",
        "만약, 어떤 사람이 자연수가 아닌 17.5를 입력하거나 한글로 삼백을 입력했을 때, 자연수를 입력하라는 메시지가 다시 나오도록 try except를 이용하여 프로그램을 작성하여라."
      ]
    },
    {
      "cell_type": "code",
      "metadata": {
        "id": "0Zsc2jOAIrno"
      },
      "source": [
        ""
      ],
      "execution_count": null,
      "outputs": []
    }
  ]
}