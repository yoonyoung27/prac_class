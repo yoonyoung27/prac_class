{
  "nbformat": 4,
  "nbformat_minor": 0,
  "metadata": {
    "colab": {
      "name": "github_prac_week1.ipynb",
      "provenance": [],
      "authorship_tag": "ABX9TyOt/rFd764RTW3BzszpyVKh",
      "include_colab_link": true
    },
    "kernelspec": {
      "name": "python3",
      "display_name": "Python 3"
    }
  },
  "cells": [
    {
      "cell_type": "markdown",
      "metadata": {
        "id": "view-in-github",
        "colab_type": "text"
      },
      "source": [
        "<a href=\"https://colab.research.google.com/github/yoonyoung27/prac_class/blob/main/github_prac_week1.ipynb\" target=\"_parent\"><img src=\"https://colab.research.google.com/assets/colab-badge.svg\" alt=\"Open In Colab\"/></a>"
      ]
    },
    {
      "cell_type": "markdown",
      "metadata": {
        "id": "4XbPCZK3rTyk"
      },
      "source": [
        "#1주차 실습과제2\r\n",
        "자연수를 입력받아 홀수인지 짝수인지 판별할 수 있는 코드를 작성해보자."
      ]
    },
    {
      "cell_type": "code",
      "metadata": {
        "colab": {
          "base_uri": "https://localhost:8080/"
        },
        "id": "3g1-6mMsq8h0",
        "outputId": "0895dd82-8b2f-4239-e9e3-d96106dfdf40"
      },
      "source": [
        "exit=True\r\n",
        "while exit :\r\n",
        "    try :\r\n",
        "        number=input(\"자연수를 입력하세요.\")\r\n",
        "        if int(number)<=0 :\r\n",
        "            print(\"자연수가 아닙니다.\")\r\n",
        "        else :\r\n",
        "            if int(number)%2 == 1:\r\n",
        "                print(\"홀수입니다.\")\r\n",
        "                exit=False\r\n",
        "            else :\r\n",
        "                print(\"짝수입니다.\")\r\n",
        "                exit=False\r\n",
        "    except ValueError :\r\n",
        "        print(\"자연수가 아닙니다.\")"
      ],
      "execution_count": 2,
      "outputs": [
        {
          "output_type": "stream",
          "text": [
            "자연수를 입력하세요.삼\n",
            "자연수가 아닙니다.\n",
            "자연수를 입력하세요.8\n",
            "짝수입니다.\n"
          ],
          "name": "stdout"
        }
      ]
    },
    {
      "cell_type": "markdown",
      "metadata": {
        "id": "QUPECksZsjFu"
      },
      "source": [
        "#1주차 실습과제3\r\n",
        "홍길동씨의 주민등록번호는 881120-1068234이다. 홍길동씨의 주민등록번호를 연월일(YYMMDD) 부분과 그 뒤의 숫자 부분으로 나누어 출력해 보자."
      ]
    },
    {
      "cell_type": "code",
      "metadata": {
        "colab": {
          "base_uri": "https://localhost:8080/"
        },
        "id": "CPKN76zOs9DT",
        "outputId": "f94d716c-eff9-4f92-9540-7e6a939f5cc1"
      },
      "source": [
        "pin = \"881120-1068234\"\r\n",
        "print(pin[:6])\r\n",
        "print(pin[7:])"
      ],
      "execution_count": 3,
      "outputs": [
        {
          "output_type": "stream",
          "text": [
            "881120\n",
            "1068234\n"
          ],
          "name": "stdout"
        }
      ]
    },
    {
      "cell_type": "markdown",
      "metadata": {
        "id": "l2iAr9izuDO_"
      },
      "source": [
        "#1주차 실습과제4\r\n",
        "주민등록번호 뒷자리의 맨 첫 번째 숫자는 성별을 나타낸다. 주민등록번호에서 성별을 나타내는 숫자를 출력해보자."
      ]
    },
    {
      "cell_type": "code",
      "metadata": {
        "colab": {
          "base_uri": "https://localhost:8080/"
        },
        "id": "JqydpeUkuVnt",
        "outputId": "2036df4a-5ba6-4538-ac38-9ac963c71f6b"
      },
      "source": [
        "print(pin[7])"
      ],
      "execution_count": 4,
      "outputs": [
        {
          "output_type": "stream",
          "text": [
            "1\n"
          ],
          "name": "stdout"
        }
      ]
    },
    {
      "cell_type": "markdown",
      "metadata": {
        "id": "NPOVkdY6uiwT"
      },
      "source": [
        "#1주차 실습과제5\r\n",
        "다음과 같은 문자열이 있다.\r\n",
        "a:b:c:d\r\n",
        "####(1) 문자열의 replace 함수를 이용하여 위 문자열을 다음과 같이 고치시오. a#b#c#d\r\n",
        "####(2) 문자열의 split과 join 함수를 이용하여 위 문자열을 다음과 같이 고치시오. a#b#c#d"
      ]
    },
    {
      "cell_type": "code",
      "metadata": {
        "colab": {
          "base_uri": "https://localhost:8080/"
        },
        "id": "HGNBn_T6vKAO",
        "outputId": "2848be82-d94d-42ee-ddf0-b15345443d79"
      },
      "source": [
        "char = \"a:b:c:d\"\r\n",
        "char1 = char.replace(\":\", \"#\")\r\n",
        "print(char1)\r\n",
        "char2 = char.split(\":\")\r\n",
        "print(char2)\r\n",
        "char3 = \"#\".join(char2)\r\n",
        "print(char3)"
      ],
      "execution_count": 6,
      "outputs": [
        {
          "output_type": "stream",
          "text": [
            "a#b#c#d\n",
            "['a', 'b', 'c', 'd']\n",
            "a#b#c#d\n"
          ],
          "name": "stdout"
        }
      ]
    }
  ]
}
