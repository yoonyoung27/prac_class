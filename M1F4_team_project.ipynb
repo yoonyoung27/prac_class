{
  "nbformat": 4,
  "nbformat_minor": 0,
  "metadata": {
    "colab": {
      "name": "M1F4_team_project.ipynb",
      "provenance": [],
      "authorship_tag": "ABX9TyNT57hk26lbn5IXmS8ZOPlH",
      "include_colab_link": true
    },
    "kernelspec": {
      "name": "python3",
      "display_name": "Python 3"
    },
    "language_info": {
      "name": "python"
    }
  },
  "cells": [
    {
      "cell_type": "markdown",
      "metadata": {
        "id": "view-in-github",
        "colab_type": "text"
      },
      "source": [
        "<a href=\"https://colab.research.google.com/github/yoonyoung27/prac_class/blob/main/M1F4_team_project.ipynb\" target=\"_parent\"><img src=\"https://colab.research.google.com/assets/colab-badge.svg\" alt=\"Open In Colab\"/></a>"
      ]
    },
    {
      "cell_type": "markdown",
      "metadata": {
        "id": "fnmxyNunWizW"
      },
      "source": [
        "#✓ Import train.csv"
      ]
    },
    {
      "cell_type": "code",
      "metadata": {
        "colab": {
          "base_uri": "https://localhost:8080/"
        },
        "id": "5UbSBO7bWaux",
        "outputId": "d7e4b64b-e8be-4662-f61c-3126d4b5ae6b"
      },
      "source": [
        "from google.colab import drive\n",
        "drive.mount('/content/drive')"
      ],
      "execution_count": 1,
      "outputs": [
        {
          "output_type": "stream",
          "text": [
            "Mounted at /content/drive\n"
          ],
          "name": "stdout"
        }
      ]
    },
    {
      "cell_type": "code",
      "metadata": {
        "colab": {
          "base_uri": "https://localhost:8080/",
          "height": 203
        },
        "id": "mjhEUbVVWvZu",
        "outputId": "a073a004-bebf-45b3-bca0-fe857eef12bd"
      },
      "source": [
        "import pandas as pd\n",
        "train = pd.read_csv('/content/drive/MyDrive/Colab Notebooks/train.csv', encoding='cp949')  # CSV파일에 한글로 된 내용이 있는 경우\n",
        "train.head()"
      ],
      "execution_count": 2,
      "outputs": [
        {
          "output_type": "execute_result",
          "data": {
            "text/html": [
              "<div>\n",
              "<style scoped>\n",
              "    .dataframe tbody tr th:only-of-type {\n",
              "        vertical-align: middle;\n",
              "    }\n",
              "\n",
              "    .dataframe tbody tr th {\n",
              "        vertical-align: top;\n",
              "    }\n",
              "\n",
              "    .dataframe thead th {\n",
              "        text-align: right;\n",
              "    }\n",
              "</style>\n",
              "<table border=\"1\" class=\"dataframe\">\n",
              "  <thead>\n",
              "    <tr style=\"text-align: right;\">\n",
              "      <th></th>\n",
              "      <th>num</th>\n",
              "      <th>date_time</th>\n",
              "      <th>전력사용량(kWh)</th>\n",
              "      <th>기온(°C)</th>\n",
              "      <th>풍속(m/s)</th>\n",
              "      <th>습도(%)</th>\n",
              "      <th>강수량(mm)</th>\n",
              "      <th>일조(hr)</th>\n",
              "      <th>비전기냉방설비운영</th>\n",
              "      <th>태양광보유</th>\n",
              "    </tr>\n",
              "  </thead>\n",
              "  <tbody>\n",
              "    <tr>\n",
              "      <th>0</th>\n",
              "      <td>1</td>\n",
              "      <td>2020-06-01 00</td>\n",
              "      <td>8179.056</td>\n",
              "      <td>17.6</td>\n",
              "      <td>2.5</td>\n",
              "      <td>92.0</td>\n",
              "      <td>0.8</td>\n",
              "      <td>0.0</td>\n",
              "      <td>0.0</td>\n",
              "      <td>0.0</td>\n",
              "    </tr>\n",
              "    <tr>\n",
              "      <th>1</th>\n",
              "      <td>1</td>\n",
              "      <td>2020-06-01 01</td>\n",
              "      <td>8135.640</td>\n",
              "      <td>17.7</td>\n",
              "      <td>2.9</td>\n",
              "      <td>91.0</td>\n",
              "      <td>0.3</td>\n",
              "      <td>0.0</td>\n",
              "      <td>0.0</td>\n",
              "      <td>0.0</td>\n",
              "    </tr>\n",
              "    <tr>\n",
              "      <th>2</th>\n",
              "      <td>1</td>\n",
              "      <td>2020-06-01 02</td>\n",
              "      <td>8107.128</td>\n",
              "      <td>17.5</td>\n",
              "      <td>3.2</td>\n",
              "      <td>91.0</td>\n",
              "      <td>0.0</td>\n",
              "      <td>0.0</td>\n",
              "      <td>0.0</td>\n",
              "      <td>0.0</td>\n",
              "    </tr>\n",
              "    <tr>\n",
              "      <th>3</th>\n",
              "      <td>1</td>\n",
              "      <td>2020-06-01 03</td>\n",
              "      <td>8048.808</td>\n",
              "      <td>17.1</td>\n",
              "      <td>3.2</td>\n",
              "      <td>91.0</td>\n",
              "      <td>0.0</td>\n",
              "      <td>0.0</td>\n",
              "      <td>0.0</td>\n",
              "      <td>0.0</td>\n",
              "    </tr>\n",
              "    <tr>\n",
              "      <th>4</th>\n",
              "      <td>1</td>\n",
              "      <td>2020-06-01 04</td>\n",
              "      <td>8043.624</td>\n",
              "      <td>17.0</td>\n",
              "      <td>3.3</td>\n",
              "      <td>92.0</td>\n",
              "      <td>0.0</td>\n",
              "      <td>0.0</td>\n",
              "      <td>0.0</td>\n",
              "      <td>0.0</td>\n",
              "    </tr>\n",
              "  </tbody>\n",
              "</table>\n",
              "</div>"
            ],
            "text/plain": [
              "   num      date_time  전력사용량(kWh)  기온(°C)  ...  강수량(mm)  일조(hr)  비전기냉방설비운영  태양광보유\n",
              "0    1  2020-06-01 00    8179.056    17.6  ...      0.8     0.0        0.0    0.0\n",
              "1    1  2020-06-01 01    8135.640    17.7  ...      0.3     0.0        0.0    0.0\n",
              "2    1  2020-06-01 02    8107.128    17.5  ...      0.0     0.0        0.0    0.0\n",
              "3    1  2020-06-01 03    8048.808    17.1  ...      0.0     0.0        0.0    0.0\n",
              "4    1  2020-06-01 04    8043.624    17.0  ...      0.0     0.0        0.0    0.0\n",
              "\n",
              "[5 rows x 10 columns]"
            ]
          },
          "metadata": {
            "tags": []
          },
          "execution_count": 2
        }
      ]
    },
    {
      "cell_type": "markdown",
      "metadata": {
        "id": "E48MOa74WxO-"
      },
      "source": [
        "* num : 건물번호\n",
        "* date_time : 시간"
      ]
    },
    {
      "cell_type": "code",
      "metadata": {
        "id": "6DsRDytnWx0J"
      },
      "source": [
        "train.columns = ['num','datetime','usage','temperature','windspeed','humidity','precipitation','sunshine','non_elec_fac','solar_fac']"
      ],
      "execution_count": 3,
      "outputs": []
    },
    {
      "cell_type": "markdown",
      "metadata": {
        "id": "IvMMK5IlWza6"
      },
      "source": [
        "* train 데이터의 column 명을 영어로 변경"
      ]
    },
    {
      "cell_type": "markdown",
      "metadata": {
        "id": "wPMhH9KeW1DD"
      },
      "source": [
        "#✓ EDA"
      ]
    },
    {
      "cell_type": "code",
      "metadata": {
        "id": "B8NL8RdTW3B2"
      },
      "source": [
        "import numpy as np\n",
        "\n",
        "import matplotlib.pyplot as plt\n",
        "import seaborn as sns\n",
        "\n",
        "import sklearn\n",
        "from sklearn.linear_model import *\n",
        "from sklearn.cluster import KMeans\n",
        "\n",
        "import warnings\n",
        "warnings.filterwarnings('ignore')"
      ],
      "execution_count": 4,
      "outputs": []
    },
    {
      "cell_type": "markdown",
      "metadata": {
        "id": "VwmtF4DwW6aS"
      },
      "source": [
        "* 버전이 업데이트 되었거나, 더 좋은 방법을 추천해 주기 위해서 뜨는 경고창 혹은, 런타임 에러 등 다양한 이유로 발생하는 경고창을 무시"
      ]
    },
    {
      "cell_type": "code",
      "metadata": {
        "id": "ZGpzxyXdW4_3"
      },
      "source": [
        "eda = train.copy()"
      ],
      "execution_count": 5,
      "outputs": []
    },
    {
      "cell_type": "markdown",
      "metadata": {
        "id": "N3FK6O7zXCgk"
      },
      "source": [
        "* train 데이터를 보존하기 위해 eda 데이터로 복사"
      ]
    },
    {
      "cell_type": "code",
      "metadata": {
        "colab": {
          "base_uri": "https://localhost:8080/"
        },
        "id": "hFTE4D1jXHb6",
        "outputId": "5b047cec-f84f-443e-a6a0-4a660524a4cb"
      },
      "source": [
        "eda.info()"
      ],
      "execution_count": 6,
      "outputs": [
        {
          "output_type": "stream",
          "text": [
            "<class 'pandas.core.frame.DataFrame'>\n",
            "RangeIndex: 122400 entries, 0 to 122399\n",
            "Data columns (total 10 columns):\n",
            " #   Column         Non-Null Count   Dtype  \n",
            "---  ------         --------------   -----  \n",
            " 0   num            122400 non-null  int64  \n",
            " 1   datetime       122400 non-null  object \n",
            " 2   usage          122400 non-null  float64\n",
            " 3   temperature    122400 non-null  float64\n",
            " 4   windspeed      122400 non-null  float64\n",
            " 5   humidity       122400 non-null  float64\n",
            " 6   precipitation  122400 non-null  float64\n",
            " 7   sunshine       122400 non-null  float64\n",
            " 8   non_elec_fac   122400 non-null  float64\n",
            " 9   solar_fac      122400 non-null  float64\n",
            "dtypes: float64(8), int64(1), object(1)\n",
            "memory usage: 9.3+ MB\n"
          ],
          "name": "stdout"
        }
      ]
    },
    {
      "cell_type": "markdown",
      "metadata": {
        "id": "z7kD1izcXJ7s"
      },
      "source": [
        "* 모든 column에 null값이 존재하지 않음"
      ]
    },
    {
      "cell_type": "code",
      "metadata": {
        "colab": {
          "base_uri": "https://localhost:8080/"
        },
        "id": "5uYz_w36XLzI",
        "outputId": "96a6b856-ae48-46ce-aa7c-3c4c200a63af"
      },
      "source": [
        "eda['num'].value_counts()"
      ],
      "execution_count": 7,
      "outputs": [
        {
          "output_type": "execute_result",
          "data": {
            "text/plain": [
              "60    2040\n",
              "59    2040\n",
              "28    2040\n",
              "27    2040\n",
              "26    2040\n",
              "25    2040\n",
              "24    2040\n",
              "23    2040\n",
              "22    2040\n",
              "21    2040\n",
              "20    2040\n",
              "19    2040\n",
              "18    2040\n",
              "17    2040\n",
              "16    2040\n",
              "15    2040\n",
              "14    2040\n",
              "13    2040\n",
              "12    2040\n",
              "11    2040\n",
              "10    2040\n",
              "9     2040\n",
              "8     2040\n",
              "7     2040\n",
              "6     2040\n",
              "5     2040\n",
              "4     2040\n",
              "3     2040\n",
              "2     2040\n",
              "29    2040\n",
              "30    2040\n",
              "31    2040\n",
              "46    2040\n",
              "58    2040\n",
              "57    2040\n",
              "56    2040\n",
              "55    2040\n",
              "54    2040\n",
              "53    2040\n",
              "52    2040\n",
              "51    2040\n",
              "50    2040\n",
              "49    2040\n",
              "48    2040\n",
              "47    2040\n",
              "45    2040\n",
              "32    2040\n",
              "44    2040\n",
              "43    2040\n",
              "42    2040\n",
              "41    2040\n",
              "40    2040\n",
              "39    2040\n",
              "38    2040\n",
              "37    2040\n",
              "36    2040\n",
              "35    2040\n",
              "34    2040\n",
              "33    2040\n",
              "1     2040\n",
              "Name: num, dtype: int64"
            ]
          },
          "metadata": {
            "tags": []
          },
          "execution_count": 7
        }
      ]
    },
    {
      "cell_type": "markdown",
      "metadata": {
        "id": "84gPJdyeXOWj"
      },
      "source": [
        "* 'num' column은 1부터 60까지의 값을 각각 2040개 갖음"
      ]
    },
    {
      "cell_type": "markdown",
      "metadata": {
        "id": "DVLJ_qYUXRVG"
      },
      "source": [
        "###✓ Meaning of 0s"
      ]
    },
    {
      "cell_type": "code",
      "metadata": {
        "colab": {
          "base_uri": "https://localhost:8080/"
        },
        "id": "osuU0MESXP0V",
        "outputId": "43d5937a-1ebc-4bbf-8412-f21deb5b982b"
      },
      "source": [
        "print(len(eda[eda['sunshine']==0.0]), len(eda[eda['non_elec_fac']==0.0]), len(eda[eda['solar_fac']==0.0]))"
      ],
      "execution_count": 8,
      "outputs": [
        {
          "output_type": "stream",
          "text": [
            "85394 38760 63240\n"
          ],
          "name": "stdout"
        }
      ]
    }
  ]
}