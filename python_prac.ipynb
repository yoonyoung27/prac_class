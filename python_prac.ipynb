{
  "nbformat": 4,
  "nbformat_minor": 0,
  "metadata": {
    "colab": {
      "name": "python_prac.ipynb",
      "provenance": [],
      "authorship_tag": "ABX9TyOKiz4BTXzZRuFGSwdC9Rte",
      "include_colab_link": true
    },
    "kernelspec": {
      "name": "python3",
      "display_name": "Python 3"
    },
    "language_info": {
      "name": "python"
    }
  },
  "cells": [
    {
      "cell_type": "markdown",
      "metadata": {
        "id": "view-in-github",
        "colab_type": "text"
      },
      "source": [
        "<a href=\"https://colab.research.google.com/github/yoonyoung27/prac_class/blob/main/python_prac.ipynb\" target=\"_parent\"><img src=\"https://colab.research.google.com/assets/colab-badge.svg\" alt=\"Open In Colab\"/></a>"
      ]
    },
    {
      "cell_type": "markdown",
      "metadata": {
        "id": "VnajKFPXiQwM"
      },
      "source": [
        "# Python Practice"
      ]
    },
    {
      "cell_type": "markdown",
      "metadata": {
        "id": "wi9TBOTPiSPs"
      },
      "source": [
        "## Chapter 2\n",
        "[Jump to Python Ch2](https://wikidocs.net/11)"
      ]
    },
    {
      "cell_type": "markdown",
      "metadata": {
        "id": "d464ydlSlK75"
      },
      "source": [
        "\n",
        "### Numeric operations\n",
        "- Four fundamental arithmatic orperations(+, -, /, *)\n",
        "- Power(**)\n",
        "- Quotiant and remainder (%, //)"
      ]
    },
    {
      "cell_type": "code",
      "metadata": {
        "colab": {
          "base_uri": "https://localhost:8080/"
        },
        "id": "ewdvC5AuUGm8",
        "outputId": "2f7c10fa-4f64-4ccc-ceb0-19aac8d227aa"
      },
      "source": [
        "3+2"
      ],
      "execution_count": null,
      "outputs": [
        {
          "output_type": "execute_result",
          "data": {
            "text/plain": [
              "5"
            ]
          },
          "metadata": {
            "tags": []
          },
          "execution_count": 1
        }
      ]
    },
    {
      "cell_type": "code",
      "metadata": {
        "colab": {
          "base_uri": "https://localhost:8080/"
        },
        "id": "zj-qlcfgirfn",
        "outputId": "5efb8772-9c35-440e-9fce-54a1903bc79c"
      },
      "source": [
        "3-2"
      ],
      "execution_count": null,
      "outputs": [
        {
          "output_type": "execute_result",
          "data": {
            "text/plain": [
              "1"
            ]
          },
          "metadata": {
            "tags": []
          },
          "execution_count": 2
        }
      ]
    },
    {
      "cell_type": "code",
      "metadata": {
        "colab": {
          "base_uri": "https://localhost:8080/"
        },
        "id": "CN2b1YBmirc3",
        "outputId": "c89bed79-cfb2-486b-dab3-acd3a536d0cc"
      },
      "source": [
        "3/2"
      ],
      "execution_count": null,
      "outputs": [
        {
          "output_type": "execute_result",
          "data": {
            "text/plain": [
              "1.5"
            ]
          },
          "metadata": {
            "tags": []
          },
          "execution_count": 3
        }
      ]
    },
    {
      "cell_type": "code",
      "metadata": {
        "colab": {
          "base_uri": "https://localhost:8080/"
        },
        "id": "FBZWWptRiq3v",
        "outputId": "1e919d01-c6c4-409a-ae86-4edbd59c7ae3"
      },
      "source": [
        "3*2"
      ],
      "execution_count": null,
      "outputs": [
        {
          "output_type": "execute_result",
          "data": {
            "text/plain": [
              "6"
            ]
          },
          "metadata": {
            "tags": []
          },
          "execution_count": 4
        }
      ]
    },
    {
      "cell_type": "code",
      "metadata": {
        "colab": {
          "base_uri": "https://localhost:8080/"
        },
        "id": "jXTxQavTiquv",
        "outputId": "a7d644ed-e538-426f-97b6-8dd2d9a0c2e6"
      },
      "source": [
        "3**2"
      ],
      "execution_count": null,
      "outputs": [
        {
          "output_type": "execute_result",
          "data": {
            "text/plain": [
              "9"
            ]
          },
          "metadata": {
            "tags": []
          },
          "execution_count": 5
        }
      ]
    },
    {
      "cell_type": "code",
      "metadata": {
        "colab": {
          "base_uri": "https://localhost:8080/"
        },
        "id": "FUOfyZDsiqrz",
        "outputId": "1a05f732-654d-419d-a1e7-27d55902645a"
      },
      "source": [
        "3%2"
      ],
      "execution_count": null,
      "outputs": [
        {
          "output_type": "execute_result",
          "data": {
            "text/plain": [
              "1"
            ]
          },
          "metadata": {
            "tags": []
          },
          "execution_count": 6
        }
      ]
    },
    {
      "cell_type": "code",
      "metadata": {
        "colab": {
          "base_uri": "https://localhost:8080/"
        },
        "id": "u5LkZqCdi2-G",
        "outputId": "5ef17904-d6a6-4fc4-b243-477535817d08"
      },
      "source": [
        "3//2"
      ],
      "execution_count": null,
      "outputs": [
        {
          "output_type": "execute_result",
          "data": {
            "text/plain": [
              "1"
            ]
          },
          "metadata": {
            "tags": []
          },
          "execution_count": 7
        }
      ]
    },
    {
      "cell_type": "markdown",
      "metadata": {
        "id": "4D2J6230i6RH"
      },
      "source": [
        "### String operations\n",
        "- How to define string(\"0\", '0', \"\"\"0\"\"\", and '''0''')\n",
        "- Escape codes\n",
        "- Formating \n",
        "- Indexing\n",
        "- String operations(+,*)\n",
        "- String functions(join, split, upper, lower, strip, ...)"
      ]
    },
    {
      "cell_type": "code",
      "metadata": {
        "colab": {
          "base_uri": "https://localhost:8080/"
        },
        "id": "x4yg2zkxm6Ec",
        "outputId": "6e62a2a5-4ddc-4ec6-98e3-693cef49b024"
      },
      "source": [
        "str = '''Kevin said \"hi Jin\"'''\n",
        "print(str)"
      ],
      "execution_count": null,
      "outputs": [
        {
          "output_type": "stream",
          "text": [
            "Kevin said \"hi Jin\"\n"
          ],
          "name": "stdout"
        }
      ]
    },
    {
      "cell_type": "code",
      "metadata": {
        "colab": {
          "base_uri": "https://localhost:8080/"
        },
        "id": "8LxtIP0ojIMO",
        "outputId": "a31fba4e-c3bb-4ef9-9471-b130d40c5fe4"
      },
      "source": [
        "str = \"this is\\na string\"\n",
        "print(str)"
      ],
      "execution_count": null,
      "outputs": [
        {
          "output_type": "stream",
          "text": [
            "this is\n",
            "a string\n"
          ],
          "name": "stdout"
        }
      ]
    },
    {
      "cell_type": "code",
      "metadata": {
        "colab": {
          "base_uri": "https://localhost:8080/",
          "height": 35
        },
        "id": "LhST6c5Uj_Uo",
        "outputId": "721a06e9-251f-40de-a40f-15338a56b530"
      },
      "source": [
        "a = \"40\"\n",
        "\"varible a : {}\".format(a)"
      ],
      "execution_count": null,
      "outputs": [
        {
          "output_type": "execute_result",
          "data": {
            "application/vnd.google.colaboratory.intrinsic+json": {
              "type": "string"
            },
            "text/plain": [
              "'varible a : 40'"
            ]
          },
          "metadata": {
            "tags": []
          },
          "execution_count": 14
        }
      ]
    },
    {
      "cell_type": "code",
      "metadata": {
        "colab": {
          "base_uri": "https://localhost:8080/",
          "height": 35
        },
        "id": "hbipyG21j8Nc",
        "outputId": "6075acaa-f46d-4fb6-ba9a-cf23ae52c01f"
      },
      "source": [
        "str = \"aabccd\"\n",
        "str[1:3]"
      ],
      "execution_count": null,
      "outputs": [
        {
          "output_type": "execute_result",
          "data": {
            "application/vnd.google.colaboratory.intrinsic+json": {
              "type": "string"
            },
            "text/plain": [
              "'ab'"
            ]
          },
          "metadata": {
            "tags": []
          },
          "execution_count": 13
        }
      ]
    },
    {
      "cell_type": "code",
      "metadata": {
        "colab": {
          "base_uri": "https://localhost:8080/",
          "height": 35
        },
        "id": "_1fp3S25jeUh",
        "outputId": "37f93dc3-3160-4e19-b8db-231730987876"
      },
      "source": [
        "str1 = \"aab\" \n",
        "str2 = \"ccd\"\n",
        "str1+str2"
      ],
      "execution_count": null,
      "outputs": [
        {
          "output_type": "execute_result",
          "data": {
            "application/vnd.google.colaboratory.intrinsic+json": {
              "type": "string"
            },
            "text/plain": [
              "'aabccd'"
            ]
          },
          "metadata": {
            "tags": []
          },
          "execution_count": 11
        }
      ]
    },
    {
      "cell_type": "code",
      "metadata": {
        "colab": {
          "base_uri": "https://localhost:8080/",
          "height": 35
        },
        "id": "2ROvNfAbjqST",
        "outputId": "4b56fa9f-f869-4bd0-afcf-fdeeceefe116"
      },
      "source": [
        "str1*3"
      ],
      "execution_count": null,
      "outputs": [
        {
          "output_type": "execute_result",
          "data": {
            "application/vnd.google.colaboratory.intrinsic+json": {
              "type": "string"
            },
            "text/plain": [
              "'aabaabaab'"
            ]
          },
          "metadata": {
            "tags": []
          },
          "execution_count": 12
        }
      ]
    },
    {
      "cell_type": "code",
      "metadata": {
        "colab": {
          "base_uri": "https://localhost:8080/",
          "height": 35
        },
        "id": "kUh5DJ69kGs0",
        "outputId": "9ec9afb5-2274-48be-8a45-4f4eb0ae64d3"
      },
      "source": [
        "alist = [\"a\",\"b\",\"c\"]\n",
        "b = \" \".join(alist)\n",
        "b"
      ],
      "execution_count": null,
      "outputs": [
        {
          "output_type": "execute_result",
          "data": {
            "application/vnd.google.colaboratory.intrinsic+json": {
              "type": "string"
            },
            "text/plain": [
              "'a b c'"
            ]
          },
          "metadata": {
            "tags": []
          },
          "execution_count": 15
        }
      ]
    },
    {
      "cell_type": "code",
      "metadata": {
        "colab": {
          "base_uri": "https://localhost:8080/"
        },
        "id": "hJGwpv1okP-0",
        "outputId": "4501f21d-ba4a-4aae-85b7-b1c07731076e"
      },
      "source": [
        "b.split()"
      ],
      "execution_count": null,
      "outputs": [
        {
          "output_type": "execute_result",
          "data": {
            "text/plain": [
              "['a', 'b', 'c']"
            ]
          },
          "metadata": {
            "tags": []
          },
          "execution_count": 20
        }
      ]
    },
    {
      "cell_type": "code",
      "metadata": {
        "colab": {
          "base_uri": "https://localhost:8080/",
          "height": 35
        },
        "id": "EdlCw6PMkP6G",
        "outputId": "5be7033d-28a0-451f-cb2b-b9591627f002"
      },
      "source": [
        "b.upper()"
      ],
      "execution_count": null,
      "outputs": [
        {
          "output_type": "execute_result",
          "data": {
            "application/vnd.google.colaboratory.intrinsic+json": {
              "type": "string"
            },
            "text/plain": [
              "'A B C'"
            ]
          },
          "metadata": {
            "tags": []
          },
          "execution_count": 17
        }
      ]
    },
    {
      "cell_type": "markdown",
      "metadata": {
        "id": "xp0NqojGkotM"
      },
      "source": [
        "### List\n",
        "  - How to define a list\n",
        "  - Indexing\n",
        "  - List operations (+, *, len )\n",
        "  - List functions(append, sort, reverse, ...)"
      ]
    },
    {
      "cell_type": "code",
      "metadata": {
        "colab": {
          "base_uri": "https://localhost:8080/"
        },
        "id": "-ELATLlolSHa",
        "outputId": "0b32c8d8-db5e-4b61-bc0c-53fd02334544"
      },
      "source": [
        "a = [1,2, [1,2], [1,2,[1,2,3]]]\n",
        "a[3][2][0]"
      ],
      "execution_count": null,
      "outputs": [
        {
          "output_type": "execute_result",
          "data": {
            "text/plain": [
              "1"
            ]
          },
          "metadata": {
            "tags": []
          },
          "execution_count": 21
        }
      ]
    },
    {
      "cell_type": "code",
      "metadata": {
        "colab": {
          "base_uri": "https://localhost:8080/"
        },
        "id": "HCf2YjJRlfXO",
        "outputId": "766fe0f7-e796-4346-899d-14596247326d"
      },
      "source": [
        "len(a)"
      ],
      "execution_count": null,
      "outputs": [
        {
          "output_type": "execute_result",
          "data": {
            "text/plain": [
              "4"
            ]
          },
          "metadata": {
            "tags": []
          },
          "execution_count": 22
        }
      ]
    },
    {
      "cell_type": "code",
      "metadata": {
        "colab": {
          "base_uri": "https://localhost:8080/"
        },
        "id": "7D81QsNmlisY",
        "outputId": "2081a7f2-b1b1-4133-b67d-fcb36a876063"
      },
      "source": [
        "b = ['a', 'b', 'c']\n",
        "a+b"
      ],
      "execution_count": null,
      "outputs": [
        {
          "output_type": "execute_result",
          "data": {
            "text/plain": [
              "[1, 2, [1, 2], [1, 2, [1, 2, 3]], 'a', 'b', 'c']"
            ]
          },
          "metadata": {
            "tags": []
          },
          "execution_count": 23
        }
      ]
    },
    {
      "cell_type": "code",
      "metadata": {
        "colab": {
          "base_uri": "https://localhost:8080/"
        },
        "id": "d2coD1ILlwnB",
        "outputId": "bccbf362-4860-40f9-c617-e2e7b5a729b5"
      },
      "source": [
        "b*3"
      ],
      "execution_count": null,
      "outputs": [
        {
          "output_type": "execute_result",
          "data": {
            "text/plain": [
              "['a', 'b', 'c', 'a', 'b', 'c', 'a', 'b', 'c']"
            ]
          },
          "metadata": {
            "tags": []
          },
          "execution_count": 24
        }
      ]
    },
    {
      "cell_type": "code",
      "metadata": {
        "colab": {
          "base_uri": "https://localhost:8080/"
        },
        "id": "sAuChW3qlzoU",
        "outputId": "947af0ac-e6fe-487a-c148-b0d24594859f"
      },
      "source": [
        "c = [1,2,3,4,0,-1]\n",
        "c.sort()\n",
        "c"
      ],
      "execution_count": null,
      "outputs": [
        {
          "output_type": "execute_result",
          "data": {
            "text/plain": [
              "[-1, 0, 1, 2, 3, 4]"
            ]
          },
          "metadata": {
            "tags": []
          },
          "execution_count": 26
        }
      ]
    },
    {
      "cell_type": "code",
      "metadata": {
        "colab": {
          "base_uri": "https://localhost:8080/"
        },
        "id": "HmL4kmiNl-Nv",
        "outputId": "2964c22c-af01-454d-d021-33bff616f94d"
      },
      "source": [
        "c.append(10)\n",
        "c"
      ],
      "execution_count": null,
      "outputs": [
        {
          "output_type": "execute_result",
          "data": {
            "text/plain": [
              "[-1, 0, 1, 2, 3, 4, 10]"
            ]
          },
          "metadata": {
            "tags": []
          },
          "execution_count": 27
        }
      ]
    },
    {
      "cell_type": "code",
      "metadata": {
        "colab": {
          "base_uri": "https://localhost:8080/"
        },
        "id": "bJjGdh3qmihi",
        "outputId": "3e26ea0e-bfd6-48ba-e91c-c13fd1119623"
      },
      "source": [
        "c.reverse()\n",
        "c"
      ],
      "execution_count": null,
      "outputs": [
        {
          "output_type": "execute_result",
          "data": {
            "text/plain": [
              "[10, 4, 3, 2, 1, 0, -1]"
            ]
          },
          "metadata": {
            "tags": []
          },
          "execution_count": 28
        }
      ]
    },
    {
      "cell_type": "markdown",
      "metadata": {
        "id": "rAkqv7XCmnEZ"
      },
      "source": [
        "### Dictionary\n",
        "- How to define a dictionary\n",
        "- Indexing\n",
        "- Editing\n",
        "- Dictionary functions(keys, values, items, get(※), in)"
      ]
    },
    {
      "cell_type": "code",
      "metadata": {
        "colab": {
          "base_uri": "https://localhost:8080/",
          "height": 35
        },
        "id": "tQpS8NxDmn3Z",
        "outputId": "0928b364-1312-42d2-9e4a-23d0b3afbe06"
      },
      "source": [
        "dic = {'name':'pey', 'phone':'0119993323', 'birth': '1118'}\n",
        "dic['birth']"
      ],
      "execution_count": null,
      "outputs": [
        {
          "output_type": "execute_result",
          "data": {
            "application/vnd.google.colaboratory.intrinsic+json": {
              "type": "string"
            },
            "text/plain": [
              "'1118'"
            ]
          },
          "metadata": {
            "tags": []
          },
          "execution_count": 29
        }
      ]
    },
    {
      "cell_type": "code",
      "metadata": {
        "colab": {
          "base_uri": "https://localhost:8080/"
        },
        "id": "yKnh22zQmv5X",
        "outputId": "8833c919-1840-4586-c4aa-b27c796e2b27"
      },
      "source": [
        "dic['newkey1'] = 123\n",
        "dic"
      ],
      "execution_count": null,
      "outputs": [
        {
          "output_type": "execute_result",
          "data": {
            "text/plain": [
              "{'birth': '1118', 'name': 'pey', 'newkey1': 123, 'phone': '0119993323'}"
            ]
          },
          "metadata": {
            "tags": []
          },
          "execution_count": 30
        }
      ]
    },
    {
      "cell_type": "code",
      "metadata": {
        "colab": {
          "base_uri": "https://localhost:8080/"
        },
        "id": "IMgmRs_imz_s",
        "outputId": "871bdb77-abaa-433b-a2f7-68ceae1bd494"
      },
      "source": [
        "dic.keys()"
      ],
      "execution_count": null,
      "outputs": [
        {
          "output_type": "execute_result",
          "data": {
            "text/plain": [
              "dict_keys(['name', 'phone', 'birth', 'newkey1'])"
            ]
          },
          "metadata": {
            "tags": []
          },
          "execution_count": 36
        }
      ]
    },
    {
      "cell_type": "code",
      "metadata": {
        "colab": {
          "base_uri": "https://localhost:8080/"
        },
        "id": "ep0hoDifpMY7",
        "outputId": "df9d61fb-52ed-469b-dde5-3c6b247c82c0"
      },
      "source": [
        "dic.values()"
      ],
      "execution_count": null,
      "outputs": [
        {
          "output_type": "execute_result",
          "data": {
            "text/plain": [
              "dict_values(['pey', '0119993323', '1118', 123])"
            ]
          },
          "metadata": {
            "tags": []
          },
          "execution_count": 37
        }
      ]
    },
    {
      "cell_type": "code",
      "metadata": {
        "colab": {
          "base_uri": "https://localhost:8080/"
        },
        "id": "sG6OyXrmpO_x",
        "outputId": "2291e3c9-b86a-4211-d0f9-694e433c14d3"
      },
      "source": [
        "dic.items()"
      ],
      "execution_count": null,
      "outputs": [
        {
          "output_type": "execute_result",
          "data": {
            "text/plain": [
              "dict_items([('name', 'pey'), ('phone', '0119993323'), ('birth', '1118'), ('newkey1', 123)])"
            ]
          },
          "metadata": {
            "tags": []
          },
          "execution_count": 38
        }
      ]
    },
    {
      "cell_type": "code",
      "metadata": {
        "colab": {
          "base_uri": "https://localhost:8080/",
          "height": 35
        },
        "id": "8UApc33ipa8X",
        "outputId": "db21a130-272e-4171-81e8-4a2bae587c87"
      },
      "source": [
        "dic.get('name')"
      ],
      "execution_count": null,
      "outputs": [
        {
          "output_type": "execute_result",
          "data": {
            "application/vnd.google.colaboratory.intrinsic+json": {
              "type": "string"
            },
            "text/plain": [
              "'pey'"
            ]
          },
          "metadata": {
            "tags": []
          },
          "execution_count": 39
        }
      ]
    },
    {
      "cell_type": "code",
      "metadata": {
        "colab": {
          "base_uri": "https://localhost:8080/",
          "height": 169
        },
        "id": "G9eYSbTGpm-h",
        "outputId": "93cfcc1e-cc82-4210-e7cc-cfaffcc17ec7"
      },
      "source": [
        "dic['namename']"
      ],
      "execution_count": null,
      "outputs": [
        {
          "output_type": "error",
          "ename": "KeyError",
          "evalue": "ignored",
          "traceback": [
            "\u001b[0;31m---------------------------------------------------------------------------\u001b[0m",
            "\u001b[0;31mKeyError\u001b[0m                                  Traceback (most recent call last)",
            "\u001b[0;32m<ipython-input-42-55b3bd297c64>\u001b[0m in \u001b[0;36m<module>\u001b[0;34m()\u001b[0m\n\u001b[0;32m----> 1\u001b[0;31m \u001b[0mdic\u001b[0m\u001b[0;34m[\u001b[0m\u001b[0;34m'namename'\u001b[0m\u001b[0;34m]\u001b[0m\u001b[0;34m\u001b[0m\u001b[0;34m\u001b[0m\u001b[0m\n\u001b[0m",
            "\u001b[0;31mKeyError\u001b[0m: 'namename'"
          ]
        }
      ]
    },
    {
      "cell_type": "code",
      "metadata": {
        "id": "ciPoLK52pd2v"
      },
      "source": [
        "dic.get('namename')"
      ],
      "execution_count": null,
      "outputs": []
    },
    {
      "cell_type": "code",
      "metadata": {
        "colab": {
          "base_uri": "https://localhost:8080/"
        },
        "id": "qJzFnRvbqDnT",
        "outputId": "77a64610-abcb-4479-d1b0-a2a22221fec3"
      },
      "source": [
        "'name' in ['name', 'aaa']"
      ],
      "execution_count": null,
      "outputs": [
        {
          "output_type": "execute_result",
          "data": {
            "text/plain": [
              "True"
            ]
          },
          "metadata": {
            "tags": []
          },
          "execution_count": 43
        }
      ]
    },
    {
      "cell_type": "markdown",
      "metadata": {
        "id": "OsxXgf7VqHhj"
      },
      "source": [
        "### Chapter 2 practice\n",
        "\n",
        "1) Remove duplicates\n",
        "``` python \n",
        ">>> a = [1, 1, 1, 2, 2, 3, 3, 3, 4, 4, 5]\n",
        "```\n",
        "\n",
        "2) How to extract 'A' and 'B' from the list 'a'?\n",
        "``` python\n",
        ">>> a = {'A':90, 'B':80, 'C':70}\n",
        "```\n",
        "\n",
        "3) What is the result? \n",
        "``` python\n",
        ">>> a = b = [1, 2, 3]\n",
        ">>> a[1] = 4\n",
        ">>> print(b)\n",
        "```"
      ]
    },
    {
      "cell_type": "code",
      "metadata": {
        "colab": {
          "base_uri": "https://localhost:8080/"
        },
        "id": "EQi-z1NQqOxI",
        "outputId": "fa7db308-28c0-4987-9f84-e8b4082514d8"
      },
      "source": [
        "a = [1, 1, 1, 2, 2, 3, 3, 3, 4, 4, 5]\n",
        "list(set(a))"
      ],
      "execution_count": null,
      "outputs": [
        {
          "output_type": "execute_result",
          "data": {
            "text/plain": [
              "[1, 2, 3, 4, 5]"
            ]
          },
          "metadata": {
            "tags": []
          },
          "execution_count": 44
        }
      ]
    },
    {
      "cell_type": "code",
      "metadata": {
        "colab": {
          "base_uri": "https://localhost:8080/"
        },
        "id": "2BRKi-bXqTDS",
        "outputId": "db9e68dd-f1fb-46a6-af9a-4d15c50faf93"
      },
      "source": [
        "a = {'A':90, 'B':80, 'C':70}\n",
        "a['A']"
      ],
      "execution_count": null,
      "outputs": [
        {
          "output_type": "execute_result",
          "data": {
            "text/plain": [
              "90"
            ]
          },
          "metadata": {
            "tags": []
          },
          "execution_count": 45
        }
      ]
    },
    {
      "cell_type": "code",
      "metadata": {
        "colab": {
          "base_uri": "https://localhost:8080/"
        },
        "id": "ZkAoPlXTqctn",
        "outputId": "dc520a76-a5b2-4a0f-9869-ef92c5da4837"
      },
      "source": [
        "a = b = [1, 2, 3]\n",
        "a[1] = 4\n",
        "print(b)\n",
        "\n",
        "a = [1,2,3]\n",
        "b = a.copy()\n",
        "a[1] = 4\n",
        "print(b)"
      ],
      "execution_count": null,
      "outputs": [
        {
          "output_type": "stream",
          "text": [
            "[1, 4, 3]\n",
            "[1, 2, 3]\n"
          ],
          "name": "stdout"
        }
      ]
    },
    {
      "cell_type": "markdown",
      "metadata": {
        "id": "Epx5O9Z0qgCR"
      },
      "source": [
        "## Chapter 3\n",
        "[Jump to python ch3](https://wikidocs.net/19)"
      ]
    },
    {
      "cell_type": "markdown",
      "metadata": {
        "id": "yFydUmwXqspV"
      },
      "source": [
        "### If else "
      ]
    },
    {
      "cell_type": "code",
      "metadata": {
        "colab": {
          "base_uri": "https://localhost:8080/"
        },
        "id": "D1LYu4oaqvwc",
        "outputId": "38a85f08-118c-4dfe-c2ec-d754ff2baec0"
      },
      "source": [
        "if 1 :\n",
        "    print(\"true\")\n",
        "else :\n",
        "    print(\"not true\")\n",
        "\n",
        "if 0 :\n",
        "    print(\"true\")\n",
        "else :\n",
        "    print(\"not true\")"
      ],
      "execution_count": null,
      "outputs": [
        {
          "output_type": "stream",
          "text": [
            "true\n",
            "not true\n"
          ],
          "name": "stdout"
        }
      ]
    },
    {
      "cell_type": "code",
      "metadata": {
        "colab": {
          "base_uri": "https://localhost:8080/"
        },
        "id": "_fQxA01mrCA6",
        "outputId": "22e843ac-3ca7-42a5-ff89-cb10875d76f3"
      },
      "source": [
        "a = 10; b = 0\n",
        "if a > 0 or b > 2 :\n",
        "  print(\"true\")\n",
        "else :\n",
        "  print(\"not true\")"
      ],
      "execution_count": null,
      "outputs": [
        {
          "output_type": "stream",
          "text": [
            "true\n"
          ],
          "name": "stdout"
        }
      ]
    },
    {
      "cell_type": "markdown",
      "metadata": {
        "id": "mED5p6zorZsM"
      },
      "source": [
        "### For loop"
      ]
    },
    {
      "cell_type": "code",
      "metadata": {
        "colab": {
          "base_uri": "https://localhost:8080/"
        },
        "id": "8r4WBjrarcSJ",
        "outputId": "9ee174df-04eb-49b6-a468-807393997745"
      },
      "source": [
        "for i in range(5) :\n",
        "    print(i)"
      ],
      "execution_count": null,
      "outputs": [
        {
          "output_type": "stream",
          "text": [
            "0\n",
            "1\n",
            "2\n",
            "3\n",
            "4\n"
          ],
          "name": "stdout"
        }
      ]
    },
    {
      "cell_type": "code",
      "metadata": {
        "colab": {
          "base_uri": "https://localhost:8080/"
        },
        "id": "BTy6zTEKrg-w",
        "outputId": "3f835b07-d831-4092-983f-6023f2a49f5d"
      },
      "source": [
        "listofnames = ['Tom', 'Jane', 'Karl']\n",
        "for name in listofnames :\n",
        "    print(name)"
      ],
      "execution_count": null,
      "outputs": [
        {
          "output_type": "stream",
          "text": [
            "Tom\n",
            "Jane\n",
            "Karl\n"
          ],
          "name": "stdout"
        }
      ]
    },
    {
      "cell_type": "code",
      "metadata": {
        "colab": {
          "base_uri": "https://localhost:8080/"
        },
        "id": "sPpNCQrQrsNK",
        "outputId": "1c605bad-9e37-4995-b5c7-4f6d084d3cdf"
      },
      "source": [
        "for (key,value) in dic.items() :\n",
        "    print(key, value)"
      ],
      "execution_count": null,
      "outputs": [
        {
          "output_type": "stream",
          "text": [
            "name pey\n",
            "phone 0119993323\n",
            "birth 1118\n",
            "newkey1 123\n"
          ],
          "name": "stdout"
        }
      ]
    },
    {
      "cell_type": "markdown",
      "metadata": {
        "id": "fWDzY9vxrvM-"
      },
      "source": [
        "### Chapter 3 Practice \n",
        "\n",
        "1) Interprete the code below. What is the result?\n",
        "``` python\n",
        "a = \"Life is too short, you need python\"\n",
        "\n",
        "if \"wife\" in a: print(\"wife\")\n",
        "elif \"python\" in a and \"you\" not in a: print(\"python\")\n",
        "elif \"shirt\" not in a: print(\"shirt\")\n",
        "elif \"need\" in a: print(\"need\")\n",
        "else: print(\"none\")\n",
        "```\n",
        "\n",
        "2) print numbers 1 to 100 using for loop\n",
        "\n",
        "3) Do the same thing Using list compression \n",
        "``` python\n",
        "numbers = [1, 2, 3, 4, 5]\n",
        "result = []\n",
        "for n in numbers:\n",
        "    if n % 2 == 1:\n",
        "        result.append(n*2)\n",
        "```"
      ]
    },
    {
      "cell_type": "code",
      "metadata": {
        "colab": {
          "base_uri": "https://localhost:8080/"
        },
        "id": "ywTzDDTVr22h",
        "outputId": "a5840200-4ec9-4837-f9c8-424e6510b97a"
      },
      "source": [
        "a = \"Life is too short, you need python\"\n",
        " \n",
        "if \"wife\" in a: print(\"wife\")\n",
        "elif \"python\" in a and \"you\" not in a: print(\"python\")\n",
        "elif \"shirt\" not in a: print(\"shirt\")\n",
        "elif \"need\" in a: print(\"need\")\n",
        "else: print(\"none\")"
      ],
      "execution_count": null,
      "outputs": [
        {
          "output_type": "stream",
          "text": [
            "shirt\n"
          ],
          "name": "stdout"
        }
      ]
    },
    {
      "cell_type": "code",
      "metadata": {
        "colab": {
          "base_uri": "https://localhost:8080/"
        },
        "id": "R1UCpzCcsFsI",
        "outputId": "bad652dc-0f29-4c18-eef3-a286d25e0ed2"
      },
      "source": [
        "for i in range(1,101):\n",
        "    print(i, end=', ')"
      ],
      "execution_count": null,
      "outputs": [
        {
          "output_type": "stream",
          "text": [
            "1, 2, 3, 4, 5, 6, 7, 8, 9, 10, 11, 12, 13, 14, 15, 16, 17, 18, 19, 20, 21, 22, 23, 24, 25, 26, 27, 28, 29, 30, 31, 32, 33, 34, 35, 36, 37, 38, 39, 40, 41, 42, 43, 44, 45, 46, 47, 48, 49, 50, 51, 52, 53, 54, 55, 56, 57, 58, 59, 60, 61, 62, 63, 64, 65, 66, 67, 68, 69, 70, 71, 72, 73, 74, 75, 76, 77, 78, 79, 80, 81, 82, 83, 84, 85, 86, 87, 88, 89, 90, 91, 92, 93, 94, 95, 96, 97, 98, 99, 100, "
          ],
          "name": "stdout"
        }
      ]
    },
    {
      "cell_type": "code",
      "metadata": {
        "colab": {
          "base_uri": "https://localhost:8080/"
        },
        "id": "3FDAEwyAsmQj",
        "outputId": "75bd316d-4553-4be1-e099-93ac277e6c81"
      },
      "source": [
        "numbers = [1, 2, 3, 4, 5]\n",
        "result = []\n",
        "for n in numbers:\n",
        "    if n % 2 == 1:\n",
        "        result.append(n*2)\n",
        "result"
      ],
      "execution_count": null,
      "outputs": [
        {
          "output_type": "execute_result",
          "data": {
            "text/plain": [
              "[2, 6, 10]"
            ]
          },
          "metadata": {
            "tags": []
          },
          "execution_count": 72
        }
      ]
    },
    {
      "cell_type": "code",
      "metadata": {
        "colab": {
          "base_uri": "https://localhost:8080/"
        },
        "id": "QTtYF7kstbSM",
        "outputId": "12f8efe5-6d67-47e1-d0d4-649f39d9c6e5"
      },
      "source": [
        "[n*2 if n%2 == 1 else n*2+1 for n in numbers]"
      ],
      "execution_count": null,
      "outputs": [
        {
          "output_type": "execute_result",
          "data": {
            "text/plain": [
              "[2, 5, 6, 9, 10]"
            ]
          },
          "metadata": {
            "tags": []
          },
          "execution_count": 76
        }
      ]
    },
    {
      "cell_type": "markdown",
      "metadata": {
        "id": "q5vHBe0WtvxZ"
      },
      "source": [
        "## Chapter 4 \n",
        "\n",
        "[Jump to python ch4](https://wikidocs.net/26)"
      ]
    },
    {
      "cell_type": "markdown",
      "metadata": {
        "id": "OBeThrEEt1Dx"
      },
      "source": [
        "### Function"
      ]
    },
    {
      "cell_type": "code",
      "metadata": {
        "colab": {
          "base_uri": "https://localhost:8080/"
        },
        "id": "MvLnb_Bvt3L7",
        "outputId": "89b4fcd1-9fb9-44b4-d620-1ea567fd9bd3"
      },
      "source": [
        "def add(a, b):\n",
        "    return a+b\n",
        "print(add(3, 4))"
      ],
      "execution_count": null,
      "outputs": [
        {
          "output_type": "stream",
          "text": [
            "7\n"
          ],
          "name": "stdout"
        }
      ]
    },
    {
      "cell_type": "markdown",
      "metadata": {
        "id": "-83Er64XuEI8"
      },
      "source": [
        "### File read and write"
      ]
    },
    {
      "cell_type": "code",
      "metadata": {
        "id": "jjFAt9ZhuE-u"
      },
      "source": [
        "with open('ids.txt', 'w') as f :\n",
        "    f.write('ID\\nJohn\\nKarl\\nAndy\\nTim\\n')"
      ],
      "execution_count": null,
      "outputs": []
    },
    {
      "cell_type": "code",
      "metadata": {
        "id": "Jy1GLqRZw_5b"
      },
      "source": [
        "with open('data1.txt', 'w') as f :\n",
        "    f.write('ID\\tfield1\\tfield2\\tfield3\\nTom\\t1\\t3\\t1\\nJohn\\t1\\t3\\t3\\nTom\\t1\\t1\\t1\\nKarl\\t1\\t1\\t2\\nKarl\\t1\\t3\\t2\\nKarl\\t2\\t2\\t2\\nAndy\\t1\\t2\\t3')"
      ],
      "execution_count": null,
      "outputs": []
    },
    {
      "cell_type": "code",
      "metadata": {
        "id": "XtTdQtg1w_i-"
      },
      "source": [
        "with open('data2.txt', 'w') as f :\n",
        "    f.write('ID\\tfield1\\tfield2\\tfield3\\nTom\\t2\\t3\\t1\\nJane\\t1\\t1\\t3\\nJane\\t2\\t2\\t1\\nMax\\t3\\t1\\t2\\nKarl\\t1\\t4\\t2\\nMax\\t3\\t2\\t2\\nMax\\t2\\t2\\t1\\nTom\\t2\\t3\\t1\\nJane\\t1\\t1\\t3\\nJane\\t2\\t2\\t1\\nMax\\t3\\t1\\t2\\nKarl\\t1\\t4\\t2\\nMax\\t3\\t2\\t2\\nMax\\t2\\t2\\t1')"
      ],
      "execution_count": null,
      "outputs": []
    },
    {
      "cell_type": "markdown",
      "metadata": {
        "id": "qc-o2Vr8xKme"
      },
      "source": [
        "#### Read Data"
      ]
    },
    {
      "cell_type": "code",
      "metadata": {
        "colab": {
          "base_uri": "https://localhost:8080/"
        },
        "id": "SLpKf5i8xPFZ",
        "outputId": "f1301f92-8ddc-457d-a9c2-e1e0b9743372"
      },
      "source": [
        "ids = []\n",
        "with open('ids.txt', 'r') as f :\n",
        "    for line in f :\n",
        "        print(line)\n",
        "        ids.append(line.strip())\n",
        "ids"
      ],
      "execution_count": null,
      "outputs": [
        {
          "output_type": "stream",
          "text": [
            "ID\n",
            "\n",
            "John\n",
            "\n",
            "Karl\n",
            "\n",
            "Andy\n",
            "\n",
            "Tim\n",
            "\n"
          ],
          "name": "stdout"
        },
        {
          "output_type": "execute_result",
          "data": {
            "text/plain": [
              "['ID', 'John', 'Karl', 'Andy', 'Tim']"
            ]
          },
          "metadata": {
            "tags": []
          },
          "execution_count": 83
        }
      ]
    },
    {
      "cell_type": "code",
      "metadata": {
        "colab": {
          "base_uri": "https://localhost:8080/"
        },
        "id": "3a4I34ajxkUa",
        "outputId": "05ee8a67-ab26-4a0a-8309-320f4164e1b5"
      },
      "source": [
        "ids = []\n",
        "V1s = []\n",
        "with open('data1.txt', 'r', encoding='utf-8') as f :\n",
        "    for item in f :\n",
        "        print(item)\n",
        "        ID, field1, _, _ = item.strip().split()\n",
        "        ids.append(ID)\n",
        "        V1s.append(field1)\n",
        "ID\n",
        "V1s"
      ],
      "execution_count": null,
      "outputs": [
        {
          "output_type": "stream",
          "text": [
            "ID\tfield1\tfield2\tfield3\n",
            "\n",
            "Tom\t1\t3\t1\n",
            "\n",
            "John\t1\t3\t3\n",
            "\n",
            "Tom\t1\t1\t1\n",
            "\n",
            "Karl\t1\t1\t2\n",
            "\n",
            "Karl\t1\t3\t2\n",
            "\n",
            "Karl\t2\t2\t2\n",
            "\n",
            "Andy\t1\t2\t3\n"
          ],
          "name": "stdout"
        },
        {
          "output_type": "execute_result",
          "data": {
            "text/plain": [
              "['field1', '1', '1', '1', '1', '1', '2', '1']"
            ]
          },
          "metadata": {
            "tags": []
          },
          "execution_count": 94
        }
      ]
    },
    {
      "cell_type": "markdown",
      "metadata": {
        "id": "_TEJgUxUwjTh"
      },
      "source": [
        "* split() 메서드는 whitespace를 기반으로 문자열을 나눈다"
      ]
    },
    {
      "cell_type": "markdown",
      "metadata": {
        "id": "0PHMZo5cxzLq"
      },
      "source": [
        "## Data Generator\n",
        "Do not load all data into the memory\n",
        "\n",
        "Feed data from file using generator"
      ]
    },
    {
      "cell_type": "markdown",
      "metadata": {
        "id": "OOT9BkYc1vbz"
      },
      "source": [
        "generator from data file"
      ]
    },
    {
      "cell_type": "code",
      "metadata": {
        "colab": {
          "base_uri": "https://localhost:8080/"
        },
        "id": "CQu5ZMIYx0Th",
        "outputId": "5433ea65-9d4b-4704-9d83-d0c58b26c798"
      },
      "source": [
        "import sys\n",
        "fnm = 'data2.txt'\n",
        "def fgenerator(fnm, iter_option = 0) :\n",
        "    with open(fnm, 'r', encoding='utf-8') as f :\n",
        "        for idx, item in enumerate(f) :\n",
        "            ID, V1, V2, V3 = item.strip().split()\n",
        "            if iter_option == 0 :\n",
        "                yield ID\n",
        "            elif iter_option == 1 :\n",
        "                yield V1\n",
        "            elif iter_option == 2 :\n",
        "                yield V2\n",
        "            else :\n",
        "                yield V3\n",
        "\n",
        "gen_from_file = fgenerator(fnm)\n",
        "for i in gen_from_file :\n",
        "    print(i)"
      ],
      "execution_count": null,
      "outputs": [
        {
          "output_type": "stream",
          "text": [
            "ID\n",
            "Tom\n",
            "Jane\n",
            "Jane\n",
            "Max\n",
            "Karl\n",
            "Max\n",
            "Max\n",
            "Tom\n",
            "Jane\n",
            "Jane\n",
            "Max\n",
            "Karl\n",
            "Max\n",
            "Max\n"
          ],
          "name": "stdout"
        }
      ]
    },
    {
      "cell_type": "code",
      "metadata": {
        "colab": {
          "base_uri": "https://localhost:8080/"
        },
        "id": "LzhJAUqUyy5V",
        "outputId": "f93c990a-2701-4974-b56e-221ded24e0d3"
      },
      "source": [
        "sys.getsizeof(gen_from_file)"
      ],
      "execution_count": null,
      "outputs": [
        {
          "output_type": "execute_result",
          "data": {
            "text/plain": [
              "128"
            ]
          },
          "metadata": {
            "tags": []
          },
          "execution_count": 87
        }
      ]
    },
    {
      "cell_type": "code",
      "metadata": {
        "colab": {
          "base_uri": "https://localhost:8080/"
        },
        "id": "iWmUWYH5y9xQ",
        "outputId": "7884beae-7e4f-4d1a-b439-b5b08b559ab7"
      },
      "source": [
        "def freader(fnm, iter_option = 0) :\n",
        "    IDs = []\n",
        "    with open(fnm, 'r', encoding='utf-8') as f :\n",
        "        for idx, item in enumerate(f) :\n",
        "            ID, V1, V2, V3 = item.strip().split()\n",
        "            if iter_option == 0 :\n",
        "                IDs.append(ID)\n",
        "            elif iter_option == 1 :\n",
        "                IDs.append(V1)\n",
        "            elif iter_option == 2 :\n",
        "                IDs.append(V2)\n",
        "            else :\n",
        "                IDs.append(V3)\n",
        "    return IDs\n",
        "res = freader(fnm, 0)\n",
        "res"
      ],
      "execution_count": null,
      "outputs": [
        {
          "output_type": "execute_result",
          "data": {
            "text/plain": [
              "['ID',\n",
              " 'Tom',\n",
              " 'Jane',\n",
              " 'Jane',\n",
              " 'Max',\n",
              " 'Karl',\n",
              " 'Max',\n",
              " 'Max',\n",
              " 'Tom',\n",
              " 'Jane',\n",
              " 'Jane',\n",
              " 'Max',\n",
              " 'Karl',\n",
              " 'Max',\n",
              " 'Max']"
            ]
          },
          "metadata": {
            "tags": []
          },
          "execution_count": 91
        }
      ]
    },
    {
      "cell_type": "code",
      "metadata": {
        "colab": {
          "base_uri": "https://localhost:8080/"
        },
        "id": "YD6Tw182y9se",
        "outputId": "6d58b916-16e7-4c0a-976f-7919905352a9"
      },
      "source": [
        "sys.getsizeof(res)"
      ],
      "execution_count": null,
      "outputs": [
        {
          "output_type": "execute_result",
          "data": {
            "text/plain": [
              "200"
            ]
          },
          "metadata": {
            "tags": []
          },
          "execution_count": 92
        }
      ]
    },
    {
      "cell_type": "markdown",
      "metadata": {
        "id": "rsfQ_Y2bzNCL"
      },
      "source": [
        "generator with class"
      ]
    },
    {
      "cell_type": "code",
      "metadata": {
        "colab": {
          "base_uri": "https://localhost:8080/"
        },
        "id": "0dxh_pRPzNkI",
        "outputId": "ab1fe887-e942-4c4d-bd61-3f0034f70b8d"
      },
      "source": [
        "class DataGenerator() : \n",
        "    def __init__(self, fnm, iter_option=0) :\n",
        "        self.fnm = fnm\n",
        "        self.iter_option = iter_option\n",
        "    \n",
        "    def __iter__(self) :\n",
        "        with open(fnm, 'r', encoding='utf-8') as f :\n",
        "            for idx, item in enumerate(f) :\n",
        "                ID, V1, V2, V3 = item.strip().split()\n",
        "                if self.iter_option == 0 :\n",
        "                    yield ID\n",
        "                elif self.iter_option == 1 :\n",
        "                    yield V1\n",
        "                elif self.iter_option == 2 :\n",
        "                    yield V2\n",
        "                else :\n",
        "                    yield V3\n",
        "    \n",
        "    def __len__(self) :\n",
        "        with open(fnm, 'r', encoding='utf-8') as f :\n",
        "            for idx, item in enumerate(f) :\n",
        "                pass\n",
        "            return idx\n",
        "\n",
        "fnm = 'data2.txt'\n",
        "gen1 = DataGenerator(fnm)\n",
        "for idx, item in enumerate(gen1) :\n",
        "    print(item)"
      ],
      "execution_count": null,
      "outputs": [
        {
          "output_type": "stream",
          "text": [
            "ID\n",
            "Tom\n",
            "Jane\n",
            "Jane\n",
            "Max\n",
            "Karl\n",
            "Max\n",
            "Max\n",
            "Tom\n",
            "Jane\n",
            "Jane\n",
            "Max\n",
            "Karl\n",
            "Max\n",
            "Max\n"
          ],
          "name": "stdout"
        }
      ]
    },
    {
      "cell_type": "markdown",
      "metadata": {
        "id": "vvwFjvhwzZRH"
      },
      "source": [
        "## Numpy library\n",
        "\n",
        "- NumPy stands for ‘Numerical Python’ or ‘Numeric Python’.\n",
        "\n",
        "- Provides fast mathematical computation on arrays and matrices"
      ]
    },
    {
      "cell_type": "code",
      "metadata": {
        "id": "mBNUD8vyzd5b"
      },
      "source": [
        "import numpy as np"
      ],
      "execution_count": null,
      "outputs": []
    },
    {
      "cell_type": "markdown",
      "metadata": {
        "id": "wy_vV3tR2obu"
      },
      "source": [
        "###np.array()"
      ]
    },
    {
      "cell_type": "code",
      "metadata": {
        "colab": {
          "base_uri": "https://localhost:8080/"
        },
        "id": "k6XqYlde2xAT",
        "outputId": "3523471d-4eaf-429a-d74b-b2dfcf12ef33"
      },
      "source": [
        "a = np.array([1,2,3,4,5,0])\n",
        "b = [1,2,3,4,5]\n",
        "a + a"
      ],
      "execution_count": null,
      "outputs": [
        {
          "output_type": "execute_result",
          "data": {
            "text/plain": [
              "array([ 2,  4,  6,  8, 10,  0])"
            ]
          },
          "metadata": {
            "tags": []
          },
          "execution_count": 111
        }
      ]
    },
    {
      "cell_type": "code",
      "metadata": {
        "colab": {
          "base_uri": "https://localhost:8080/"
        },
        "id": "vsxwPHhy23fV",
        "outputId": "6f7c3b62-6ff7-4194-e0c5-0c8c4957ec31"
      },
      "source": [
        "b + b"
      ],
      "execution_count": null,
      "outputs": [
        {
          "output_type": "execute_result",
          "data": {
            "text/plain": [
              "[1, 2, 3, 4, 5, 1, 2, 3, 4, 5]"
            ]
          },
          "metadata": {
            "tags": []
          },
          "execution_count": 99
        }
      ]
    },
    {
      "cell_type": "code",
      "metadata": {
        "colab": {
          "base_uri": "https://localhost:8080/"
        },
        "id": "ITcUsKRQ3YnW",
        "outputId": "5505e92e-c76e-472e-9b7b-d29139381f8b"
      },
      "source": [
        "a * a  "
      ],
      "execution_count": null,
      "outputs": [
        {
          "output_type": "execute_result",
          "data": {
            "text/plain": [
              "array([ 1,  4,  9, 16, 25,  0])"
            ]
          },
          "metadata": {
            "tags": []
          },
          "execution_count": 112
        }
      ]
    },
    {
      "cell_type": "code",
      "metadata": {
        "colab": {
          "base_uri": "https://localhost:8080/"
        },
        "id": "UkvmvWF329TI",
        "outputId": "3c6a4ed4-8fb8-4f3c-b26e-010b29e8ed8b"
      },
      "source": [
        "a @ a #dot product"
      ],
      "execution_count": null,
      "outputs": [
        {
          "output_type": "execute_result",
          "data": {
            "text/plain": [
              "55"
            ]
          },
          "metadata": {
            "tags": []
          },
          "execution_count": 100
        }
      ]
    },
    {
      "cell_type": "code",
      "metadata": {
        "colab": {
          "base_uri": "https://localhost:8080/"
        },
        "id": "1Mq7bHch2_L8",
        "outputId": "0078b173-f9f1-4b9d-8b06-8a4eea8dfa60"
      },
      "source": [
        "a.shape"
      ],
      "execution_count": null,
      "outputs": [
        {
          "output_type": "execute_result",
          "data": {
            "text/plain": [
              "(6,)"
            ]
          },
          "metadata": {
            "tags": []
          },
          "execution_count": 101
        }
      ]
    },
    {
      "cell_type": "markdown",
      "metadata": {
        "id": "L2Btw73d3DhV"
      },
      "source": [
        "#### Generating numpy arrays\n",
        "\n",
        "- np.ones()\n",
        "- np.zeros()\n",
        "- np.arange()\n",
        "- np.full()\n"
      ]
    },
    {
      "cell_type": "code",
      "metadata": {
        "colab": {
          "base_uri": "https://localhost:8080/"
        },
        "id": "qNIJ58VR3FHJ",
        "outputId": "2bc0c927-5339-4ea9-fc04-f8b6a09c2aa6"
      },
      "source": [
        "np.ones([2,3])"
      ],
      "execution_count": null,
      "outputs": [
        {
          "output_type": "execute_result",
          "data": {
            "text/plain": [
              "array([[1., 1., 1.],\n",
              "       [1., 1., 1.]])"
            ]
          },
          "metadata": {
            "tags": []
          },
          "execution_count": 102
        }
      ]
    },
    {
      "cell_type": "code",
      "metadata": {
        "colab": {
          "base_uri": "https://localhost:8080/"
        },
        "id": "MLdcAMne3H1P",
        "outputId": "3f86b57c-ef4e-4009-ae01-5cd6e04ad8af"
      },
      "source": [
        "np.zeros([2,2])"
      ],
      "execution_count": null,
      "outputs": [
        {
          "output_type": "execute_result",
          "data": {
            "text/plain": [
              "array([[0., 0.],\n",
              "       [0., 0.]])"
            ]
          },
          "metadata": {
            "tags": []
          },
          "execution_count": 103
        }
      ]
    },
    {
      "cell_type": "code",
      "metadata": {
        "colab": {
          "base_uri": "https://localhost:8080/"
        },
        "id": "hpJu7QD03Jz5",
        "outputId": "14c887b4-56df-425b-bf9d-dd873d92f54f"
      },
      "source": [
        "np.arange(1,10)"
      ],
      "execution_count": null,
      "outputs": [
        {
          "output_type": "execute_result",
          "data": {
            "text/plain": [
              "array([1, 2, 3, 4, 5, 6, 7, 8, 9])"
            ]
          },
          "metadata": {
            "tags": []
          },
          "execution_count": 104
        }
      ]
    },
    {
      "cell_type": "code",
      "metadata": {
        "colab": {
          "base_uri": "https://localhost:8080/"
        },
        "id": "HedJ34LX3L5c",
        "outputId": "d1518b32-20ec-4864-f015-dd1de9941d75"
      },
      "source": [
        "a = np.full([2,3], -1)\n",
        "a"
      ],
      "execution_count": null,
      "outputs": [
        {
          "output_type": "execute_result",
          "data": {
            "text/plain": [
              "array([[-1, -1, -1],\n",
              "       [-1, -1, -1]])"
            ]
          },
          "metadata": {
            "tags": []
          },
          "execution_count": 109
        }
      ]
    },
    {
      "cell_type": "code",
      "metadata": {
        "colab": {
          "base_uri": "https://localhost:8080/"
        },
        "id": "2R9zBaM23OP5",
        "outputId": "5cce64ee-6a87-4f59-9784-eb3f7a424ddd"
      },
      "source": [
        "a.T"
      ],
      "execution_count": null,
      "outputs": [
        {
          "output_type": "execute_result",
          "data": {
            "text/plain": [
              "array([[-1, -1],\n",
              "       [-1, -1],\n",
              "       [-1, -1]])"
            ]
          },
          "metadata": {
            "tags": []
          },
          "execution_count": 108
        }
      ]
    },
    {
      "cell_type": "markdown",
      "metadata": {
        "id": "kDZleLgL3tpB"
      },
      "source": [
        "### Numpy array indexing"
      ]
    },
    {
      "cell_type": "code",
      "metadata": {
        "colab": {
          "base_uri": "https://localhost:8080/"
        },
        "id": "d6S_XY8c3q9f",
        "outputId": "51437955-e867-45f5-be6a-3cc70ef02fce"
      },
      "source": [
        "a = np.arange(1,10)\n",
        "a[0:10:2]"
      ],
      "execution_count": null,
      "outputs": [
        {
          "output_type": "execute_result",
          "data": {
            "text/plain": [
              "array([1, 3, 5, 7, 9])"
            ]
          },
          "metadata": {
            "tags": []
          },
          "execution_count": 115
        }
      ]
    },
    {
      "cell_type": "code",
      "metadata": {
        "colab": {
          "base_uri": "https://localhost:8080/"
        },
        "id": "qfeaEppc3_8N",
        "outputId": "a06eb088-b850-43e1-abb0-d685143e24f5"
      },
      "source": [
        "b = np.arange(0,10).reshape(2,5)\n",
        "b[:,2:]"
      ],
      "execution_count": null,
      "outputs": [
        {
          "output_type": "execute_result",
          "data": {
            "text/plain": [
              "array([[2, 3, 4],\n",
              "       [7, 8, 9]])"
            ]
          },
          "metadata": {
            "tags": []
          },
          "execution_count": 116
        }
      ]
    },
    {
      "cell_type": "markdown",
      "metadata": {
        "id": "-EnBP5584GPX"
      },
      "source": [
        "### Useful np functions\n",
        "\n",
        "- np.abs()\n",
        "- np.exp()\n",
        "- np.pow()\n",
        "- np.log()\n",
        "- np.sqrt()\n"
      ]
    },
    {
      "cell_type": "code",
      "metadata": {
        "colab": {
          "base_uri": "https://localhost:8080/"
        },
        "id": "chfcid6X4RgO",
        "outputId": "cfac54b3-41e4-469f-a766-b2a65001c601"
      },
      "source": [
        "a = np.arange(-3,5)\n",
        "a"
      ],
      "execution_count": null,
      "outputs": [
        {
          "output_type": "execute_result",
          "data": {
            "text/plain": [
              "array([-3, -2, -1,  0,  1,  2,  3,  4])"
            ]
          },
          "metadata": {
            "tags": []
          },
          "execution_count": 120
        }
      ]
    },
    {
      "cell_type": "code",
      "metadata": {
        "colab": {
          "base_uri": "https://localhost:8080/"
        },
        "id": "wok2V_5Q4Hmu",
        "outputId": "6e83fe2d-c328-4031-e2a8-be4c37480bb4"
      },
      "source": [
        "np.abs(a)"
      ],
      "execution_count": null,
      "outputs": [
        {
          "output_type": "execute_result",
          "data": {
            "text/plain": [
              "array([3, 2, 1, 0, 1, 2, 3, 4])"
            ]
          },
          "metadata": {
            "tags": []
          },
          "execution_count": 121
        }
      ]
    },
    {
      "cell_type": "code",
      "metadata": {
        "colab": {
          "base_uri": "https://localhost:8080/"
        },
        "id": "tq2OlNs24PUa",
        "outputId": "3ca521e0-eb87-4f48-e48a-c93045c7ee2e"
      },
      "source": [
        "np.exp(a)"
      ],
      "execution_count": null,
      "outputs": [
        {
          "output_type": "execute_result",
          "data": {
            "text/plain": [
              "array([4.97870684e-02, 1.35335283e-01, 3.67879441e-01, 1.00000000e+00,\n",
              "       2.71828183e+00, 7.38905610e+00, 2.00855369e+01, 5.45981500e+01])"
            ]
          },
          "metadata": {
            "tags": []
          },
          "execution_count": 118
        }
      ]
    },
    {
      "cell_type": "code",
      "metadata": {
        "colab": {
          "base_uri": "https://localhost:8080/"
        },
        "id": "3AgSsTeU4VqT",
        "outputId": "35301ec2-8486-4972-fdeb-9e1f3cf76e70"
      },
      "source": [
        "np.power(a,2)"
      ],
      "execution_count": null,
      "outputs": [
        {
          "output_type": "execute_result",
          "data": {
            "text/plain": [
              "array([ 9,  4,  1,  0,  1,  4,  9, 16])"
            ]
          },
          "metadata": {
            "tags": []
          },
          "execution_count": 122
        }
      ]
    },
    {
      "cell_type": "code",
      "metadata": {
        "colab": {
          "base_uri": "https://localhost:8080/"
        },
        "id": "XRA7DFUN4Ye_",
        "outputId": "315a87a9-724e-48ac-9051-00eea121113b"
      },
      "source": [
        "np.log(np.array([2,4,8]))"
      ],
      "execution_count": null,
      "outputs": [
        {
          "output_type": "execute_result",
          "data": {
            "text/plain": [
              "array([0.69314718, 1.38629436, 2.07944154])"
            ]
          },
          "metadata": {
            "tags": []
          },
          "execution_count": 123
        }
      ]
    },
    {
      "cell_type": "code",
      "metadata": {
        "colab": {
          "base_uri": "https://localhost:8080/"
        },
        "id": "6G-uyCuy4bd5",
        "outputId": "dff4c5d1-e6ba-4ce8-cfda-f1c8974b8049"
      },
      "source": [
        "np.log2(np.array([2,4,8]))"
      ],
      "execution_count": null,
      "outputs": [
        {
          "output_type": "execute_result",
          "data": {
            "text/plain": [
              "array([1., 2., 3.])"
            ]
          },
          "metadata": {
            "tags": []
          },
          "execution_count": 124
        }
      ]
    },
    {
      "cell_type": "code",
      "metadata": {
        "colab": {
          "base_uri": "https://localhost:8080/"
        },
        "id": "IqO_9J5q4hLo",
        "outputId": "c1b9488d-7e3e-4784-a7a7-7b9461e342e3"
      },
      "source": [
        "np.log(np.array([3,9])) / np.log(3)"
      ],
      "execution_count": null,
      "outputs": [
        {
          "output_type": "execute_result",
          "data": {
            "text/plain": [
              "array([1., 2.])"
            ]
          },
          "metadata": {
            "tags": []
          },
          "execution_count": 126
        }
      ]
    },
    {
      "cell_type": "markdown",
      "metadata": {
        "id": "wLv34Ei241cm"
      },
      "source": [
        "### Statistics \n",
        "[Statistics](https://numpy.org/doc/stable/reference/routines.statistics.html)"
      ]
    },
    {
      "cell_type": "code",
      "metadata": {
        "colab": {
          "base_uri": "https://localhost:8080/"
        },
        "id": "sNBpetTj47px",
        "outputId": "57ac841e-97cf-4430-fc64-5376b199a507"
      },
      "source": [
        "np.median(a)"
      ],
      "execution_count": null,
      "outputs": [
        {
          "output_type": "execute_result",
          "data": {
            "text/plain": [
              "0.5"
            ]
          },
          "metadata": {
            "tags": []
          },
          "execution_count": 128
        }
      ]
    },
    {
      "cell_type": "code",
      "metadata": {
        "colab": {
          "base_uri": "https://localhost:8080/"
        },
        "id": "6yohqSoG44Uu",
        "outputId": "c079de5f-4c6f-4af3-a55b-c427db86ce34"
      },
      "source": [
        "np.mean(a)"
      ],
      "execution_count": null,
      "outputs": [
        {
          "output_type": "execute_result",
          "data": {
            "text/plain": [
              "0.5"
            ]
          },
          "metadata": {
            "tags": []
          },
          "execution_count": 127
        }
      ]
    },
    {
      "cell_type": "code",
      "metadata": {
        "colab": {
          "base_uri": "https://localhost:8080/"
        },
        "id": "sUM62rL447hx",
        "outputId": "853ab7bc-7042-40c2-ac7c-482f2b3e5100"
      },
      "source": [
        "np.std(a)"
      ],
      "execution_count": null,
      "outputs": [
        {
          "output_type": "execute_result",
          "data": {
            "text/plain": [
              "2.29128784747792"
            ]
          },
          "metadata": {
            "tags": []
          },
          "execution_count": 129
        }
      ]
    }
  ]
}