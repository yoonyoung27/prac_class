{
  "nbformat": 4,
  "nbformat_minor": 0,
  "metadata": {
    "colab": {
      "name": "Untitled2.ipynb",
      "provenance": [],
      "authorship_tag": "ABX9TyOBVbsCYynZCTKzoTtfUNUi",
      "include_colab_link": true
    },
    "kernelspec": {
      "name": "ir",
      "display_name": "R"
    }
  },
  "cells": [
    {
      "cell_type": "markdown",
      "metadata": {
        "id": "view-in-github",
        "colab_type": "text"
      },
      "source": [
        "<a href=\"https://colab.research.google.com/github/yoonyoung27/prac_class/blob/main/python_prac.ipynb\" target=\"_parent\"><img src=\"https://colab.research.google.com/assets/colab-badge.svg\" alt=\"Open In Colab\"/></a>"
      ]
    },
    {
      "cell_type": "code",
      "metadata": {
        "colab": {
          "base_uri": "https://localhost:8080/",
          "height": 34
        },
        "id": "pk46vflfrQdO",
        "outputId": "f403c278-d558-4af1-f5b7-7fbacf5aae11"
      },
      "source": [
        "(-32+96)*12/3"
      ],
      "execution_count": 4,
      "outputs": [
        {
          "output_type": "display_data",
          "data": {
            "text/plain": [
              "[1] 256"
            ],
            "text/latex": "256",
            "text/markdown": "256",
            "text/html": [
              "256"
            ]
          },
          "metadata": {
            "tags": []
          }
        }
      ]
    },
    {
      "cell_type": "code",
      "metadata": {
        "colab": {
          "base_uri": "https://localhost:8080/",
          "height": 34
        },
        "id": "BK48CHMSyNHA",
        "outputId": "1aa1a849-93cb-45f9-f818-55df023ddf64"
      },
      "source": [
        "(3*4-((-27+67)/4))**8"
      ],
      "execution_count": 5,
      "outputs": [
        {
          "output_type": "display_data",
          "data": {
            "text/plain": [
              "[1] 256"
            ],
            "text/latex": "256",
            "text/markdown": "256",
            "text/html": [
              "256"
            ]
          },
          "metadata": {
            "tags": []
          }
        }
      ]
    },
    {
      "cell_type": "code",
      "metadata": {
        "colab": {
          "base_uri": "https://localhost:8080/",
          "height": 34
        },
        "id": "EjW0fkIjyYuO",
        "outputId": "121be7bd-780d-423d-f70d-aa73a92eecb9"
      },
      "source": [
        "(512+1968-432)/(2**4)+128"
      ],
      "execution_count": 6,
      "outputs": [
        {
          "output_type": "display_data",
          "data": {
            "text/plain": [
              "[1] 256"
            ],
            "text/latex": "256",
            "text/markdown": "256",
            "text/html": [
              "256"
            ]
          },
          "metadata": {
            "tags": []
          }
        }
      ]
    },
    {
      "cell_type": "code",
      "metadata": {
        "colab": {
          "base_uri": "https://localhost:8080/",
          "height": 34
        },
        "id": "u-MeMxqGy3RR",
        "outputId": "d9762db6-299d-4405-dcd8-aba6192cf202"
      },
      "source": [
        "256==2**8"
      ],
      "execution_count": 7,
      "outputs": [
        {
          "output_type": "display_data",
          "data": {
            "text/plain": [
              "[1] TRUE"
            ],
            "text/latex": "TRUE",
            "text/markdown": "TRUE",
            "text/html": [
              "TRUE"
            ]
          },
          "metadata": {
            "tags": []
          }
        }
      ]
    },
    {
      "cell_type": "code",
      "metadata": {
        "colab": {
          "base_uri": "https://localhost:8080/",
          "height": 34
        },
        "id": "TJ719KZjy6ER",
        "outputId": "79486240-9f55-41d5-8027-249ec6b135fa"
      },
      "source": [
        "50+50 <= 10*10"
      ],
      "execution_count": 13,
      "outputs": [
        {
          "output_type": "display_data",
          "data": {
            "text/plain": [
              "[1] TRUE"
            ],
            "text/latex": "TRUE",
            "text/markdown": "TRUE",
            "text/html": [
              "TRUE"
            ]
          },
          "metadata": {
            "tags": []
          }
        }
      ]
    },
    {
      "cell_type": "code",
      "metadata": {
        "colab": {
          "base_uri": "https://localhost:8080/",
          "height": 34
        },
        "id": "fva6ZV3wy-dY",
        "outputId": "8d87ddef-89c4-4bda-a6fd-9ab04dfd8436"
      },
      "source": [
        "99!=10**2-1"
      ],
      "execution_count": 12,
      "outputs": [
        {
          "output_type": "display_data",
          "data": {
            "text/plain": [
              "[1] FALSE"
            ],
            "text/latex": "FALSE",
            "text/markdown": "FALSE",
            "text/html": [
              "FALSE"
            ]
          },
          "metadata": {
            "tags": []
          }
        }
      ]
    },
    {
      "cell_type": "code",
      "metadata": {
        "colab": {
          "base_uri": "https://localhost:8080/",
          "height": 98
        },
        "id": "fm4gk6BHzqK2",
        "outputId": "035c47e7-dc1d-466f-f0b5-1ea445cde18d"
      },
      "source": [
        "math.squrt(2)"
      ],
      "execution_count": 17,
      "outputs": [
        {
          "output_type": "error",
          "ename": "ERROR",
          "evalue": "ignored",
          "traceback": [
            "Error in math.squrt(2): could not find function \"math.squrt\"\nTraceback:\n"
          ]
        }
      ]
    },
    {
      "cell_type": "code",
      "metadata": {
        "colab": {
          "base_uri": "https://localhost:8080/",
          "height": 34
        },
        "id": "K6veQtUztjZp",
        "outputId": "4eff2b2e-e056-408a-e30f-74608dbafe2e"
      },
      "source": [
        "x=16\r\n",
        "8*(x**2)-2*x+2"
      ],
      "execution_count": 2,
      "outputs": [
        {
          "output_type": "display_data",
          "data": {
            "text/plain": [
              "[1] 2018"
            ],
            "text/latex": "2018",
            "text/markdown": "2018",
            "text/html": [
              "2018"
            ]
          },
          "metadata": {
            "tags": []
          }
        }
      ]
    },
    {
      "cell_type": "code",
      "metadata": {
        "colab": {
          "base_uri": "https://localhost:8080/",
          "height": 134
        },
        "id": "HEMzSKs7tzcl",
        "outputId": "9a04fad5-5ceb-46ee-aedf-2d747eb9671f"
      },
      "source": [
        "x,y=4,8\r\n",
        "print(x)\r\n",
        "x*=y\r\n",
        "print(x)\r\n",
        "x-=y\r\n",
        "print(x)"
      ],
      "execution_count": 10,
      "outputs": [
        {
          "output_type": "error",
          "ename": "ERROR",
          "evalue": "ignored",
          "traceback": [
            "Error in parse(text = x, srcfile = src): <text>:1:2: unexpected ','\n1: x,\n     ^\nTraceback:\n"
          ]
        }
      ]
    },
    {
      "cell_type": "code",
      "metadata": {
        "colab": {
          "base_uri": "https://localhost:8080/"
        },
        "id": "x1wBATJzx5xf",
        "outputId": "5fdf1f42-c947-43d8-98b5-fddcf8a11dc7"
      },
      "source": [
        "x=2\r\n",
        "print(x)\r\n",
        "x=x*2\r\n",
        "print(x)\r\n",
        "x=x*2\r\n",
        "print(x)\r\n",
        "x=x*2\r\n",
        "print(x)\r\n",
        "x=x*2\r\n",
        "print(x)"
      ],
      "execution_count": 14,
      "outputs": [
        {
          "output_type": "stream",
          "text": [
            "[1] 2\n",
            "[1] 4\n",
            "[1] 8\n",
            "[1] 16\n",
            "[1] 32\n"
          ],
          "name": "stdout"
        }
      ]
    },
    {
      "cell_type": "code",
      "metadata": {
        "colab": {
          "base_uri": "https://localhost:8080/",
          "height": 98
        },
        "id": "a5iTx_3hysGe",
        "outputId": "4aab2a1a-5a7f-438f-f301-f83ee7fb219f"
      },
      "source": [
        "x=input('첫번째 정수를 입력하세요')\r\n",
        "y=input('두번째 정수를 입력하세요')\r\n",
        "print(x+y)\r\n",
        "print(x-y)\r\n",
        "print(x*y)\r\n",
        "print(x/y)"
      ],
      "execution_count": 15,
      "outputs": [
        {
          "output_type": "error",
          "ename": "ERROR",
          "evalue": "ignored",
          "traceback": [
            "Error in input(\"첫번째 정수를 입력하세요\"): could not find function \"input\"\nTraceback:\n"
          ]
        }
      ]
    }
  ]
}