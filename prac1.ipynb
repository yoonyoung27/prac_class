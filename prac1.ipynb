{
  "nbformat": 4,
  "nbformat_minor": 0,
  "metadata": {
    "colab": {
      "name": "prac1.ipynb",
      "provenance": [],
      "authorship_tag": "ABX9TyM2gpvFPl8ZThhw7QyNMGXb",
      "include_colab_link": true
    },
    "kernelspec": {
      "name": "python3",
      "display_name": "Python 3"
    }
  },
  "cells": [
    {
      "cell_type": "markdown",
      "metadata": {
        "id": "view-in-github",
        "colab_type": "text"
      },
      "source": [
        "<a href=\"https://colab.research.google.com/github/yoonyoung27/prac_class/blob/main/prac1.ipynb\" target=\"_parent\"><img src=\"https://colab.research.google.com/assets/colab-badge.svg\" alt=\"Open In Colab\"/></a>"
      ]
    },
    {
      "cell_type": "markdown",
      "metadata": {
        "id": "Mm8vvy3Pdm4z"
      },
      "source": [
        "  - number 1\r\n",
        "  - second\r\n",
        "\r\n",
        "  This is mathematical expression $ \\sum^n_{i=0} X_i$\r\n",
        "\r\n",
        "  $ \\sum_{i=0}^n \\frac{1}{X_i}$\r\n",
        "  "
      ]
    }
  ]
}