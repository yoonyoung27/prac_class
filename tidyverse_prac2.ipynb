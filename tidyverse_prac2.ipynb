{
  "nbformat": 4,
  "nbformat_minor": 0,
  "metadata": {
    "colab": {
      "name": "tidyverse_prac2.ipynb",
      "provenance": [],
      "authorship_tag": "ABX9TyMaA5VEtDesA72o6uMXLSBH",
      "include_colab_link": true
    },
    "kernelspec": {
      "name": "ir",
      "display_name": "R"
    },
    "language_info": {
      "name": "R"
    }
  },
  "cells": [
    {
      "cell_type": "markdown",
      "metadata": {
        "id": "view-in-github",
        "colab_type": "text"
      },
      "source": [
        "<a href=\"https://colab.research.google.com/github/yoonyoung27/prac_class/blob/main/tidyverse_prac2.ipynb\" target=\"_parent\"><img src=\"https://colab.research.google.com/assets/colab-badge.svg\" alt=\"Open In Colab\"/></a>"
      ]
    },
    {
      "cell_type": "code",
      "metadata": {
        "colab": {
          "base_uri": "https://localhost:8080/"
        },
        "id": "Uw2CIGjaWIZt",
        "outputId": "d15d2868-49d3-4682-aa5a-ee91fa545296"
      },
      "source": [
        "library(tidyverse)"
      ],
      "execution_count": null,
      "outputs": [
        {
          "output_type": "stream",
          "text": [
            "Warning message in system(\"timedatectl\", intern = TRUE):\n",
            "“running command 'timedatectl' had status 1”\n",
            "── \u001b[1mAttaching packages\u001b[22m ─────────────────────────────────────── tidyverse 1.3.0 ──\n",
            "\n",
            "\u001b[32m✔\u001b[39m \u001b[34mggplot2\u001b[39m 3.3.3     \u001b[32m✔\u001b[39m \u001b[34mpurrr  \u001b[39m 0.3.4\n",
            "\u001b[32m✔\u001b[39m \u001b[34mtibble \u001b[39m 3.1.0     \u001b[32m✔\u001b[39m \u001b[34mdplyr  \u001b[39m 1.0.5\n",
            "\u001b[32m✔\u001b[39m \u001b[34mtidyr  \u001b[39m 1.1.3     \u001b[32m✔\u001b[39m \u001b[34mstringr\u001b[39m 1.4.0\n",
            "\u001b[32m✔\u001b[39m \u001b[34mreadr  \u001b[39m 1.4.0     \u001b[32m✔\u001b[39m \u001b[34mforcats\u001b[39m 0.5.1\n",
            "\n",
            "── \u001b[1mConflicts\u001b[22m ────────────────────────────────────────── tidyverse_conflicts() ──\n",
            "\u001b[31m✖\u001b[39m \u001b[34mdplyr\u001b[39m::\u001b[32mfilter()\u001b[39m masks \u001b[34mstats\u001b[39m::filter()\n",
            "\u001b[31m✖\u001b[39m \u001b[34mdplyr\u001b[39m::\u001b[32mlag()\u001b[39m    masks \u001b[34mstats\u001b[39m::lag()\n",
            "\n"
          ],
          "name": "stderr"
        }
      ]
    },
    {
      "cell_type": "markdown",
      "metadata": {
        "id": "t9H9ePQhWP8J"
      },
      "source": [
        "#Tidyr\n",
        "a package for data cleaning (most built-in R functions work with vectors of values)\n",
        "\n",
        "#####* Rule for tidy data\n",
        "\n",
        "* Every column is variable\n",
        "* Every row is an observation\n",
        "* Every cell is a single value"
      ]
    },
    {
      "cell_type": "markdown",
      "metadata": {
        "id": "_w6QGJxmnj5v"
      },
      "source": [
        "#①Pivoting"
      ]
    },
    {
      "cell_type": "markdown",
      "metadata": {
        "id": "IOQKT1KKpx8X"
      },
      "source": [
        "#①.1 pivot_longer()"
      ]
    },
    {
      "cell_type": "markdown",
      "metadata": {
        "id": "9RuUpDzHpI6H"
      },
      "source": [
        "###table4a, table4b\n",
        "The dataset on which one variable is spread across multiple columns"
      ]
    },
    {
      "cell_type": "code",
      "metadata": {
        "id": "k4ivRLTWWdZF",
        "colab": {
          "base_uri": "https://localhost:8080/",
          "height": 182
        },
        "outputId": "81a77f89-ab96-4f30-b3e2-7803ea735c0c"
      },
      "source": [
        "table4a"
      ],
      "execution_count": null,
      "outputs": [
        {
          "output_type": "display_data",
          "data": {
            "text/plain": [
              "  country     1999   2000  \n",
              "1 Afghanistan    745   2666\n",
              "2 Brazil       37737  80488\n",
              "3 China       212258 213766"
            ],
            "text/latex": "A tibble: 3 × 3\n\\begin{tabular}{r|lll}\n  & country & 1999 & 2000\\\\\n  & <chr> & <int> & <int>\\\\\n\\hline\n\t1 & Afghanistan &    745 &   2666\\\\\n\t2 & Brazil      &  37737 &  80488\\\\\n\t3 & China       & 212258 & 213766\\\\\n\\end{tabular}\n",
            "text/markdown": "\nA tibble: 3 × 3\n\n| <!--/--> | country &lt;chr&gt; | 1999 &lt;int&gt; | 2000 &lt;int&gt; |\n|---|---|---|---|\n| 1 | Afghanistan |    745 |   2666 |\n| 2 | Brazil      |  37737 |  80488 |\n| 3 | China       | 212258 | 213766 |\n\n",
            "text/html": [
              "<table class=\"dataframe\">\n",
              "<caption>A tibble: 3 × 3</caption>\n",
              "<thead>\n",
              "\t<tr><th></th><th scope=col>country</th><th scope=col>1999</th><th scope=col>2000</th></tr>\n",
              "\t<tr><th></th><th scope=col>&lt;chr&gt;</th><th scope=col>&lt;int&gt;</th><th scope=col>&lt;int&gt;</th></tr>\n",
              "</thead>\n",
              "<tbody>\n",
              "\t<tr><th scope=row>1</th><td>Afghanistan</td><td>   745</td><td>  2666</td></tr>\n",
              "\t<tr><th scope=row>2</th><td>Brazil     </td><td> 37737</td><td> 80488</td></tr>\n",
              "\t<tr><th scope=row>3</th><td>China      </td><td>212258</td><td>213766</td></tr>\n",
              "</tbody>\n",
              "</table>\n"
            ]
          },
          "metadata": {
            "tags": []
          }
        }
      ]
    },
    {
      "cell_type": "code",
      "metadata": {
        "colab": {
          "base_uri": "https://localhost:8080/",
          "height": 182
        },
        "id": "c0XYvj3ppDy9",
        "outputId": "e4b889c8-f7ea-414d-8a28-dacd23ab8fec"
      },
      "source": [
        "table4b"
      ],
      "execution_count": null,
      "outputs": [
        {
          "output_type": "display_data",
          "data": {
            "text/plain": [
              "  country     1999       2000      \n",
              "1 Afghanistan   19987071   20595360\n",
              "2 Brazil       172006362  174504898\n",
              "3 China       1272915272 1280428583"
            ],
            "text/latex": "A tibble: 3 × 3\n\\begin{tabular}{r|lll}\n  & country & 1999 & 2000\\\\\n  & <chr> & <int> & <int>\\\\\n\\hline\n\t1 & Afghanistan &   19987071 &   20595360\\\\\n\t2 & Brazil      &  172006362 &  174504898\\\\\n\t3 & China       & 1272915272 & 1280428583\\\\\n\\end{tabular}\n",
            "text/markdown": "\nA tibble: 3 × 3\n\n| <!--/--> | country &lt;chr&gt; | 1999 &lt;int&gt; | 2000 &lt;int&gt; |\n|---|---|---|---|\n| 1 | Afghanistan |   19987071 |   20595360 |\n| 2 | Brazil      |  172006362 |  174504898 |\n| 3 | China       | 1272915272 | 1280428583 |\n\n",
            "text/html": [
              "<table class=\"dataframe\">\n",
              "<caption>A tibble: 3 × 3</caption>\n",
              "<thead>\n",
              "\t<tr><th></th><th scope=col>country</th><th scope=col>1999</th><th scope=col>2000</th></tr>\n",
              "\t<tr><th></th><th scope=col>&lt;chr&gt;</th><th scope=col>&lt;int&gt;</th><th scope=col>&lt;int&gt;</th></tr>\n",
              "</thead>\n",
              "<tbody>\n",
              "\t<tr><th scope=row>1</th><td>Afghanistan</td><td>  19987071</td><td>  20595360</td></tr>\n",
              "\t<tr><th scope=row>2</th><td>Brazil     </td><td> 172006362</td><td> 174504898</td></tr>\n",
              "\t<tr><th scope=row>3</th><td>China      </td><td>1272915272</td><td>1280428583</td></tr>\n",
              "</tbody>\n",
              "</table>\n"
            ]
          },
          "metadata": {
            "tags": []
          }
        }
      ]
    },
    {
      "cell_type": "code",
      "metadata": {
        "id": "OoAs_GAPqRf9"
      },
      "source": [
        "help(pivot_longer)"
      ],
      "execution_count": null,
      "outputs": []
    },
    {
      "cell_type": "code",
      "metadata": {
        "colab": {
          "base_uri": "https://localhost:8080/",
          "height": 271
        },
        "id": "yUT-zYvlpuE6",
        "outputId": "c076a970-f573-4ca5-91ca-c8f3b3ebe413"
      },
      "source": [
        "tidy4a <- table4a %>%\n",
        "pivot_longer(c('1999', '2000'), names_to = \"year\", values_to = \"cases\")\n",
        "tidy4a"
      ],
      "execution_count": null,
      "outputs": [
        {
          "output_type": "display_data",
          "data": {
            "text/plain": [
              "  country     year cases \n",
              "1 Afghanistan 1999    745\n",
              "2 Afghanistan 2000   2666\n",
              "3 Brazil      1999  37737\n",
              "4 Brazil      2000  80488\n",
              "5 China       1999 212258\n",
              "6 China       2000 213766"
            ],
            "text/latex": "A tibble: 6 × 3\n\\begin{tabular}{lll}\n country & year & cases\\\\\n <chr> & <chr> & <int>\\\\\n\\hline\n\t Afghanistan & 1999 &    745\\\\\n\t Afghanistan & 2000 &   2666\\\\\n\t Brazil      & 1999 &  37737\\\\\n\t Brazil      & 2000 &  80488\\\\\n\t China       & 1999 & 212258\\\\\n\t China       & 2000 & 213766\\\\\n\\end{tabular}\n",
            "text/markdown": "\nA tibble: 6 × 3\n\n| country &lt;chr&gt; | year &lt;chr&gt; | cases &lt;int&gt; |\n|---|---|---|\n| Afghanistan | 1999 |    745 |\n| Afghanistan | 2000 |   2666 |\n| Brazil      | 1999 |  37737 |\n| Brazil      | 2000 |  80488 |\n| China       | 1999 | 212258 |\n| China       | 2000 | 213766 |\n\n",
            "text/html": [
              "<table class=\"dataframe\">\n",
              "<caption>A tibble: 6 × 3</caption>\n",
              "<thead>\n",
              "\t<tr><th scope=col>country</th><th scope=col>year</th><th scope=col>cases</th></tr>\n",
              "\t<tr><th scope=col>&lt;chr&gt;</th><th scope=col>&lt;chr&gt;</th><th scope=col>&lt;int&gt;</th></tr>\n",
              "</thead>\n",
              "<tbody>\n",
              "\t<tr><td>Afghanistan</td><td>1999</td><td>   745</td></tr>\n",
              "\t<tr><td>Afghanistan</td><td>2000</td><td>  2666</td></tr>\n",
              "\t<tr><td>Brazil     </td><td>1999</td><td> 37737</td></tr>\n",
              "\t<tr><td>Brazil     </td><td>2000</td><td> 80488</td></tr>\n",
              "\t<tr><td>China      </td><td>1999</td><td>212258</td></tr>\n",
              "\t<tr><td>China      </td><td>2000</td><td>213766</td></tr>\n",
              "</tbody>\n",
              "</table>\n"
            ]
          },
          "metadata": {
            "tags": []
          }
        }
      ]
    },
    {
      "cell_type": "code",
      "metadata": {
        "colab": {
          "base_uri": "https://localhost:8080/",
          "height": 271
        },
        "id": "81p3xDdAqlpA",
        "outputId": "6b2d73ae-c5f6-409a-8905-267e9d362efc"
      },
      "source": [
        "tidy4b <- table4b %>%\n",
        "pivot_longer(c('1999', '2000'), names_to = \"year\", values_to = \"population\")\n",
        "tidy4b"
      ],
      "execution_count": null,
      "outputs": [
        {
          "output_type": "display_data",
          "data": {
            "text/plain": [
              "  country     year population\n",
              "1 Afghanistan 1999   19987071\n",
              "2 Afghanistan 2000   20595360\n",
              "3 Brazil      1999  172006362\n",
              "4 Brazil      2000  174504898\n",
              "5 China       1999 1272915272\n",
              "6 China       2000 1280428583"
            ],
            "text/latex": "A tibble: 6 × 3\n\\begin{tabular}{lll}\n country & year & population\\\\\n <chr> & <chr> & <int>\\\\\n\\hline\n\t Afghanistan & 1999 &   19987071\\\\\n\t Afghanistan & 2000 &   20595360\\\\\n\t Brazil      & 1999 &  172006362\\\\\n\t Brazil      & 2000 &  174504898\\\\\n\t China       & 1999 & 1272915272\\\\\n\t China       & 2000 & 1280428583\\\\\n\\end{tabular}\n",
            "text/markdown": "\nA tibble: 6 × 3\n\n| country &lt;chr&gt; | year &lt;chr&gt; | population &lt;int&gt; |\n|---|---|---|\n| Afghanistan | 1999 |   19987071 |\n| Afghanistan | 2000 |   20595360 |\n| Brazil      | 1999 |  172006362 |\n| Brazil      | 2000 |  174504898 |\n| China       | 1999 | 1272915272 |\n| China       | 2000 | 1280428583 |\n\n",
            "text/html": [
              "<table class=\"dataframe\">\n",
              "<caption>A tibble: 6 × 3</caption>\n",
              "<thead>\n",
              "\t<tr><th scope=col>country</th><th scope=col>year</th><th scope=col>population</th></tr>\n",
              "\t<tr><th scope=col>&lt;chr&gt;</th><th scope=col>&lt;chr&gt;</th><th scope=col>&lt;int&gt;</th></tr>\n",
              "</thead>\n",
              "<tbody>\n",
              "\t<tr><td>Afghanistan</td><td>1999</td><td>  19987071</td></tr>\n",
              "\t<tr><td>Afghanistan</td><td>2000</td><td>  20595360</td></tr>\n",
              "\t<tr><td>Brazil     </td><td>1999</td><td> 172006362</td></tr>\n",
              "\t<tr><td>Brazil     </td><td>2000</td><td> 174504898</td></tr>\n",
              "\t<tr><td>China      </td><td>1999</td><td>1272915272</td></tr>\n",
              "\t<tr><td>China      </td><td>2000</td><td>1280428583</td></tr>\n",
              "</tbody>\n",
              "</table>\n"
            ]
          },
          "metadata": {
            "tags": []
          }
        }
      ]
    },
    {
      "cell_type": "code",
      "metadata": {
        "colab": {
          "base_uri": "https://localhost:8080/",
          "height": 306
        },
        "id": "vTQ3WpVYriuX",
        "outputId": "140521eb-97d1-43cc-b73d-b4ac2e169094"
      },
      "source": [
        "?left_join\n",
        "left_join(tidy4a, tidy4b)"
      ],
      "execution_count": null,
      "outputs": [
        {
          "output_type": "stream",
          "text": [
            "Joining, by = c(\"country\", \"year\")\n",
            "\n"
          ],
          "name": "stderr"
        },
        {
          "output_type": "display_data",
          "data": {
            "text/plain": [
              "  country     year cases  population\n",
              "1 Afghanistan 1999    745   19987071\n",
              "2 Afghanistan 2000   2666   20595360\n",
              "3 Brazil      1999  37737  172006362\n",
              "4 Brazil      2000  80488  174504898\n",
              "5 China       1999 212258 1272915272\n",
              "6 China       2000 213766 1280428583"
            ],
            "text/latex": "A tibble: 6 × 4\n\\begin{tabular}{llll}\n country & year & cases & population\\\\\n <chr> & <chr> & <int> & <int>\\\\\n\\hline\n\t Afghanistan & 1999 &    745 &   19987071\\\\\n\t Afghanistan & 2000 &   2666 &   20595360\\\\\n\t Brazil      & 1999 &  37737 &  172006362\\\\\n\t Brazil      & 2000 &  80488 &  174504898\\\\\n\t China       & 1999 & 212258 & 1272915272\\\\\n\t China       & 2000 & 213766 & 1280428583\\\\\n\\end{tabular}\n",
            "text/markdown": "\nA tibble: 6 × 4\n\n| country &lt;chr&gt; | year &lt;chr&gt; | cases &lt;int&gt; | population &lt;int&gt; |\n|---|---|---|---|\n| Afghanistan | 1999 |    745 |   19987071 |\n| Afghanistan | 2000 |   2666 |   20595360 |\n| Brazil      | 1999 |  37737 |  172006362 |\n| Brazil      | 2000 |  80488 |  174504898 |\n| China       | 1999 | 212258 | 1272915272 |\n| China       | 2000 | 213766 | 1280428583 |\n\n",
            "text/html": [
              "<table class=\"dataframe\">\n",
              "<caption>A tibble: 6 × 4</caption>\n",
              "<thead>\n",
              "\t<tr><th scope=col>country</th><th scope=col>year</th><th scope=col>cases</th><th scope=col>population</th></tr>\n",
              "\t<tr><th scope=col>&lt;chr&gt;</th><th scope=col>&lt;chr&gt;</th><th scope=col>&lt;int&gt;</th><th scope=col>&lt;int&gt;</th></tr>\n",
              "</thead>\n",
              "<tbody>\n",
              "\t<tr><td>Afghanistan</td><td>1999</td><td>   745</td><td>  19987071</td></tr>\n",
              "\t<tr><td>Afghanistan</td><td>2000</td><td>  2666</td><td>  20595360</td></tr>\n",
              "\t<tr><td>Brazil     </td><td>1999</td><td> 37737</td><td> 172006362</td></tr>\n",
              "\t<tr><td>Brazil     </td><td>2000</td><td> 80488</td><td> 174504898</td></tr>\n",
              "\t<tr><td>China      </td><td>1999</td><td>212258</td><td>1272915272</td></tr>\n",
              "\t<tr><td>China      </td><td>2000</td><td>213766</td><td>1280428583</td></tr>\n",
              "</tbody>\n",
              "</table>\n"
            ]
          },
          "metadata": {
            "tags": []
          }
        }
      ]
    },
    {
      "cell_type": "markdown",
      "metadata": {
        "id": "ounImFSHqwmU"
      },
      "source": [
        "* __<left_join(x,y)>__ Add columns from y to x matching rows based on the keys of x"
      ]
    },
    {
      "cell_type": "markdown",
      "metadata": {
        "id": "xWIaFX7OAT_5"
      },
      "source": [
        "#①.2 pivot_wider()"
      ]
    },
    {
      "cell_type": "markdown",
      "metadata": {
        "id": "D89ZMuD5sUOn"
      },
      "source": [
        "###table2\n",
        "The dataset on which one observation is scattered across multiple rows"
      ]
    },
    {
      "cell_type": "code",
      "metadata": {
        "colab": {
          "base_uri": "https://localhost:8080/",
          "height": 449
        },
        "id": "mEwpPYJRtQwj",
        "outputId": "57c25fcb-d5e7-458f-8faa-27ead63ca01e"
      },
      "source": [
        "table2"
      ],
      "execution_count": null,
      "outputs": [
        {
          "output_type": "display_data",
          "data": {
            "text/plain": [
              "   country     year type       count     \n",
              "1  Afghanistan 1999 cases             745\n",
              "2  Afghanistan 1999 population   19987071\n",
              "3  Afghanistan 2000 cases            2666\n",
              "4  Afghanistan 2000 population   20595360\n",
              "5  Brazil      1999 cases           37737\n",
              "6  Brazil      1999 population  172006362\n",
              "7  Brazil      2000 cases           80488\n",
              "8  Brazil      2000 population  174504898\n",
              "9  China       1999 cases          212258\n",
              "10 China       1999 population 1272915272\n",
              "11 China       2000 cases          213766\n",
              "12 China       2000 population 1280428583"
            ],
            "text/latex": "A tibble: 12 × 4\n\\begin{tabular}{llll}\n country & year & type & count\\\\\n <chr> & <int> & <chr> & <int>\\\\\n\\hline\n\t Afghanistan & 1999 & cases      &        745\\\\\n\t Afghanistan & 1999 & population &   19987071\\\\\n\t Afghanistan & 2000 & cases      &       2666\\\\\n\t Afghanistan & 2000 & population &   20595360\\\\\n\t Brazil      & 1999 & cases      &      37737\\\\\n\t Brazil      & 1999 & population &  172006362\\\\\n\t Brazil      & 2000 & cases      &      80488\\\\\n\t Brazil      & 2000 & population &  174504898\\\\\n\t China       & 1999 & cases      &     212258\\\\\n\t China       & 1999 & population & 1272915272\\\\\n\t China       & 2000 & cases      &     213766\\\\\n\t China       & 2000 & population & 1280428583\\\\\n\\end{tabular}\n",
            "text/markdown": "\nA tibble: 12 × 4\n\n| country &lt;chr&gt; | year &lt;int&gt; | type &lt;chr&gt; | count &lt;int&gt; |\n|---|---|---|---|\n| Afghanistan | 1999 | cases      |        745 |\n| Afghanistan | 1999 | population |   19987071 |\n| Afghanistan | 2000 | cases      |       2666 |\n| Afghanistan | 2000 | population |   20595360 |\n| Brazil      | 1999 | cases      |      37737 |\n| Brazil      | 1999 | population |  172006362 |\n| Brazil      | 2000 | cases      |      80488 |\n| Brazil      | 2000 | population |  174504898 |\n| China       | 1999 | cases      |     212258 |\n| China       | 1999 | population | 1272915272 |\n| China       | 2000 | cases      |     213766 |\n| China       | 2000 | population | 1280428583 |\n\n",
            "text/html": [
              "<table class=\"dataframe\">\n",
              "<caption>A tibble: 12 × 4</caption>\n",
              "<thead>\n",
              "\t<tr><th scope=col>country</th><th scope=col>year</th><th scope=col>type</th><th scope=col>count</th></tr>\n",
              "\t<tr><th scope=col>&lt;chr&gt;</th><th scope=col>&lt;int&gt;</th><th scope=col>&lt;chr&gt;</th><th scope=col>&lt;int&gt;</th></tr>\n",
              "</thead>\n",
              "<tbody>\n",
              "\t<tr><td>Afghanistan</td><td>1999</td><td>cases     </td><td>       745</td></tr>\n",
              "\t<tr><td>Afghanistan</td><td>1999</td><td>population</td><td>  19987071</td></tr>\n",
              "\t<tr><td>Afghanistan</td><td>2000</td><td>cases     </td><td>      2666</td></tr>\n",
              "\t<tr><td>Afghanistan</td><td>2000</td><td>population</td><td>  20595360</td></tr>\n",
              "\t<tr><td>Brazil     </td><td>1999</td><td>cases     </td><td>     37737</td></tr>\n",
              "\t<tr><td>Brazil     </td><td>1999</td><td>population</td><td> 172006362</td></tr>\n",
              "\t<tr><td>Brazil     </td><td>2000</td><td>cases     </td><td>     80488</td></tr>\n",
              "\t<tr><td>Brazil     </td><td>2000</td><td>population</td><td> 174504898</td></tr>\n",
              "\t<tr><td>China      </td><td>1999</td><td>cases     </td><td>    212258</td></tr>\n",
              "\t<tr><td>China      </td><td>1999</td><td>population</td><td>1272915272</td></tr>\n",
              "\t<tr><td>China      </td><td>2000</td><td>cases     </td><td>    213766</td></tr>\n",
              "\t<tr><td>China      </td><td>2000</td><td>population</td><td>1280428583</td></tr>\n",
              "</tbody>\n",
              "</table>\n"
            ]
          },
          "metadata": {
            "tags": []
          }
        }
      ]
    },
    {
      "cell_type": "code",
      "metadata": {
        "id": "N2gYvlh9Abyy"
      },
      "source": [
        "help(pivot_wider)"
      ],
      "execution_count": null,
      "outputs": []
    },
    {
      "cell_type": "code",
      "metadata": {
        "colab": {
          "base_uri": "https://localhost:8080/",
          "height": 271
        },
        "id": "VzweiaOaAaWF",
        "outputId": "c7b1bae0-ecd7-42ef-982b-4111d3cf51a8"
      },
      "source": [
        "table2 %>%\n",
        "pivot_wider(names_from = type, values_from = count)"
      ],
      "execution_count": null,
      "outputs": [
        {
          "output_type": "display_data",
          "data": {
            "text/plain": [
              "  country     year cases  population\n",
              "1 Afghanistan 1999    745   19987071\n",
              "2 Afghanistan 2000   2666   20595360\n",
              "3 Brazil      1999  37737  172006362\n",
              "4 Brazil      2000  80488  174504898\n",
              "5 China       1999 212258 1272915272\n",
              "6 China       2000 213766 1280428583"
            ],
            "text/latex": "A tibble: 6 × 4\n\\begin{tabular}{llll}\n country & year & cases & population\\\\\n <chr> & <int> & <int> & <int>\\\\\n\\hline\n\t Afghanistan & 1999 &    745 &   19987071\\\\\n\t Afghanistan & 2000 &   2666 &   20595360\\\\\n\t Brazil      & 1999 &  37737 &  172006362\\\\\n\t Brazil      & 2000 &  80488 &  174504898\\\\\n\t China       & 1999 & 212258 & 1272915272\\\\\n\t China       & 2000 & 213766 & 1280428583\\\\\n\\end{tabular}\n",
            "text/markdown": "\nA tibble: 6 × 4\n\n| country &lt;chr&gt; | year &lt;int&gt; | cases &lt;int&gt; | population &lt;int&gt; |\n|---|---|---|---|\n| Afghanistan | 1999 |    745 |   19987071 |\n| Afghanistan | 2000 |   2666 |   20595360 |\n| Brazil      | 1999 |  37737 |  172006362 |\n| Brazil      | 2000 |  80488 |  174504898 |\n| China       | 1999 | 212258 | 1272915272 |\n| China       | 2000 | 213766 | 1280428583 |\n\n",
            "text/html": [
              "<table class=\"dataframe\">\n",
              "<caption>A tibble: 6 × 4</caption>\n",
              "<thead>\n",
              "\t<tr><th scope=col>country</th><th scope=col>year</th><th scope=col>cases</th><th scope=col>population</th></tr>\n",
              "\t<tr><th scope=col>&lt;chr&gt;</th><th scope=col>&lt;int&gt;</th><th scope=col>&lt;int&gt;</th><th scope=col>&lt;int&gt;</th></tr>\n",
              "</thead>\n",
              "<tbody>\n",
              "\t<tr><td>Afghanistan</td><td>1999</td><td>   745</td><td>  19987071</td></tr>\n",
              "\t<tr><td>Afghanistan</td><td>2000</td><td>  2666</td><td>  20595360</td></tr>\n",
              "\t<tr><td>Brazil     </td><td>1999</td><td> 37737</td><td> 172006362</td></tr>\n",
              "\t<tr><td>Brazil     </td><td>2000</td><td> 80488</td><td> 174504898</td></tr>\n",
              "\t<tr><td>China      </td><td>1999</td><td>212258</td><td>1272915272</td></tr>\n",
              "\t<tr><td>China      </td><td>2000</td><td>213766</td><td>1280428583</td></tr>\n",
              "</tbody>\n",
              "</table>\n"
            ]
          },
          "metadata": {
            "tags": []
          }
        }
      ]
    },
    {
      "cell_type": "markdown",
      "metadata": {
        "id": "0wb82YXSBjP2"
      },
      "source": [
        "#② Seperating and uniting"
      ]
    },
    {
      "cell_type": "markdown",
      "metadata": {
        "id": "j9DalzqEBqEE"
      },
      "source": [
        "#②.1 seperate()"
      ]
    },
    {
      "cell_type": "markdown",
      "metadata": {
        "id": "--vHviGJB4U0"
      },
      "source": [
        "###table3\n",
        "The dataset on which one column contains two variables"
      ]
    },
    {
      "cell_type": "code",
      "metadata": {
        "colab": {
          "base_uri": "https://localhost:8080/",
          "height": 271
        },
        "id": "ziL-r8W-CIOK",
        "outputId": "905d7e67-7987-4349-de9d-e2a43b891741"
      },
      "source": [
        "table3"
      ],
      "execution_count": null,
      "outputs": [
        {
          "output_type": "display_data",
          "data": {
            "text/plain": [
              "  country     year rate             \n",
              "1 Afghanistan 1999 745/19987071     \n",
              "2 Afghanistan 2000 2666/20595360    \n",
              "3 Brazil      1999 37737/172006362  \n",
              "4 Brazil      2000 80488/174504898  \n",
              "5 China       1999 212258/1272915272\n",
              "6 China       2000 213766/1280428583"
            ],
            "text/latex": "A tibble: 6 × 3\n\\begin{tabular}{r|lll}\n  & country & year & rate\\\\\n  & <chr> & <int> & <chr>\\\\\n\\hline\n\t1 & Afghanistan & 1999 & 745/19987071     \\\\\n\t2 & Afghanistan & 2000 & 2666/20595360    \\\\\n\t3 & Brazil      & 1999 & 37737/172006362  \\\\\n\t4 & Brazil      & 2000 & 80488/174504898  \\\\\n\t5 & China       & 1999 & 212258/1272915272\\\\\n\t6 & China       & 2000 & 213766/1280428583\\\\\n\\end{tabular}\n",
            "text/markdown": "\nA tibble: 6 × 3\n\n| <!--/--> | country &lt;chr&gt; | year &lt;int&gt; | rate &lt;chr&gt; |\n|---|---|---|---|\n| 1 | Afghanistan | 1999 | 745/19987071      |\n| 2 | Afghanistan | 2000 | 2666/20595360     |\n| 3 | Brazil      | 1999 | 37737/172006362   |\n| 4 | Brazil      | 2000 | 80488/174504898   |\n| 5 | China       | 1999 | 212258/1272915272 |\n| 6 | China       | 2000 | 213766/1280428583 |\n\n",
            "text/html": [
              "<table class=\"dataframe\">\n",
              "<caption>A tibble: 6 × 3</caption>\n",
              "<thead>\n",
              "\t<tr><th></th><th scope=col>country</th><th scope=col>year</th><th scope=col>rate</th></tr>\n",
              "\t<tr><th></th><th scope=col>&lt;chr&gt;</th><th scope=col>&lt;int&gt;</th><th scope=col>&lt;chr&gt;</th></tr>\n",
              "</thead>\n",
              "<tbody>\n",
              "\t<tr><th scope=row>1</th><td>Afghanistan</td><td>1999</td><td>745/19987071     </td></tr>\n",
              "\t<tr><th scope=row>2</th><td>Afghanistan</td><td>2000</td><td>2666/20595360    </td></tr>\n",
              "\t<tr><th scope=row>3</th><td>Brazil     </td><td>1999</td><td>37737/172006362  </td></tr>\n",
              "\t<tr><th scope=row>4</th><td>Brazil     </td><td>2000</td><td>80488/174504898  </td></tr>\n",
              "\t<tr><th scope=row>5</th><td>China      </td><td>1999</td><td>212258/1272915272</td></tr>\n",
              "\t<tr><th scope=row>6</th><td>China      </td><td>2000</td><td>213766/1280428583</td></tr>\n",
              "</tbody>\n",
              "</table>\n"
            ]
          },
          "metadata": {
            "tags": []
          }
        }
      ]
    },
    {
      "cell_type": "code",
      "metadata": {
        "id": "KeFFUsviCLxW"
      },
      "source": [
        "help(separate)"
      ],
      "execution_count": null,
      "outputs": []
    },
    {
      "cell_type": "markdown",
      "metadata": {
        "id": "hwlCvlp5LQAe"
      },
      "source": [
        "* __<[^[:alnum:]]+>__ One kind of regular expression. Any string that are not numbers"
      ]
    },
    {
      "cell_type": "code",
      "metadata": {
        "colab": {
          "base_uri": "https://localhost:8080/",
          "height": 271
        },
        "id": "5N046mM3CkoM",
        "outputId": "526b9cda-8e11-488d-e304-e6ffe778e893"
      },
      "source": [
        "table3 %>%\n",
        "separate(rate, into = c(\"cases\", \"population\"), sep=\"/\") %>%\n",
        "mutate(cases = as.numeric(cases), population = as.numeric(population))"
      ],
      "execution_count": null,
      "outputs": [
        {
          "output_type": "display_data",
          "data": {
            "text/plain": [
              "  country     year cases  population\n",
              "1 Afghanistan 1999    745   19987071\n",
              "2 Afghanistan 2000   2666   20595360\n",
              "3 Brazil      1999  37737  172006362\n",
              "4 Brazil      2000  80488  174504898\n",
              "5 China       1999 212258 1272915272\n",
              "6 China       2000 213766 1280428583"
            ],
            "text/latex": "A tibble: 6 × 4\n\\begin{tabular}{llll}\n country & year & cases & population\\\\\n <chr> & <int> & <dbl> & <dbl>\\\\\n\\hline\n\t Afghanistan & 1999 &    745 &   19987071\\\\\n\t Afghanistan & 2000 &   2666 &   20595360\\\\\n\t Brazil      & 1999 &  37737 &  172006362\\\\\n\t Brazil      & 2000 &  80488 &  174504898\\\\\n\t China       & 1999 & 212258 & 1272915272\\\\\n\t China       & 2000 & 213766 & 1280428583\\\\\n\\end{tabular}\n",
            "text/markdown": "\nA tibble: 6 × 4\n\n| country &lt;chr&gt; | year &lt;int&gt; | cases &lt;dbl&gt; | population &lt;dbl&gt; |\n|---|---|---|---|\n| Afghanistan | 1999 |    745 |   19987071 |\n| Afghanistan | 2000 |   2666 |   20595360 |\n| Brazil      | 1999 |  37737 |  172006362 |\n| Brazil      | 2000 |  80488 |  174504898 |\n| China       | 1999 | 212258 | 1272915272 |\n| China       | 2000 | 213766 | 1280428583 |\n\n",
            "text/html": [
              "<table class=\"dataframe\">\n",
              "<caption>A tibble: 6 × 4</caption>\n",
              "<thead>\n",
              "\t<tr><th scope=col>country</th><th scope=col>year</th><th scope=col>cases</th><th scope=col>population</th></tr>\n",
              "\t<tr><th scope=col>&lt;chr&gt;</th><th scope=col>&lt;int&gt;</th><th scope=col>&lt;dbl&gt;</th><th scope=col>&lt;dbl&gt;</th></tr>\n",
              "</thead>\n",
              "<tbody>\n",
              "\t<tr><td>Afghanistan</td><td>1999</td><td>   745</td><td>  19987071</td></tr>\n",
              "\t<tr><td>Afghanistan</td><td>2000</td><td>  2666</td><td>  20595360</td></tr>\n",
              "\t<tr><td>Brazil     </td><td>1999</td><td> 37737</td><td> 172006362</td></tr>\n",
              "\t<tr><td>Brazil     </td><td>2000</td><td> 80488</td><td> 174504898</td></tr>\n",
              "\t<tr><td>China      </td><td>1999</td><td>212258</td><td>1272915272</td></tr>\n",
              "\t<tr><td>China      </td><td>2000</td><td>213766</td><td>1280428583</td></tr>\n",
              "</tbody>\n",
              "</table>\n"
            ]
          },
          "metadata": {
            "tags": []
          }
        }
      ]
    },
    {
      "cell_type": "markdown",
      "metadata": {
        "id": "YlMNmx10ESy-"
      },
      "source": [
        "* seperate()를 사용하면 해당 데이터 유형은 character이다"
      ]
    },
    {
      "cell_type": "markdown",
      "metadata": {
        "id": "obklA7DSDIyQ"
      },
      "source": [
        "#②.2 unite()"
      ]
    },
    {
      "cell_type": "markdown",
      "metadata": {
        "id": "_47yN_6jDSt6"
      },
      "source": [
        "### table5\n",
        "the dataset on which single variable is spread across multiple columns"
      ]
    },
    {
      "cell_type": "code",
      "metadata": {
        "colab": {
          "base_uri": "https://localhost:8080/",
          "height": 271
        },
        "id": "_jx5ik-uDIeM",
        "outputId": "9cc2a330-bea5-42b9-e3c4-f16e6820e335"
      },
      "source": [
        "table5"
      ],
      "execution_count": null,
      "outputs": [
        {
          "output_type": "display_data",
          "data": {
            "text/plain": [
              "  country     century year rate             \n",
              "1 Afghanistan 19      99   745/19987071     \n",
              "2 Afghanistan 20      00   2666/20595360    \n",
              "3 Brazil      19      99   37737/172006362  \n",
              "4 Brazil      20      00   80488/174504898  \n",
              "5 China       19      99   212258/1272915272\n",
              "6 China       20      00   213766/1280428583"
            ],
            "text/latex": "A tibble: 6 × 4\n\\begin{tabular}{r|llll}\n  & country & century & year & rate\\\\\n  & <chr> & <chr> & <chr> & <chr>\\\\\n\\hline\n\t1 & Afghanistan & 19 & 99 & 745/19987071     \\\\\n\t2 & Afghanistan & 20 & 00 & 2666/20595360    \\\\\n\t3 & Brazil      & 19 & 99 & 37737/172006362  \\\\\n\t4 & Brazil      & 20 & 00 & 80488/174504898  \\\\\n\t5 & China       & 19 & 99 & 212258/1272915272\\\\\n\t6 & China       & 20 & 00 & 213766/1280428583\\\\\n\\end{tabular}\n",
            "text/markdown": "\nA tibble: 6 × 4\n\n| <!--/--> | country &lt;chr&gt; | century &lt;chr&gt; | year &lt;chr&gt; | rate &lt;chr&gt; |\n|---|---|---|---|---|\n| 1 | Afghanistan | 19 | 99 | 745/19987071      |\n| 2 | Afghanistan | 20 | 00 | 2666/20595360     |\n| 3 | Brazil      | 19 | 99 | 37737/172006362   |\n| 4 | Brazil      | 20 | 00 | 80488/174504898   |\n| 5 | China       | 19 | 99 | 212258/1272915272 |\n| 6 | China       | 20 | 00 | 213766/1280428583 |\n\n",
            "text/html": [
              "<table class=\"dataframe\">\n",
              "<caption>A tibble: 6 × 4</caption>\n",
              "<thead>\n",
              "\t<tr><th></th><th scope=col>country</th><th scope=col>century</th><th scope=col>year</th><th scope=col>rate</th></tr>\n",
              "\t<tr><th></th><th scope=col>&lt;chr&gt;</th><th scope=col>&lt;chr&gt;</th><th scope=col>&lt;chr&gt;</th><th scope=col>&lt;chr&gt;</th></tr>\n",
              "</thead>\n",
              "<tbody>\n",
              "\t<tr><th scope=row>1</th><td>Afghanistan</td><td>19</td><td>99</td><td>745/19987071     </td></tr>\n",
              "\t<tr><th scope=row>2</th><td>Afghanistan</td><td>20</td><td>00</td><td>2666/20595360    </td></tr>\n",
              "\t<tr><th scope=row>3</th><td>Brazil     </td><td>19</td><td>99</td><td>37737/172006362  </td></tr>\n",
              "\t<tr><th scope=row>4</th><td>Brazil     </td><td>20</td><td>00</td><td>80488/174504898  </td></tr>\n",
              "\t<tr><th scope=row>5</th><td>China      </td><td>19</td><td>99</td><td>212258/1272915272</td></tr>\n",
              "\t<tr><th scope=row>6</th><td>China      </td><td>20</td><td>00</td><td>213766/1280428583</td></tr>\n",
              "</tbody>\n",
              "</table>\n"
            ]
          },
          "metadata": {
            "tags": []
          }
        }
      ]
    },
    {
      "cell_type": "code",
      "metadata": {
        "id": "9DhqTHOCDc4d"
      },
      "source": [
        "help(unite)"
      ],
      "execution_count": null,
      "outputs": []
    },
    {
      "cell_type": "code",
      "metadata": {
        "colab": {
          "base_uri": "https://localhost:8080/",
          "height": 271
        },
        "id": "q-YuT_8oDg5m",
        "outputId": "b182c1d0-7862-401d-bd75-e3b7b9203a71"
      },
      "source": [
        "table5 %>%\n",
        "unite(new, century, year, sep = \"\")"
      ],
      "execution_count": null,
      "outputs": [
        {
          "output_type": "display_data",
          "data": {
            "text/plain": [
              "  country     new  rate             \n",
              "1 Afghanistan 1999 745/19987071     \n",
              "2 Afghanistan 2000 2666/20595360    \n",
              "3 Brazil      1999 37737/172006362  \n",
              "4 Brazil      2000 80488/174504898  \n",
              "5 China       1999 212258/1272915272\n",
              "6 China       2000 213766/1280428583"
            ],
            "text/latex": "A tibble: 6 × 3\n\\begin{tabular}{lll}\n country & new & rate\\\\\n <chr> & <chr> & <chr>\\\\\n\\hline\n\t Afghanistan & 1999 & 745/19987071     \\\\\n\t Afghanistan & 2000 & 2666/20595360    \\\\\n\t Brazil      & 1999 & 37737/172006362  \\\\\n\t Brazil      & 2000 & 80488/174504898  \\\\\n\t China       & 1999 & 212258/1272915272\\\\\n\t China       & 2000 & 213766/1280428583\\\\\n\\end{tabular}\n",
            "text/markdown": "\nA tibble: 6 × 3\n\n| country &lt;chr&gt; | new &lt;chr&gt; | rate &lt;chr&gt; |\n|---|---|---|\n| Afghanistan | 1999 | 745/19987071      |\n| Afghanistan | 2000 | 2666/20595360     |\n| Brazil      | 1999 | 37737/172006362   |\n| Brazil      | 2000 | 80488/174504898   |\n| China       | 1999 | 212258/1272915272 |\n| China       | 2000 | 213766/1280428583 |\n\n",
            "text/html": [
              "<table class=\"dataframe\">\n",
              "<caption>A tibble: 6 × 3</caption>\n",
              "<thead>\n",
              "\t<tr><th scope=col>country</th><th scope=col>new</th><th scope=col>rate</th></tr>\n",
              "\t<tr><th scope=col>&lt;chr&gt;</th><th scope=col>&lt;chr&gt;</th><th scope=col>&lt;chr&gt;</th></tr>\n",
              "</thead>\n",
              "<tbody>\n",
              "\t<tr><td>Afghanistan</td><td>1999</td><td>745/19987071     </td></tr>\n",
              "\t<tr><td>Afghanistan</td><td>2000</td><td>2666/20595360    </td></tr>\n",
              "\t<tr><td>Brazil     </td><td>1999</td><td>37737/172006362  </td></tr>\n",
              "\t<tr><td>Brazil     </td><td>2000</td><td>80488/174504898  </td></tr>\n",
              "\t<tr><td>China      </td><td>1999</td><td>212258/1272915272</td></tr>\n",
              "\t<tr><td>China      </td><td>2000</td><td>213766/1280428583</td></tr>\n",
              "</tbody>\n",
              "</table>\n"
            ]
          },
          "metadata": {
            "tags": []
          }
        }
      ]
    },
    {
      "cell_type": "markdown",
      "metadata": {
        "id": "mXIavvSybEcO"
      },
      "source": [
        "#Purrr\n",
        "a package for looping patterns over a vector"
      ]
    },
    {
      "cell_type": "markdown",
      "metadata": {
        "id": "5x-CmpgYcIsy"
      },
      "source": [
        "#① map()"
      ]
    },
    {
      "cell_type": "code",
      "metadata": {
        "colab": {
          "base_uri": "https://localhost:8080/",
          "height": 196
        },
        "id": "es4xe9FrXeQo",
        "outputId": "5c2d70ae-bca2-4256-94c0-78f03ef9a16e"
      },
      "source": [
        "?map()\n",
        "\n",
        "df %>% map(mean)\n",
        "# df %>% map(~mean(.)) ; 위와 같은 식\n",
        "df %>% map_dbl(mean)"
      ],
      "execution_count": null,
      "outputs": [
        {
          "output_type": "display_data",
          "data": {
            "text/plain": [
              "$a\n",
              "[1] 0.108561\n",
              "\n",
              "$b\n",
              "[1] -0.3052299\n",
              "\n",
              "$c\n",
              "[1] 0.1980162\n",
              "\n",
              "$d\n",
              "[1] 0.1006173\n"
            ],
            "text/latex": "\\begin{description}\n\\item[\\$a] 0.108560989636646\n\\item[\\$b] -0.305229861046475\n\\item[\\$c] 0.19801624203954\n\\item[\\$d] 0.100617263116382\n\\end{description}\n",
            "text/markdown": "$a\n:   0.108560989636646\n$b\n:   -0.305229861046475\n$c\n:   0.19801624203954\n$d\n:   0.100617263116382\n\n\n",
            "text/html": [
              "<dl>\n",
              "\t<dt>$a</dt>\n",
              "\t\t<dd>0.108560989636646</dd>\n",
              "\t<dt>$b</dt>\n",
              "\t\t<dd>-0.305229861046475</dd>\n",
              "\t<dt>$c</dt>\n",
              "\t\t<dd>0.19801624203954</dd>\n",
              "\t<dt>$d</dt>\n",
              "\t\t<dd>0.100617263116382</dd>\n",
              "</dl>\n"
            ]
          },
          "metadata": {
            "tags": []
          }
        },
        {
          "output_type": "display_data",
          "data": {
            "text/plain": [
              "         a          b          c          d \n",
              " 0.1085610 -0.3052299  0.1980162  0.1006173 "
            ],
            "text/latex": "\\begin{description*}\n\\item[a] 0.108560989636646\n\\item[b] -0.305229861046475\n\\item[c] 0.19801624203954\n\\item[d] 0.100617263116382\n\\end{description*}\n",
            "text/markdown": "a\n:   0.108560989636646b\n:   -0.305229861046475c\n:   0.19801624203954d\n:   0.100617263116382\n\n",
            "text/html": [
              "<style>\n",
              ".dl-inline {width: auto; margin:0; padding: 0}\n",
              ".dl-inline>dt, .dl-inline>dd {float: none; width: auto; display: inline-block}\n",
              ".dl-inline>dt::after {content: \":\\0020\"; padding-right: .5ex}\n",
              ".dl-inline>dt:not(:first-of-type) {padding-left: .5ex}\n",
              "</style><dl class=dl-inline><dt>a</dt><dd>0.108560989636646</dd><dt>b</dt><dd>-0.305229861046475</dd><dt>c</dt><dd>0.19801624203954</dd><dt>d</dt><dd>0.100617263116382</dd></dl>\n"
            ]
          },
          "metadata": {
            "tags": []
          }
        }
      ]
    },
    {
      "cell_type": "markdown",
      "metadata": {
        "id": "dDbgmd2wd68P"
      },
      "source": [
        "* __<~ftn(.)>__ put the vector of df in the location of .\n",
        "* output\n",
        " * map() output as a list\n",
        " * map_lgl() output as a logical vector\n",
        " * map_int() output as an integer vector\n",
        " * map_dbl() output as a double vector\n",
        " * map_chr() output as a character vector"
      ]
    },
    {
      "cell_type": "code",
      "metadata": {
        "id": "lQ1fO-DegZb7",
        "colab": {
          "base_uri": "https://localhost:8080/",
          "height": 561
        },
        "outputId": "e3564bd5-d0b9-485c-c4ba-3fa005c6121c"
      },
      "source": [
        "f1 <- function(df) {\n",
        "    lm(mpg ~ wt, data = df)\n",
        "    }\n",
        "mtcars %>%\n",
        "split(.$cyl) %>%\n",
        "map(f1)\n",
        "\n",
        "#mtcars %>%\n",
        "#split(.$cyl) %>%\n",
        "#map(function(df) lm(mpg ~ wt, data = df)) ; 위와 같은 식\n",
        "\n",
        "#mtcars %>%\n",
        "#split(.$cyl) %>%\n",
        "#map(~lm(mpg ~ wt, data = .)) ; 위와 같은 식\n",
        "\n",
        "mtcars %>%\n",
        "split(.$cyl) %>%\n",
        "map(~lm(mpg ~ wt, data = .)) %>%\n",
        "map(summary) %>%\n",
        "map_dbl(~.$r.squared)\n",
        "\n",
        "#mtcars %>%\n",
        "#split(.$cyl) %>%\n",
        "#map(~lm(mpg ~ wt, data = .)) %>%\n",
        "#map(summary) %>%\n",
        "#map_dbl('r.squared') ; 위와 같은 식\n",
        "\n",
        "x <- list(list(1, 2, 3), list(4, 5, 6), list(7, 8, 9))\n",
        "x %>% map_dbl(2)"
      ],
      "execution_count": null,
      "outputs": [
        {
          "output_type": "display_data",
          "data": {
            "text/plain": [
              "$`4`\n",
              "\n",
              "Call:\n",
              "lm(formula = mpg ~ wt, data = df)\n",
              "\n",
              "Coefficients:\n",
              "(Intercept)           wt  \n",
              "     39.571       -5.647  \n",
              "\n",
              "\n",
              "$`6`\n",
              "\n",
              "Call:\n",
              "lm(formula = mpg ~ wt, data = df)\n",
              "\n",
              "Coefficients:\n",
              "(Intercept)           wt  \n",
              "      28.41        -2.78  \n",
              "\n",
              "\n",
              "$`8`\n",
              "\n",
              "Call:\n",
              "lm(formula = mpg ~ wt, data = df)\n",
              "\n",
              "Coefficients:\n",
              "(Intercept)           wt  \n",
              "     23.868       -2.192  \n",
              "\n"
            ]
          },
          "metadata": {
            "tags": []
          }
        },
        {
          "output_type": "display_data",
          "data": {
            "text/plain": [
              "        4         6         8 \n",
              "0.5086326 0.4645102 0.4229655 "
            ],
            "text/latex": "\\begin{description*}\n\\item[4] 0.50863259632314\n\\item[6] 0.464510150550548\n\\item[8] 0.422965536496111\n\\end{description*}\n",
            "text/markdown": "4\n:   0.508632596323146\n:   0.4645101505505488\n:   0.422965536496111\n\n",
            "text/html": [
              "<style>\n",
              ".dl-inline {width: auto; margin:0; padding: 0}\n",
              ".dl-inline>dt, .dl-inline>dd {float: none; width: auto; display: inline-block}\n",
              ".dl-inline>dt::after {content: \":\\0020\"; padding-right: .5ex}\n",
              ".dl-inline>dt:not(:first-of-type) {padding-left: .5ex}\n",
              "</style><dl class=dl-inline><dt>4</dt><dd>0.50863259632314</dd><dt>6</dt><dd>0.464510150550548</dd><dt>8</dt><dd>0.422965536496111</dd></dl>\n"
            ]
          },
          "metadata": {
            "tags": []
          }
        },
        {
          "output_type": "display_data",
          "data": {
            "text/plain": [
              "[1] 2 5 8"
            ],
            "text/latex": "\\begin{enumerate*}\n\\item 2\n\\item 5\n\\item 8\n\\end{enumerate*}\n",
            "text/markdown": "1. 2\n2. 5\n3. 8\n\n\n",
            "text/html": [
              "<style>\n",
              ".list-inline {list-style: none; margin:0; padding: 0}\n",
              ".list-inline>li {display: inline-block}\n",
              ".list-inline>li:not(:last-child)::after {content: \"\\00b7\"; padding: 0 .5ex}\n",
              "</style>\n",
              "<ol class=list-inline><li>2</li><li>5</li><li>8</li></ol>\n"
            ]
          },
          "metadata": {
            "tags": []
          }
        }
      ]
    },
    {
      "cell_type": "markdown",
      "metadata": {
        "id": "I3az3qofc_XK"
      },
      "source": [
        "* 응용\n",
        " * define a function in a map function\n",
        " * extract a component"
      ]
    },
    {
      "cell_type": "markdown",
      "metadata": {
        "id": "-0DmyvhkOoXh"
      },
      "source": [
        "#* for_loops\n",
        "###3 components\n",
        "* The output\n",
        "\n",
        ">allocate sufficient space for the output\n",
        "\n",
        "* The sequence\n",
        "\n",
        ">what to loop over\n",
        "\n",
        "* The body\n",
        "\n",
        ">the code that does the work"
      ]
    },
    {
      "cell_type": "markdown",
      "metadata": {
        "id": "72NvRXxlPieR"
      },
      "source": [
        "###Example data"
      ]
    },
    {
      "cell_type": "code",
      "metadata": {
        "colab": {
          "base_uri": "https://localhost:8080/",
          "height": 406
        },
        "id": "e1oZxmEFNcvF",
        "outputId": "4721d07e-8410-4575-d531-0b89492b7579"
      },
      "source": [
        "df <- tibble(\n",
        "    a = rnorm(10),\n",
        "    b = rnorm(10),\n",
        "    c = rnorm(10),\n",
        "    d = rnorm(10)\n",
        "    )\n",
        "class(df)\n",
        "df"
      ],
      "execution_count": null,
      "outputs": [
        {
          "output_type": "display_data",
          "data": {
            "text/plain": [
              "[1] \"tbl_df\"     \"tbl\"        \"data.frame\""
            ],
            "text/latex": "\\begin{enumerate*}\n\\item 'tbl\\_df'\n\\item 'tbl'\n\\item 'data.frame'\n\\end{enumerate*}\n",
            "text/markdown": "1. 'tbl_df'\n2. 'tbl'\n3. 'data.frame'\n\n\n",
            "text/html": [
              "<style>\n",
              ".list-inline {list-style: none; margin:0; padding: 0}\n",
              ".list-inline>li {display: inline-block}\n",
              ".list-inline>li:not(:last-child)::after {content: \"\\00b7\"; padding: 0 .5ex}\n",
              "</style>\n",
              "<ol class=list-inline><li>'tbl_df'</li><li>'tbl'</li><li>'data.frame'</li></ol>\n"
            ]
          },
          "metadata": {
            "tags": []
          }
        },
        {
          "output_type": "display_data",
          "data": {
            "text/plain": [
              "   a          b          c          d         \n",
              "1  -0.8091547 -1.4926998 -0.1539209  0.7333885\n",
              "2   0.7819028 -0.4661417  0.6101357  2.5378040\n",
              "3   1.9878210 -2.0682077 -0.9086720 -0.6492723\n",
              "4  -0.7464279  0.1968621  0.2837478 -0.8803042\n",
              "5  -0.9640951  0.2871942  0.8387172  0.2735685\n",
              "6  -0.5729058 -1.0945172 -0.8920093 -1.3029256\n",
              "7   2.1272283  0.4086188 -0.3125696 -0.4849972\n",
              "8  -0.3515866 -0.2469558  1.0372024  0.3029632\n",
              "9   0.8295511  1.1696703  1.9819075 -0.2291312\n",
              "10 -1.1967233  0.2538781 -0.5043762  0.7050789"
            ],
            "text/latex": "A tibble: 10 × 4\n\\begin{tabular}{llll}\n a & b & c & d\\\\\n <dbl> & <dbl> & <dbl> & <dbl>\\\\\n\\hline\n\t -0.8091547 & -1.4926998 & -0.1539209 &  0.7333885\\\\\n\t  0.7819028 & -0.4661417 &  0.6101357 &  2.5378040\\\\\n\t  1.9878210 & -2.0682077 & -0.9086720 & -0.6492723\\\\\n\t -0.7464279 &  0.1968621 &  0.2837478 & -0.8803042\\\\\n\t -0.9640951 &  0.2871942 &  0.8387172 &  0.2735685\\\\\n\t -0.5729058 & -1.0945172 & -0.8920093 & -1.3029256\\\\\n\t  2.1272283 &  0.4086188 & -0.3125696 & -0.4849972\\\\\n\t -0.3515866 & -0.2469558 &  1.0372024 &  0.3029632\\\\\n\t  0.8295511 &  1.1696703 &  1.9819075 & -0.2291312\\\\\n\t -1.1967233 &  0.2538781 & -0.5043762 &  0.7050789\\\\\n\\end{tabular}\n",
            "text/markdown": "\nA tibble: 10 × 4\n\n| a &lt;dbl&gt; | b &lt;dbl&gt; | c &lt;dbl&gt; | d &lt;dbl&gt; |\n|---|---|---|---|\n| -0.8091547 | -1.4926998 | -0.1539209 |  0.7333885 |\n|  0.7819028 | -0.4661417 |  0.6101357 |  2.5378040 |\n|  1.9878210 | -2.0682077 | -0.9086720 | -0.6492723 |\n| -0.7464279 |  0.1968621 |  0.2837478 | -0.8803042 |\n| -0.9640951 |  0.2871942 |  0.8387172 |  0.2735685 |\n| -0.5729058 | -1.0945172 | -0.8920093 | -1.3029256 |\n|  2.1272283 |  0.4086188 | -0.3125696 | -0.4849972 |\n| -0.3515866 | -0.2469558 |  1.0372024 |  0.3029632 |\n|  0.8295511 |  1.1696703 |  1.9819075 | -0.2291312 |\n| -1.1967233 |  0.2538781 | -0.5043762 |  0.7050789 |\n\n",
            "text/html": [
              "<table class=\"dataframe\">\n",
              "<caption>A tibble: 10 × 4</caption>\n",
              "<thead>\n",
              "\t<tr><th scope=col>a</th><th scope=col>b</th><th scope=col>c</th><th scope=col>d</th></tr>\n",
              "\t<tr><th scope=col>&lt;dbl&gt;</th><th scope=col>&lt;dbl&gt;</th><th scope=col>&lt;dbl&gt;</th><th scope=col>&lt;dbl&gt;</th></tr>\n",
              "</thead>\n",
              "<tbody>\n",
              "\t<tr><td>-0.8091547</td><td>-1.4926998</td><td>-0.1539209</td><td> 0.7333885</td></tr>\n",
              "\t<tr><td> 0.7819028</td><td>-0.4661417</td><td> 0.6101357</td><td> 2.5378040</td></tr>\n",
              "\t<tr><td> 1.9878210</td><td>-2.0682077</td><td>-0.9086720</td><td>-0.6492723</td></tr>\n",
              "\t<tr><td>-0.7464279</td><td> 0.1968621</td><td> 0.2837478</td><td>-0.8803042</td></tr>\n",
              "\t<tr><td>-0.9640951</td><td> 0.2871942</td><td> 0.8387172</td><td> 0.2735685</td></tr>\n",
              "\t<tr><td>-0.5729058</td><td>-1.0945172</td><td>-0.8920093</td><td>-1.3029256</td></tr>\n",
              "\t<tr><td> 2.1272283</td><td> 0.4086188</td><td>-0.3125696</td><td>-0.4849972</td></tr>\n",
              "\t<tr><td>-0.3515866</td><td>-0.2469558</td><td> 1.0372024</td><td> 0.3029632</td></tr>\n",
              "\t<tr><td> 0.8295511</td><td> 1.1696703</td><td> 1.9819075</td><td>-0.2291312</td></tr>\n",
              "\t<tr><td>-1.1967233</td><td> 0.2538781</td><td>-0.5043762</td><td> 0.7050789</td></tr>\n",
              "</tbody>\n",
              "</table>\n"
            ]
          },
          "metadata": {
            "tags": []
          }
        }
      ]
    },
    {
      "cell_type": "markdown",
      "metadata": {
        "id": "I4SWnkxQMhCK"
      },
      "source": [
        "* __<rnorm(n)>__ n random numbers from normal distribution"
      ]
    },
    {
      "cell_type": "code",
      "metadata": {
        "colab": {
          "base_uri": "https://localhost:8080/",
          "height": 34
        },
        "id": "8DxU3wdEOaIH",
        "outputId": "028350b8-00e0-437b-cb94-53170821be1e"
      },
      "source": [
        "output <- vector(\"double\", ncol(df))  # 1. output\n",
        "for (i in seq_along(df)) {            # 2. sequence\n",
        "    output[[i]] <- median(df[[i]])    # 3. body\n",
        "    }\n",
        "output"
      ],
      "execution_count": null,
      "outputs": [
        {
          "output_type": "display_data",
          "data": {
            "text/plain": [
              "[1] -0.46224620 -0.02504683  0.06491343  0.02221863"
            ],
            "text/latex": "\\begin{enumerate*}\n\\item -0.462246202230473\n\\item -0.0250468257954401\n\\item 0.0649134269551744\n\\item 0.0222186329552086\n\\end{enumerate*}\n",
            "text/markdown": "1. -0.462246202230473\n2. -0.0250468257954401\n3. 0.0649134269551744\n4. 0.0222186329552086\n\n\n",
            "text/html": [
              "<style>\n",
              ".list-inline {list-style: none; margin:0; padding: 0}\n",
              ".list-inline>li {display: inline-block}\n",
              ".list-inline>li:not(:last-child)::after {content: \"\\00b7\"; padding: 0 .5ex}\n",
              "</style>\n",
              "<ol class=list-inline><li>-0.462246202230473</li><li>-0.0250468257954401</li><li>0.0649134269551744</li><li>0.0222186329552086</li></ol>\n"
            ]
          },
          "metadata": {
            "tags": []
          }
        }
      ]
    },
    {
      "cell_type": "markdown",
      "metadata": {
        "id": "LNIh_BNyR-tx"
      },
      "source": [
        "* body 내의 함수를 반복"
      ]
    },
    {
      "cell_type": "code",
      "metadata": {
        "colab": {
          "base_uri": "https://localhost:8080/",
          "height": 274
        },
        "id": "aQy61wPrSn39",
        "outputId": "47649a76-378d-429f-c15b-1f13ee70b7c9"
      },
      "source": [
        "install.packages(\"rbenchmark\")\n",
        "library(rbenchmark)\n",
        "\n",
        "simple1 <- function(n) {\n",
        "    output <- vector(\"double\", n)\n",
        "    for(i in 1:n)\n",
        "    output[i] = i\n",
        "    return(output)\n",
        "    }\n",
        "\n",
        "simple2 <- function(n) {\n",
        "    output <- c()\n",
        "    for(i in 1:n)\n",
        "    output = c(output, i)\n",
        "    return(output)\n",
        "    }\n",
        "\n",
        "simple1(3)\n",
        "simple2(3)\n",
        "\n",
        "output1 <- vector(\"double\", 4)\n",
        "output2 <- c()\n",
        "print(output1)\n",
        "output2\n",
        "\n",
        "benchmark(\"fc1\"=simple1(1000),\n",
        "          \"fc2\"=simple2(1000),\n",
        "          replications=100,\n",
        "          columns=c('test', 'elapsed', 'replications'))"
      ],
      "execution_count": null,
      "outputs": [
        {
          "output_type": "stream",
          "text": [
            "Installing package into ‘/usr/local/lib/R/site-library’\n",
            "(as ‘lib’ is unspecified)\n",
            "\n"
          ],
          "name": "stderr"
        },
        {
          "output_type": "display_data",
          "data": {
            "text/plain": [
              "[1] 1 2 3"
            ],
            "text/latex": "\\begin{enumerate*}\n\\item 1\n\\item 2\n\\item 3\n\\end{enumerate*}\n",
            "text/markdown": "1. 1\n2. 2\n3. 3\n\n\n",
            "text/html": [
              "<style>\n",
              ".list-inline {list-style: none; margin:0; padding: 0}\n",
              ".list-inline>li {display: inline-block}\n",
              ".list-inline>li:not(:last-child)::after {content: \"\\00b7\"; padding: 0 .5ex}\n",
              "</style>\n",
              "<ol class=list-inline><li>1</li><li>2</li><li>3</li></ol>\n"
            ]
          },
          "metadata": {
            "tags": []
          }
        },
        {
          "output_type": "display_data",
          "data": {
            "text/plain": [
              "[1] 1 2 3"
            ],
            "text/latex": "\\begin{enumerate*}\n\\item 1\n\\item 2\n\\item 3\n\\end{enumerate*}\n",
            "text/markdown": "1. 1\n2. 2\n3. 3\n\n\n",
            "text/html": [
              "<style>\n",
              ".list-inline {list-style: none; margin:0; padding: 0}\n",
              ".list-inline>li {display: inline-block}\n",
              ".list-inline>li:not(:last-child)::after {content: \"\\00b7\"; padding: 0 .5ex}\n",
              "</style>\n",
              "<ol class=list-inline><li>1</li><li>2</li><li>3</li></ol>\n"
            ]
          },
          "metadata": {
            "tags": []
          }
        },
        {
          "output_type": "stream",
          "text": [
            "[1] 0 0 0 0\n"
          ],
          "name": "stdout"
        },
        {
          "output_type": "display_data",
          "data": {
            "text/plain": [
              "NULL"
            ]
          },
          "metadata": {
            "tags": []
          }
        },
        {
          "output_type": "display_data",
          "data": {
            "text/plain": [
              "  test elapsed replications\n",
              "1 fc1  0.008   100         \n",
              "2 fc2  0.221   100         "
            ],
            "text/latex": "A data.frame: 2 × 3\n\\begin{tabular}{r|lll}\n  & test & elapsed & replications\\\\\n  & <chr> & <dbl> & <int>\\\\\n\\hline\n\t1 & fc1 & 0.008 & 100\\\\\n\t2 & fc2 & 0.221 & 100\\\\\n\\end{tabular}\n",
            "text/markdown": "\nA data.frame: 2 × 3\n\n| <!--/--> | test &lt;chr&gt; | elapsed &lt;dbl&gt; | replications &lt;int&gt; |\n|---|---|---|---|\n| 1 | fc1 | 0.008 | 100 |\n| 2 | fc2 | 0.221 | 100 |\n\n",
            "text/html": [
              "<table class=\"dataframe\">\n",
              "<caption>A data.frame: 2 × 3</caption>\n",
              "<thead>\n",
              "\t<tr><th></th><th scope=col>test</th><th scope=col>elapsed</th><th scope=col>replications</th></tr>\n",
              "\t<tr><th></th><th scope=col>&lt;chr&gt;</th><th scope=col>&lt;dbl&gt;</th><th scope=col>&lt;int&gt;</th></tr>\n",
              "</thead>\n",
              "<tbody>\n",
              "\t<tr><th scope=row>1</th><td>fc1</td><td>0.008</td><td>100</td></tr>\n",
              "\t<tr><th scope=row>2</th><td>fc2</td><td>0.221</td><td>100</td></tr>\n",
              "</tbody>\n",
              "</table>\n"
            ]
          },
          "metadata": {
            "tags": []
          }
        }
      ]
    },
    {
      "cell_type": "markdown",
      "metadata": {
        "id": "swsf8YKrTzUx"
      },
      "source": [
        "* 사전에 vector 저장 공간을 할당해 해당 공간에 output을 저장하는 방법이 output이 나올때마다 저장 공간을 하나하나 할당하는 방법보다 효율적이다"
      ]
    },
    {
      "cell_type": "code",
      "metadata": {
        "colab": {
          "base_uri": "https://localhost:8080/",
          "height": 84
        },
        "id": "-hl1S7kiVF9W",
        "outputId": "4641008b-08a1-4379-8ed8-ac17c86b6aac"
      },
      "source": [
        "?function()\n",
        "\n",
        "col_mean <- function(df) {\n",
        "    output <- vector(\"double\", ncol(df))\n",
        "    for (i in seq_along(df)) {\n",
        "        output[[i]] <- mean(df[[i]])\n",
        "        }\n",
        "    output\n",
        "    }\n",
        "col_mean(df)\n",
        "\n",
        "col_summary <- function(df, fun) {\n",
        "    out <- vector(\"double\", length(df))\n",
        "    for (i in seq_along(df)) {\n",
        "        out[i] <- fun(df[[i]])\n",
        "        }\n",
        "    out\n",
        "    }\n",
        "col_summary(df, mean)\n",
        "col_summary(df, median)\n",
        "col_summary(df, sd)"
      ],
      "execution_count": null,
      "outputs": [
        {
          "output_type": "display_data",
          "data": {
            "text/plain": [
              "[1]  0.1085610 -0.3052299  0.1980162  0.1006173"
            ],
            "text/latex": "\\begin{enumerate*}\n\\item 0.108560989636646\n\\item -0.305229861046475\n\\item 0.19801624203954\n\\item 0.100617263116382\n\\end{enumerate*}\n",
            "text/markdown": "1. 0.108560989636646\n2. -0.305229861046475\n3. 0.19801624203954\n4. 0.100617263116382\n\n\n",
            "text/html": [
              "<style>\n",
              ".list-inline {list-style: none; margin:0; padding: 0}\n",
              ".list-inline>li {display: inline-block}\n",
              ".list-inline>li:not(:last-child)::after {content: \"\\00b7\"; padding: 0 .5ex}\n",
              "</style>\n",
              "<ol class=list-inline><li>0.108560989636646</li><li>-0.305229861046475</li><li>0.19801624203954</li><li>0.100617263116382</li></ol>\n"
            ]
          },
          "metadata": {
            "tags": []
          }
        },
        {
          "output_type": "display_data",
          "data": {
            "text/plain": [
              "[1]  0.1085610 -0.3052299  0.1980162  0.1006173"
            ],
            "text/latex": "\\begin{enumerate*}\n\\item 0.108560989636646\n\\item -0.305229861046475\n\\item 0.19801624203954\n\\item 0.100617263116382\n\\end{enumerate*}\n",
            "text/markdown": "1. 0.108560989636646\n2. -0.305229861046475\n3. 0.19801624203954\n4. 0.100617263116382\n\n\n",
            "text/html": [
              "<style>\n",
              ".list-inline {list-style: none; margin:0; padding: 0}\n",
              ".list-inline>li {display: inline-block}\n",
              ".list-inline>li:not(:last-child)::after {content: \"\\00b7\"; padding: 0 .5ex}\n",
              "</style>\n",
              "<ol class=list-inline><li>0.108560989636646</li><li>-0.305229861046475</li><li>0.19801624203954</li><li>0.100617263116382</li></ol>\n"
            ]
          },
          "metadata": {
            "tags": []
          }
        },
        {
          "output_type": "display_data",
          "data": {
            "text/plain": [
              "[1] -0.46224620 -0.02504683  0.06491343  0.02221863"
            ],
            "text/latex": "\\begin{enumerate*}\n\\item -0.462246202230473\n\\item -0.0250468257954401\n\\item 0.0649134269551744\n\\item 0.0222186329552086\n\\end{enumerate*}\n",
            "text/markdown": "1. -0.462246202230473\n2. -0.0250468257954401\n3. 0.0649134269551744\n4. 0.0222186329552086\n\n\n",
            "text/html": [
              "<style>\n",
              ".list-inline {list-style: none; margin:0; padding: 0}\n",
              ".list-inline>li {display: inline-block}\n",
              ".list-inline>li:not(:last-child)::after {content: \"\\00b7\"; padding: 0 .5ex}\n",
              "</style>\n",
              "<ol class=list-inline><li>-0.462246202230473</li><li>-0.0250468257954401</li><li>0.0649134269551744</li><li>0.0222186329552086</li></ol>\n"
            ]
          },
          "metadata": {
            "tags": []
          }
        },
        {
          "output_type": "display_data",
          "data": {
            "text/plain": [
              "[1] 1.2330428 0.9871966 0.9288594 1.0915158"
            ],
            "text/latex": "\\begin{enumerate*}\n\\item 1.23304280912009\n\\item 0.987196556720368\n\\item 0.92885943511235\n\\item 1.09151580007953\n\\end{enumerate*}\n",
            "text/markdown": "1. 1.23304280912009\n2. 0.987196556720368\n3. 0.92885943511235\n4. 1.09151580007953\n\n\n",
            "text/html": [
              "<style>\n",
              ".list-inline {list-style: none; margin:0; padding: 0}\n",
              ".list-inline>li {display: inline-block}\n",
              ".list-inline>li:not(:last-child)::after {content: \"\\00b7\"; padding: 0 .5ex}\n",
              "</style>\n",
              "<ol class=list-inline><li>1.23304280912009</li><li>0.987196556720368</li><li>0.92885943511235</li><li>1.09151580007953</li></ol>\n"
            ]
          },
          "metadata": {
            "tags": []
          }
        }
      ]
    },
    {
      "cell_type": "markdown",
      "metadata": {
        "id": "170BQeJVViRo"
      },
      "source": [
        "* 응용\n",
        "\n",
        " * wrap up for_loops in a function\n",
        " * make function as a variable"
      ]
    },
    {
      "cell_type": "markdown",
      "metadata": {
        "id": "I4aJhfllnZPQ"
      },
      "source": [
        "#* functional programming __VS__ for_loops"
      ]
    },
    {
      "cell_type": "code",
      "metadata": {
        "id": "wfvwsn9RkOZB",
        "colab": {
          "base_uri": "https://localhost:8080/",
          "height": 182
        },
        "outputId": "3be7399c-b285-42e4-a9ce-c5d60d157c2d"
      },
      "source": [
        "n_len = 10\n",
        "gen1 <- function(n_len) {\n",
        "    rep(10,n_len) %>% map(~rnorm(.))\n",
        "    }\n",
        "\n",
        "gen2 <- function(n_len) {\n",
        "    df2 <- vector(mode = \"list\", length = n_len)\n",
        "    for (i in 1:n_len)\n",
        "    df2[[i]] <- rnorm(10)\n",
        "    df2\n",
        "    }\n",
        "\n",
        "gen3 <- function(n_len) {\n",
        "    lapply(rep(10,n_len), rnorm )\n",
        "    }\n",
        "\n",
        "benchmark(\"fc1\"=gen1(1000),\n",
        "          \"fc2\"=gen2(1000),\n",
        "          \"fc3\"=gen3(1000),\n",
        "          replications=100,\n",
        "          columns=c('test', 'elapsed', 'replications'))"
      ],
      "execution_count": null,
      "outputs": [
        {
          "output_type": "display_data",
          "data": {
            "text/plain": [
              "  test elapsed replications\n",
              "1 fc1  0.563   100         \n",
              "2 fc2  0.396   100         \n",
              "3 fc3  0.450   100         "
            ],
            "text/latex": "A data.frame: 3 × 3\n\\begin{tabular}{r|lll}\n  & test & elapsed & replications\\\\\n  & <chr> & <dbl> & <int>\\\\\n\\hline\n\t1 & fc1 & 0.563 & 100\\\\\n\t2 & fc2 & 0.396 & 100\\\\\n\t3 & fc3 & 0.450 & 100\\\\\n\\end{tabular}\n",
            "text/markdown": "\nA data.frame: 3 × 3\n\n| <!--/--> | test &lt;chr&gt; | elapsed &lt;dbl&gt; | replications &lt;int&gt; |\n|---|---|---|---|\n| 1 | fc1 | 0.563 | 100 |\n| 2 | fc2 | 0.396 | 100 |\n| 3 | fc3 | 0.450 | 100 |\n\n",
            "text/html": [
              "<table class=\"dataframe\">\n",
              "<caption>A data.frame: 3 × 3</caption>\n",
              "<thead>\n",
              "\t<tr><th></th><th scope=col>test</th><th scope=col>elapsed</th><th scope=col>replications</th></tr>\n",
              "\t<tr><th></th><th scope=col>&lt;chr&gt;</th><th scope=col>&lt;dbl&gt;</th><th scope=col>&lt;int&gt;</th></tr>\n",
              "</thead>\n",
              "<tbody>\n",
              "\t<tr><th scope=row>1</th><td>fc1</td><td>0.563</td><td>100</td></tr>\n",
              "\t<tr><th scope=row>2</th><td>fc2</td><td>0.396</td><td>100</td></tr>\n",
              "\t<tr><th scope=row>3</th><td>fc3</td><td>0.450</td><td>100</td></tr>\n",
              "</tbody>\n",
              "</table>\n"
            ]
          },
          "metadata": {
            "tags": []
          }
        }
      ]
    },
    {
      "cell_type": "markdown",
      "metadata": {
        "id": "iO56eZqMkqoa"
      },
      "source": [
        "* apply() and lapply() can be alternatives of map()\n",
        "* use the one that you are familiar with\n",
        "* but functional programming is memory efficient by not saving internal calculations. Easier to understand if you get used to it."
      ]
    }
  ]
}