{
  "nbformat": 4,
  "nbformat_minor": 0,
  "metadata": {
    "colab": {
      "name": "데이터_사이언스_학습지.ipynb",
      "provenance": [],
      "collapsed_sections": [],
      "authorship_tag": "ABX9TyPNRYnlO5B1GVIksBBb1Rqx",
      "include_colab_link": true
    },
    "kernelspec": {
      "name": "python3",
      "display_name": "Python 3"
    },
    "language_info": {
      "name": "python"
    }
  },
  "cells": [
    {
      "cell_type": "markdown",
      "metadata": {
        "id": "view-in-github",
        "colab_type": "text"
      },
      "source": [
        "<a href=\"https://colab.research.google.com/github/yoonyoung27/prac_class/blob/main/%EB%8D%B0%EC%9D%B4%ED%84%B0_%EC%82%AC%EC%9D%B4%EC%96%B8%EC%8A%A4_%ED%95%99%EC%8A%B5%EC%A7%80.ipynb\" target=\"_parent\"><img src=\"https://colab.research.google.com/assets/colab-badge.svg\" alt=\"Open In Colab\"/></a>"
      ]
    },
    {
      "cell_type": "markdown",
      "metadata": {
        "id": "SPJWCmDFm0ku"
      },
      "source": [
        "https://zzsza.github.io/diary/2021/02/21/various-data-jobs/\n",
        "\n",
        "https://brunch.co.kr/@parkkyunga/28\n",
        "\n",
        "https://www.mobiinside.co.kr/2020/04/20/labbit-growth-hacking/"
      ]
    },
    {
      "cell_type": "code",
      "metadata": {
        "colab": {
          "base_uri": "https://localhost:8080/"
        },
        "id": "od6Qo6TRHT__",
        "outputId": "6bed459d-f056-43cf-c607-cd620fa58127"
      },
      "source": [
        "from google.colab import drive\n",
        "drive.mount('/content/drive')"
      ],
      "execution_count": null,
      "outputs": [
        {
          "output_type": "stream",
          "text": [
            "Mounted at /content/drive\n"
          ],
          "name": "stdout"
        }
      ]
    },
    {
      "cell_type": "code",
      "metadata": {
        "id": "ZZXKh16SIXjL"
      },
      "source": [
        "import pandas as pd"
      ],
      "execution_count": null,
      "outputs": []
    },
    {
      "cell_type": "code",
      "metadata": {
        "colab": {
          "base_uri": "https://localhost:8080/",
          "height": 195
        },
        "id": "RxM6JtvbHqsx",
        "outputId": "769b1601-7f7c-41ea-aa28-a2581217134e"
      },
      "source": [
        "chicken_09 = pd.read_csv('/content/drive/MyDrive/chicken_09.csv')\n",
        "chicken_09.head()"
      ],
      "execution_count": null,
      "outputs": [
        {
          "output_type": "execute_result",
          "data": {
            "text/html": [
              "<div>\n",
              "<style scoped>\n",
              "    .dataframe tbody tr th:only-of-type {\n",
              "        vertical-align: middle;\n",
              "    }\n",
              "\n",
              "    .dataframe tbody tr th {\n",
              "        vertical-align: top;\n",
              "    }\n",
              "\n",
              "    .dataframe thead th {\n",
              "        text-align: right;\n",
              "    }\n",
              "</style>\n",
              "<table border=\"1\" class=\"dataframe\">\n",
              "  <thead>\n",
              "    <tr style=\"text-align: right;\">\n",
              "      <th></th>\n",
              "      <th>기준일</th>\n",
              "      <th>요일</th>\n",
              "      <th>성별</th>\n",
              "      <th>연령대</th>\n",
              "      <th>시도</th>\n",
              "      <th>시군구</th>\n",
              "      <th>읍면동</th>\n",
              "      <th>업종</th>\n",
              "      <th>통화건수</th>\n",
              "    </tr>\n",
              "  </thead>\n",
              "  <tbody>\n",
              "    <tr>\n",
              "      <th>0</th>\n",
              "      <td>20190901</td>\n",
              "      <td>일</td>\n",
              "      <td>여</td>\n",
              "      <td>30대</td>\n",
              "      <td>서울특별시</td>\n",
              "      <td>강남구</td>\n",
              "      <td>개포동</td>\n",
              "      <td>치킨</td>\n",
              "      <td>5</td>\n",
              "    </tr>\n",
              "    <tr>\n",
              "      <th>1</th>\n",
              "      <td>20190901</td>\n",
              "      <td>일</td>\n",
              "      <td>남</td>\n",
              "      <td>30대</td>\n",
              "      <td>서울특별시</td>\n",
              "      <td>강남구</td>\n",
              "      <td>논현동</td>\n",
              "      <td>치킨</td>\n",
              "      <td>20</td>\n",
              "    </tr>\n",
              "    <tr>\n",
              "      <th>2</th>\n",
              "      <td>20190901</td>\n",
              "      <td>일</td>\n",
              "      <td>남</td>\n",
              "      <td>30대</td>\n",
              "      <td>서울특별시</td>\n",
              "      <td>강남구</td>\n",
              "      <td>삼성동</td>\n",
              "      <td>치킨</td>\n",
              "      <td>20</td>\n",
              "    </tr>\n",
              "    <tr>\n",
              "      <th>3</th>\n",
              "      <td>20190901</td>\n",
              "      <td>일</td>\n",
              "      <td>남</td>\n",
              "      <td>30대</td>\n",
              "      <td>서울특별시</td>\n",
              "      <td>강남구</td>\n",
              "      <td>세곡동</td>\n",
              "      <td>치킨</td>\n",
              "      <td>5</td>\n",
              "    </tr>\n",
              "    <tr>\n",
              "      <th>4</th>\n",
              "      <td>20190901</td>\n",
              "      <td>일</td>\n",
              "      <td>남</td>\n",
              "      <td>30대</td>\n",
              "      <td>서울특별시</td>\n",
              "      <td>강남구</td>\n",
              "      <td>수서동</td>\n",
              "      <td>치킨</td>\n",
              "      <td>5</td>\n",
              "    </tr>\n",
              "  </tbody>\n",
              "</table>\n",
              "</div>"
            ],
            "text/plain": [
              "        기준일 요일 성별  연령대     시도  시군구  읍면동  업종  통화건수\n",
              "0  20190901  일  여  30대  서울특별시  강남구  개포동  치킨     5\n",
              "1  20190901  일  남  30대  서울특별시  강남구  논현동  치킨    20\n",
              "2  20190901  일  남  30대  서울특별시  강남구  삼성동  치킨    20\n",
              "3  20190901  일  남  30대  서울특별시  강남구  세곡동  치킨     5\n",
              "4  20190901  일  남  30대  서울특별시  강남구  수서동  치킨     5"
            ]
          },
          "metadata": {
            "tags": []
          },
          "execution_count": 26
        }
      ]
    },
    {
      "cell_type": "code",
      "metadata": {
        "colab": {
          "base_uri": "https://localhost:8080/"
        },
        "id": "3pGV98VPKOmr",
        "outputId": "c90de169-0afe-4027-b19b-d21f56b871c3"
      },
      "source": [
        "chicken_09[\"요일\"].value_counts()"
      ],
      "execution_count": null,
      "outputs": [
        {
          "output_type": "execute_result",
          "data": {
            "text/plain": [
              "일    4147\n",
              "월    3694\n",
              "토    3439\n",
              "금    3371\n",
              "수    3264\n",
              "화    3105\n",
              "목    3097\n",
              "Name: 요일, dtype: int64"
            ]
          },
          "metadata": {
            "tags": []
          },
          "execution_count": 27
        }
      ]
    },
    {
      "cell_type": "code",
      "metadata": {
        "colab": {
          "base_uri": "https://localhost:8080/"
        },
        "id": "YO6iCIVdIb8y",
        "outputId": "8512d34a-6217-4cf7-d636-b5695c35ed5b"
      },
      "source": [
        "chicken_09[\"시군구\"].value_counts()"
      ],
      "execution_count": null,
      "outputs": [
        {
          "output_type": "execute_result",
          "data": {
            "text/plain": [
              "강남구     2149\n",
              "강서구     1600\n",
              "서초구     1429\n",
              "중구      1362\n",
              "서대문구    1324\n",
              "영등포구    1254\n",
              "마포구     1193\n",
              "강동구     1099\n",
              "구로구     1081\n",
              "용산구     1069\n",
              "송파구     1035\n",
              "성북구      986\n",
              "노원구      878\n",
              "강북구      851\n",
              "동대문구     827\n",
              "성동구      818\n",
              "은평구      749\n",
              "중랑구      659\n",
              "종로구      656\n",
              "금천구      653\n",
              "양천구      646\n",
              "동작구      553\n",
              "관악구      530\n",
              "광진구      418\n",
              "도봉구      298\n",
              "Name: 시군구, dtype: int64"
            ]
          },
          "metadata": {
            "tags": []
          },
          "execution_count": 28
        }
      ]
    },
    {
      "cell_type": "code",
      "metadata": {
        "colab": {
          "base_uri": "https://localhost:8080/",
          "height": 195
        },
        "id": "NvwkUPrNJyJV",
        "outputId": "793b8225-4683-4b34-e6ca-53158350b495"
      },
      "source": [
        "pizza_09 = pd.read_csv('/content/drive/MyDrive/pizza_09.csv')\n",
        "pizza_09.head()"
      ],
      "execution_count": null,
      "outputs": [
        {
          "output_type": "execute_result",
          "data": {
            "text/html": [
              "<div>\n",
              "<style scoped>\n",
              "    .dataframe tbody tr th:only-of-type {\n",
              "        vertical-align: middle;\n",
              "    }\n",
              "\n",
              "    .dataframe tbody tr th {\n",
              "        vertical-align: top;\n",
              "    }\n",
              "\n",
              "    .dataframe thead th {\n",
              "        text-align: right;\n",
              "    }\n",
              "</style>\n",
              "<table border=\"1\" class=\"dataframe\">\n",
              "  <thead>\n",
              "    <tr style=\"text-align: right;\">\n",
              "      <th></th>\n",
              "      <th>일자</th>\n",
              "      <th>요일</th>\n",
              "      <th>성별</th>\n",
              "      <th>연령</th>\n",
              "      <th>발신지_시도</th>\n",
              "      <th>발신지_구</th>\n",
              "      <th>발신지_동</th>\n",
              "      <th>통화건수</th>\n",
              "    </tr>\n",
              "  </thead>\n",
              "  <tbody>\n",
              "    <tr>\n",
              "      <th>0</th>\n",
              "      <td>20190901</td>\n",
              "      <td>일</td>\n",
              "      <td>남</td>\n",
              "      <td>30대</td>\n",
              "      <td>서울특별시</td>\n",
              "      <td>강남구</td>\n",
              "      <td>삼성동</td>\n",
              "      <td>9</td>\n",
              "    </tr>\n",
              "    <tr>\n",
              "      <th>1</th>\n",
              "      <td>20190901</td>\n",
              "      <td>일</td>\n",
              "      <td>남</td>\n",
              "      <td>30대</td>\n",
              "      <td>서울특별시</td>\n",
              "      <td>강남구</td>\n",
              "      <td>논현동</td>\n",
              "      <td>10</td>\n",
              "    </tr>\n",
              "    <tr>\n",
              "      <th>2</th>\n",
              "      <td>20190901</td>\n",
              "      <td>일</td>\n",
              "      <td>남</td>\n",
              "      <td>30대</td>\n",
              "      <td>서울특별시</td>\n",
              "      <td>강남구</td>\n",
              "      <td>개포동</td>\n",
              "      <td>5</td>\n",
              "    </tr>\n",
              "    <tr>\n",
              "      <th>3</th>\n",
              "      <td>20190901</td>\n",
              "      <td>일</td>\n",
              "      <td>여</td>\n",
              "      <td>50대</td>\n",
              "      <td>서울특별시</td>\n",
              "      <td>강남구</td>\n",
              "      <td>삼성동</td>\n",
              "      <td>7</td>\n",
              "    </tr>\n",
              "    <tr>\n",
              "      <th>4</th>\n",
              "      <td>20190901</td>\n",
              "      <td>일</td>\n",
              "      <td>여</td>\n",
              "      <td>50대</td>\n",
              "      <td>서울특별시</td>\n",
              "      <td>강남구</td>\n",
              "      <td>도곡동</td>\n",
              "      <td>5</td>\n",
              "    </tr>\n",
              "  </tbody>\n",
              "</table>\n",
              "</div>"
            ],
            "text/plain": [
              "         일자 요일 성별   연령 발신지_시도 발신지_구 발신지_동  통화건수\n",
              "0  20190901  일  남  30대  서울특별시   강남구   삼성동     9\n",
              "1  20190901  일  남  30대  서울특별시   강남구   논현동    10\n",
              "2  20190901  일  남  30대  서울특별시   강남구   개포동     5\n",
              "3  20190901  일  여  50대  서울특별시   강남구   삼성동     7\n",
              "4  20190901  일  여  50대  서울특별시   강남구   도곡동     5"
            ]
          },
          "metadata": {
            "tags": []
          },
          "execution_count": 29
        }
      ]
    },
    {
      "cell_type": "code",
      "metadata": {
        "colab": {
          "base_uri": "https://localhost:8080/"
        },
        "id": "BGAdwOR4KTi-",
        "outputId": "741cef1d-139a-4032-e3bd-f1ae9fd853fb"
      },
      "source": [
        "pizza_09[\"요일\"].value_counts()"
      ],
      "execution_count": null,
      "outputs": [
        {
          "output_type": "execute_result",
          "data": {
            "text/plain": [
              "일    3348\n",
              "토    2750\n",
              "월    2685\n",
              "수    2420\n",
              "금    2406\n",
              "목    2358\n",
              "화    2258\n",
              "Name: 요일, dtype: int64"
            ]
          },
          "metadata": {
            "tags": []
          },
          "execution_count": 30
        }
      ]
    },
    {
      "cell_type": "code",
      "metadata": {
        "colab": {
          "base_uri": "https://localhost:8080/"
        },
        "id": "FB-Yow8SJ65b",
        "outputId": "30f4db3b-ae53-4b9a-8f55-0c6fb5fed3e5"
      },
      "source": [
        "pizza_09[\"발신지_구\"].value_counts()"
      ],
      "execution_count": null,
      "outputs": [
        {
          "output_type": "execute_result",
          "data": {
            "text/plain": [
              "강서구     1434\n",
              "강남구     1376\n",
              "중구      1082\n",
              "서초구     1047\n",
              "서대문구    1037\n",
              "강동구      934\n",
              "영등포구     875\n",
              "마포구      853\n",
              "구로구      818\n",
              "노원구      790\n",
              "송파구      789\n",
              "동대문구     778\n",
              "강북구      771\n",
              "성동구      733\n",
              "성북구      660\n",
              "용산구      597\n",
              "중랑구      574\n",
              "은평구      569\n",
              "관악구      507\n",
              "금천구      448\n",
              "종로구      447\n",
              "양천구      334\n",
              "동작구      333\n",
              "광진구      246\n",
              "도봉구      193\n",
              "Name: 발신지_구, dtype: int64"
            ]
          },
          "metadata": {
            "tags": []
          },
          "execution_count": 31
        }
      ]
    },
    {
      "cell_type": "code",
      "metadata": {
        "id": "-ff3HWOjP4eU",
        "colab": {
          "base_uri": "https://localhost:8080/"
        },
        "outputId": "ad943398-4d5e-445a-fa7b-a75fe2ede461"
      },
      "source": [
        "import requests\n",
        "from bs4 import BeautifulSoup\n",
        "\n",
        "# URL을 읽어서 HTML를 받아오고,\n",
        "headers = {\n",
        "    'User-Agent': 'Mozilla/5.0 (Windows NT 10.0; Win64; x64)AppleWebKit/537.36 (KHTML, like Gecko) Chrome/73.0.3683.86 Safari/537.36'}\n",
        "data = requests.get('https://movie.naver.com/movie/sdb/rank/rmovie.nhn?sel=pnt&date=20200716', headers=headers)\n",
        "\n",
        "# HTML을 BeautifulSoup이라는 라이브러리를 활용해 검색하기 용이한 상태로 만듦\n",
        "soup = BeautifulSoup(data.text, 'html.parser')\n",
        "\n",
        "# select를 이용해서, tr들을 불러오기\n",
        "movies = soup.select('#old_content > table > tbody > tr')\n",
        "\n",
        "# movies (tr들) 의 반복문을 돌리기\n",
        "for movie in movies:\n",
        "    # movie 안에 a 가 있으면,\n",
        "    a_tag = movie.select_one('td.title > div > a')\n",
        "    if a_tag is not None:\n",
        "        # a의 text를 찍어본다.\n",
        "        print(a_tag.text)"
      ],
      "execution_count": null,
      "outputs": [
        {
          "output_type": "stream",
          "text": [
            "그린 북\n",
            "가버나움\n",
            "베일리 어게인\n",
            "원더\n",
            "포드 V 페라리\n",
            "아일라\n",
            "주전장\n",
            "당갈\n",
            "쇼생크 탈출\n",
            "터미네이터 2:오리지널\n",
            "보헤미안 랩소디\n",
            "덕구\n",
            "월-E\n",
            "나 홀로 집에\n",
            "아이즈 온 미 : 더 무비\n",
            "라이언 일병 구하기\n",
            "사운드 오브 뮤직\n",
            "살인의 추억\n",
            "매트릭스\n",
            "인생은 아름다워\n",
            "헬프\n",
            "빽 투 더 퓨쳐\n",
            "포레스트 검프\n",
            "위대한 쇼맨\n",
            "클래식\n",
            "글래디에이터\n",
            "센과 치히로의 행방불명\n",
            "토이 스토리 3\n",
            "타이타닉\n",
            "알라딘\n",
            "어벤져스: 엔드게임\n",
            "안녕 베일리\n",
            "죽은 시인의 사회\n",
            "레옹\n",
            "집으로...\n",
            "헌터 킬러\n",
            "반지의 제왕: 왕의 귀환\n",
            "동주\n",
            "아이 캔 스피크\n",
            "캐스트 어웨이\n",
            "히든 피겨스\n",
            "굿바이 마이 프랜드\n",
            "여인의 향기\n",
            "굿 윌 헌팅\n",
            "서유기 2 - 선리기연\n",
            "클레멘타인\n",
            "주토피아\n",
            "쉰들러 리스트\n",
            "달링\n",
            "모노노케 히메\n"
          ],
          "name": "stdout"
        }
      ]
    }
  ]
}