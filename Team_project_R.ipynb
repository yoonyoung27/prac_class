{
  "nbformat": 4,
  "nbformat_minor": 0,
  "metadata": {
    "colab": {
      "name": "Team_project_R.ipynb",
      "provenance": [],
      "authorship_tag": "ABX9TyN8oHGder0EvFp9CYgMIQ+m",
      "include_colab_link": true
    },
    "kernelspec": {
      "name": "ir",
      "display_name": "R"
    },
    "language_info": {
      "name": "R"
    }
  },
  "cells": [
    {
      "cell_type": "markdown",
      "metadata": {
        "id": "view-in-github",
        "colab_type": "text"
      },
      "source": [
        "<a href=\"https://colab.research.google.com/github/yoonyoung27/prac_class/blob/main/Team_project_R.ipynb\" target=\"_parent\"><img src=\"https://colab.research.google.com/assets/colab-badge.svg\" alt=\"Open In Colab\"/></a>"
      ]
    },
    {
      "cell_type": "markdown",
      "metadata": {
        "id": "gYh0az8nGPvo"
      },
      "source": [
        "### 준비 과정"
      ]
    },
    {
      "cell_type": "code",
      "metadata": {
        "id": "rzqgigW9FP6M"
      },
      "source": [
        "# 패키지 불러오기 \n",
        "library(data.table)\n",
        "library(magrittr)\n",
        "library(ggplot2)"
      ],
      "execution_count": 2,
      "outputs": []
    },
    {
      "cell_type": "markdown",
      "metadata": {
        "id": "4nvpF_T1GHbd"
      },
      "source": [
        "* Colab에서 plotly 그래프 띄우기  \n",
        "https://blog.naver.com/ujb0411/221631595931"
      ]
    },
    {
      "cell_type": "code",
      "metadata": {
        "id": "LNvUa2FNH0ik"
      },
      "source": [
        "# 데이터 불러오기\n",
        "system(\"gdown --id 1JxhWEDa_hbp_5BaZdAhCyYKQLhgwbXGt\")\n",
        "dt_train = read.csv(\"train.csv\", header = T, fileEncoding = \"euc-kr\")  # CSV파일에 한글로 된 내용이 있는 경우"
      ],
      "execution_count": 18,
      "outputs": []
    },
    {
      "cell_type": "code",
      "metadata": {
        "id": "rOfMn_K4JeQG"
      },
      "source": [
        "# 변수 이름 바꾸기\n",
        "names(dt_train) = c('num', 'date_time', '전력사용량', '기온', '풍속', '습도', '강수량', '일조', '비전기냉방설비운영', '태양광보유')"
      ],
      "execution_count": 19,
      "outputs": []
    },
    {
      "cell_type": "code",
      "metadata": {
        "colab": {
          "base_uri": "https://localhost:8080/",
          "height": 151
        },
        "id": "kheEcrGYJpFJ",
        "outputId": "ec1758e7-fb64-41a7-bd6c-288b916a7628"
      },
      "source": [
        "# 날짜/시간 변수 형식 변환 및 파생 변수 생성\n",
        "library(tidyverse)\n",
        "dt_train[, date_time := as.POSIXct(date_time, tz='', format='%F %H')]\n",
        "dt_train[, date_time := (date = as.Date(date_time, tz=''),\n",
        "                         hour = as.factor(format(date_time, format='%H')),\n",
        "                         dow  = as.factor(format(date_time, format='%u')))]"
      ],
      "execution_count": 31,
      "outputs": [
        {
          "output_type": "error",
          "ename": "ERROR",
          "evalue": "ignored",
          "traceback": [
            "Error in parse(text = x, srcfile = src): <text>:3:58: unexpected ','\n2: dt_train[, date_time := as.POSIXct(date_time, tz='', format='%F %H')]\n3: dt_train[, date_time := (date = as.Date(date_time, tz=''),\n                                                            ^\nTraceback:\n"
          ]
        }
      ]
    }
  ]
}