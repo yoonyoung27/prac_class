{
  "nbformat": 4,
  "nbformat_minor": 0,
  "metadata": {
    "colab": {
      "name": "deeplearning_prac1.ipynb",
      "provenance": [],
      "authorship_tag": "ABX9TyMcC0BNqY4zTKcJoIxi6fFw",
      "include_colab_link": true
    },
    "kernelspec": {
      "name": "python3",
      "display_name": "Python 3"
    },
    "language_info": {
      "name": "python"
    },
    "accelerator": "GPU"
  },
  "cells": [
    {
      "cell_type": "markdown",
      "metadata": {
        "id": "view-in-github",
        "colab_type": "text"
      },
      "source": [
        "<a href=\"https://colab.research.google.com/github/yoonyoung27/prac_class/blob/main/deeplearning_prac1.ipynb\" target=\"_parent\"><img src=\"https://colab.research.google.com/assets/colab-badge.svg\" alt=\"Open In Colab\"/></a>"
      ]
    },
    {
      "cell_type": "markdown",
      "metadata": {
        "id": "4QpU3b1SvluJ"
      },
      "source": [
        "### Preparation settings\n",
        "\n",
        "* 런타임 유형 : GPU"
      ]
    },
    {
      "cell_type": "code",
      "metadata": {
        "colab": {
          "base_uri": "https://localhost:8080/"
        },
        "id": "t6gHUNt7vWjV",
        "outputId": "7d41778e-641f-448a-ce59-a85bf41cc81e"
      },
      "source": [
        "!nvidia-smi"
      ],
      "execution_count": 16,
      "outputs": [
        {
          "output_type": "stream",
          "text": [
            "Mon Apr  5 07:04:38 2021       \n",
            "+-----------------------------------------------------------------------------+\n",
            "| NVIDIA-SMI 460.67       Driver Version: 460.32.03    CUDA Version: 11.2     |\n",
            "|-------------------------------+----------------------+----------------------+\n",
            "| GPU  Name        Persistence-M| Bus-Id        Disp.A | Volatile Uncorr. ECC |\n",
            "| Fan  Temp  Perf  Pwr:Usage/Cap|         Memory-Usage | GPU-Util  Compute M. |\n",
            "|                               |                      |               MIG M. |\n",
            "|===============================+======================+======================|\n",
            "|   0  Tesla P100-PCIE...  Off  | 00000000:00:04.0 Off |                    0 |\n",
            "| N/A   34C    P0    26W / 250W |      0MiB / 16280MiB |      0%      Default |\n",
            "|                               |                      |                  N/A |\n",
            "+-------------------------------+----------------------+----------------------+\n",
            "                                                                               \n",
            "+-----------------------------------------------------------------------------+\n",
            "| Processes:                                                                  |\n",
            "|  GPU   GI   CI        PID   Type   Process name                  GPU Memory |\n",
            "|        ID   ID                                                   Usage      |\n",
            "|=============================================================================|\n",
            "|  No running processes found                                                 |\n",
            "+-----------------------------------------------------------------------------+\n"
          ],
          "name": "stdout"
        }
      ]
    },
    {
      "cell_type": "markdown",
      "metadata": {
        "id": "pa8kWMMIvg2i"
      },
      "source": [
        "* GPU 확인 : Persistance-M"
      ]
    },
    {
      "cell_type": "code",
      "metadata": {
        "colab": {
          "base_uri": "https://localhost:8080/",
          "height": 35
        },
        "id": "yk11DVw1vsHZ",
        "outputId": "3d454ced-030d-41cf-9e38-322a952fa391"
      },
      "source": [
        "import tensorflow\n",
        "tensorflow.keras.__version__"
      ],
      "execution_count": 17,
      "outputs": [
        {
          "output_type": "execute_result",
          "data": {
            "application/vnd.google.colaboratory.intrinsic+json": {
              "type": "string"
            },
            "text/plain": [
              "'2.4.0'"
            ]
          },
          "metadata": {
            "tags": []
          },
          "execution_count": 17
        }
      ]
    },
    {
      "cell_type": "markdown",
      "metadata": {
        "id": "B-mPJ4jzvrf2"
      },
      "source": [
        "* [Tensorflow](https://www.tensorflow.org/?hl=ko) : ML 모델을 개발하고 학습시키는 데 도움이 되는 핵심 오픈소스 라이브러리"
      ]
    },
    {
      "cell_type": "markdown",
      "metadata": {
        "id": "RoUDp7fXxXtq"
      },
      "source": [
        "# Classify hand-written digits\n",
        "\n",
        "This notebook contains the code samples found in Chapter 2, Section 1 of [Deep Learning with Python](https://www.manning.com/books/deep-learning-with-python?a_aid=keras&a_bid=76564dff).\n",
        "\n",
        "**The problem we are trying to solve here is to classify grayscale images of handwritten digits (28 pixels by 28 pixels), into their 10 categories (0 to 9).** It's a first concrete example of a neural network which makes use of the Python library Keras, MNIST dataset."
      ]
    },
    {
      "cell_type": "markdown",
      "metadata": {
        "id": "dTOtHOcT1H01"
      },
      "source": [
        "### Ready for dataset"
      ]
    },
    {
      "cell_type": "code",
      "metadata": {
        "id": "SVbbEdO-xnmZ"
      },
      "source": [
        "from tensorflow.keras.datasets import mnist\n",
        "\n",
        "(train_images, train_labels), (test_images, test_labels) = mnist.load_data()"
      ],
      "execution_count": 29,
      "outputs": []
    },
    {
      "cell_type": "markdown",
      "metadata": {
        "id": "jqezv36txoRP"
      },
      "source": [
        "* mnist.load_data() 함수는 '(x_train, y_train), (x_test, y_test)'값을 반환하므로 (train_images, train_labels), (test_images, test_labels) 변수로 반환값을 받는다.\n",
        "* `train_images` and `train_labels` form the \"training set\", the data that the model will learn from. The model will then be tested on the \n",
        "\"test set\", `test_images` and `test_labels`. Our images are encoded as Numpy arrays, and the labels are simply an array of digits, ranging \n",
        "from 0 to 9. There is a one-to-one correspondence between the images and the labels."
      ]
    },
    {
      "cell_type": "markdown",
      "metadata": {
        "id": "Nbv2tEfAHecc"
      },
      "source": [
        "###\\* Tensor\n",
        "\n",
        "![image.png](data:image/png;base64,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)\n",
        "\n",
        "* Rank : number of axes can be checked by .ndim for numpy object\n",
        "* Shape : dimensions the tensor has along each axes can be checked by .shape for numpy object\n",
        "* Data type : type and bit you use can be checked by .dtype for numpy object"
      ]
    },
    {
      "cell_type": "code",
      "metadata": {
        "colab": {
          "base_uri": "https://localhost:8080/"
        },
        "id": "MAoOGcMmzbON",
        "outputId": "69805e82-c26a-4cfe-da8b-7ccba7f7dec1"
      },
      "source": [
        "print(train_images.ndim,\n",
        "      train_images.shape,\n",
        "      train_images.dtype,)\n",
        "\n",
        "import numpy as np\n",
        "np.max(train_images)"
      ],
      "execution_count": 34,
      "outputs": [
        {
          "output_type": "stream",
          "text": [
            "3 (60000, 28, 28) uint8\n"
          ],
          "name": "stdout"
        },
        {
          "output_type": "execute_result",
          "data": {
            "text/plain": [
              "255"
            ]
          },
          "metadata": {
            "tags": []
          },
          "execution_count": 34
        }
      ]
    },
    {
      "cell_type": "markdown",
      "metadata": {
        "id": "A_wj6dzczcBe"
      },
      "source": [
        "* The train set has 60000 observations, 28 pixels by 28 pixels"
      ]
    },
    {
      "cell_type": "code",
      "metadata": {
        "colab": {
          "base_uri": "https://localhost:8080/"
        },
        "id": "tx_Bb8kPzibz",
        "outputId": "4b8c1f8a-1c30-431b-c782-a8e798bcd1fd"
      },
      "source": [
        "print(test_images.shape,\n",
        "      len(test_labels),\n",
        "      test_labels)"
      ],
      "execution_count": 31,
      "outputs": [
        {
          "output_type": "stream",
          "text": [
            "(10000, 28, 28) 10000 [7 2 1 ... 4 5 6]\n"
          ],
          "name": "stdout"
        }
      ]
    },
    {
      "cell_type": "markdown",
      "metadata": {
        "id": "VEefyBts0KfG"
      },
      "source": [
        "* The test tet has 10000 observations, 28 pixels by 28 pixels"
      ]
    },
    {
      "cell_type": "code",
      "metadata": {
        "colab": {
          "base_uri": "https://localhost:8080/",
          "height": 265
        },
        "id": "fT-gt0HPJxww",
        "outputId": "bc40da3f-2cdd-4975-f5f1-baa13230e60d"
      },
      "source": [
        "digit = train_images[4]\n",
        "\n",
        "import matplotlib.pyplot as plt\n",
        "plt.imshow(digit, cmap=plt.cm.binary)\n",
        "plt.show()"
      ],
      "execution_count": 32,
      "outputs": [
        {
          "output_type": "display_data",
          "data": {
            "image/png": "[encoded data removed]",
            "text/plain": [
              "<Figure size 432x288 with 1 Axes>"
            ]
          },
          "metadata": {
            "tags": [],
            "needs_background": "light"
          }
        }
      ]
    },
    {
      "cell_type": "markdown",
      "metadata": {
        "id": "rM7NDZPNTltN"
      },
      "source": [
        "* Visualization"
      ]
    },
    {
      "cell_type": "code",
      "metadata": {
        "colab": {
          "base_uri": "https://localhost:8080/",
          "height": 513
        },
        "id": "0-iypoDSK9MK",
        "outputId": "cbd9e95a-67ea-4645-e50d-22161b8ac101"
      },
      "source": [
        "my_slice_1 = train_images[4, 14:, 14:]\n",
        "plt.imshow(my_slice_1, cmap=plt.cm.binary) \n",
        "plt.show()\n",
        "\n",
        "my_slice_2 = train_images[4, 7:-7, 7:-7]\n",
        "plt.imshow(my_slice_2, cmap=plt.cm.binary) \n",
        "plt.show()"
      ],
      "execution_count": 45,
      "outputs": [
        {
          "output_type": "display_data",
          "data": {
            "image/png": "[encoded data removed]",
            "text/plain": [
              "<Figure size 432x288 with 1 Axes>"
            ]
          },
          "metadata": {
            "tags": [],
            "needs_background": "light"
          }
        },
        {
          "output_type": "display_data",
          "data": {
            "image/png": "[encoded data removed]",
            "text/plain": [
              "<Figure size 432x288 with 1 Axes>"
            ]
          },
          "metadata": {
            "tags": [],
            "needs_background": "light"
          }
        }
      ]
    },
    {
      "cell_type": "markdown",
      "metadata": {
        "id": "-m2mEftZTpqR"
      },
      "source": [
        "* Visualization with slicing"
      ]
    },
    {
      "cell_type": "markdown",
      "metadata": {
        "id": "e3oxh4Sj1hin"
      },
      "source": [
        "### Defining model\n",
        "\n",
        "First, we will present our neural network with the training data, 'train_images' and 'train_labels'."
      ]
    },
    {
      "cell_type": "code",
      "metadata": {
        "id": "iR5IWjOu2NkD"
      },
      "source": [
        "from tensorflow.keras import models\n",
        "from tensorflow.keras import layers\n",
        "\n",
        "network = models.Sequential()\n",
        "network.add(layers.Dense(512, activation='relu', input_shape=(28 * 28,)))\n",
        "network.add(layers.Dense(10, activation='softmax'))"
      ],
      "execution_count": 21,
      "outputs": []
    },
    {
      "cell_type": "markdown",
      "metadata": {
        "id": "23W_YPy83bAV"
      },
      "source": [
        "* Core building block of neural network is layers\n",
        "* Layers extract representations\n",
        "* This step define our model ![image.png](data:image/png;base64,iVBORw0KGgoAAAANSUhEUgAAAAgAAAASCAYAAABmQp92AAAAlklEQVQoFb2QwQ1DMQhDsw/zeB/m8TzexxX5CUnVSr01J4RfwGb4xxvfdOl0PwAlDMC5oDdAzBaqpuw34Aw+1T8BYnhE+ko4jTweRFNyBszZprHgCYi0LCce2UrHqk8KpbGvQzhW3UBdcOvK8B7WABENENvLdckGavyVpidMY6OiRhusQA9Qv/ZSovdfQDoroSr/2V/AC19IAiBUdabdAAAAAElFTkSuQmCC) = f(x;weights)"
      ]
    },
    {
      "cell_type": "markdown",
      "metadata": {
        "id": "dcO77efC1hHn"
      },
      "source": [
        "### Comfile\n",
        "\n",
        "Second, prepare for network training"
      ]
    },
    {
      "cell_type": "code",
      "metadata": {
        "id": "eQuune0R4bkv"
      },
      "source": [
        "network.compile(optimizer='rmsprop',\n",
        "                loss='categorical_crossentropy',\n",
        "                metrics=['accuracy'])"
      ],
      "execution_count": 22,
      "outputs": []
    },
    {
      "cell_type": "markdown",
      "metadata": {
        "id": "XSwFv34-5INr"
      },
      "source": [
        "* Loss function [Loss(![image.png](data:image/png;base64,iVBORw0KGgoAAAANSUhEUgAAAAgAAAASCAYAAABmQp92AAAAlklEQVQoFb2QwQ1DMQhDsw/zeB/m8TzexxX5CUnVSr01J4RfwGb4xxvfdOl0PwAlDMC5oDdAzBaqpuw34Aw+1T8BYnhE+ko4jTweRFNyBszZprHgCYi0LCce2UrHqk8KpbGvQzhW3UBdcOvK8B7WABENENvLdckGavyVpidMY6OiRhusQA9Qv/ZSovdfQDoroSr/2V/AC19IAiBUdabdAAAAAElFTkSuQmCC), y)] : Measure how good a job it is doing on its training data, and how it will be able to steer itself in the right direction\n",
        "* Optimizer : Minimize the loss funcion with respect to weights\n",
        "* Metrics : Monitor during training and testing"
      ]
    },
    {
      "cell_type": "code",
      "metadata": {
        "id": "iw5f_Tch7DCk"
      },
      "source": [
        "train_images = train_images.reshape((60000, 28 * 28))\n",
        "train_images = train_images.astype('float32') / 255\n",
        "\n",
        "test_images = test_images.reshape((10000, 28 * 28))\n",
        "test_images = test_images.astype('float32') / 255"
      ],
      "execution_count": 23,
      "outputs": []
    },
    {
      "cell_type": "markdown",
      "metadata": {
        "id": "gkcHbHjE7NRE"
      },
      "source": [
        "* Rescale values from [0, 255] to [0, 1]"
      ]
    },
    {
      "cell_type": "code",
      "metadata": {
        "id": "-u8Qk4V47hBr"
      },
      "source": [
        "from tensorflow.keras.utils import to_categorical\n",
        "\n",
        "train_labels = to_categorical(train_labels)\n",
        "test_labels = to_categorical(test_labels)"
      ],
      "execution_count": 24,
      "outputs": []
    },
    {
      "cell_type": "markdown",
      "metadata": {
        "id": "csUhyDvL7p5m"
      },
      "source": [
        "* Categorically encode the labels"
      ]
    },
    {
      "cell_type": "markdown",
      "metadata": {
        "id": "jAyKmFni76d3"
      },
      "source": [
        "### Fit\n",
        "\n",
        "Third, the network will learn to associate images and labels."
      ]
    },
    {
      "cell_type": "code",
      "metadata": {
        "colab": {
          "base_uri": "https://localhost:8080/"
        },
        "id": "5hgrni_T8cdD",
        "outputId": "07b8485e-c24b-43a7-94f7-835afbd08e97"
      },
      "source": [
        "network.fit(train_images, train_labels, epochs=5, batch_size=128)"
      ],
      "execution_count": 25,
      "outputs": [
        {
          "output_type": "stream",
          "text": [
            "Epoch 1/5\n",
            "469/469 [==============================] - 4s 3ms/step - loss: 0.4329 - accuracy: 0.8730\n",
            "Epoch 2/5\n",
            "469/469 [==============================] - 1s 3ms/step - loss: 0.1109 - accuracy: 0.9673\n",
            "Epoch 3/5\n",
            "469/469 [==============================] - 1s 2ms/step - loss: 0.0689 - accuracy: 0.9799\n",
            "Epoch 4/5\n",
            "469/469 [==============================] - 1s 2ms/step - loss: 0.0486 - accuracy: 0.9855\n",
            "Epoch 5/5\n",
            "469/469 [==============================] - 1s 2ms/step - loss: 0.0356 - accuracy: 0.9892\n"
          ],
          "name": "stdout"
        },
        {
          "output_type": "execute_result",
          "data": {
            "text/plain": [
              "<tensorflow.python.keras.callbacks.History at 0x7fa25f5dea50>"
            ]
          },
          "metadata": {
            "tags": []
          },
          "execution_count": 25
        }
      ]
    },
    {
      "cell_type": "markdown",
      "metadata": {
        "id": "iF1mNf4C8qTT"
      },
      "source": [
        "* The \"loss\" of the network over the training data, and the \"accuracy\" of the network over the training data is displayed during training"
      ]
    },
    {
      "cell_type": "markdown",
      "metadata": {
        "id": "Dn6UoSBC1g_8"
      },
      "source": [
        "### Test\n",
        "\n",
        "Finally, we will ask the network to produce predictions for 'test_images', and we will verify if these predictions match the labels from 'test_labels'."
      ]
    },
    {
      "cell_type": "code",
      "metadata": {
        "colab": {
          "base_uri": "https://localhost:8080/"
        },
        "id": "tKH0KWXs9B4M",
        "outputId": "17a19753-0389-4e49-b9c9-edcec6d0eedd"
      },
      "source": [
        "test_loss, test_acc = network.evaluate(test_images, test_labels)"
      ],
      "execution_count": 26,
      "outputs": [
        {
          "output_type": "stream",
          "text": [
            "313/313 [==============================] - 1s 2ms/step - loss: 0.0645 - accuracy: 0.9817\n"
          ],
          "name": "stdout"
        }
      ]
    },
    {
      "cell_type": "code",
      "metadata": {
        "colab": {
          "base_uri": "https://localhost:8080/"
        },
        "id": "bMxGF1Pa9FY5",
        "outputId": "55a9cb94-57c6-4728-f89d-c8fc095df39e"
      },
      "source": [
        "print('test_acc:', test_acc)"
      ],
      "execution_count": 27,
      "outputs": [
        {
          "output_type": "stream",
          "text": [
            "test_acc: 0.9817000031471252\n"
          ],
          "name": "stdout"
        }
      ]
    },
    {
      "cell_type": "markdown",
      "metadata": {
        "id": "DVcuceUc9Z1Y"
      },
      "source": [
        "* This gap between training accuracy and test accuracy is an example of \"overfitting\", the fact that machine learning models tend to perform worse on new data than on their training data"
      ]
    },
    {
      "cell_type": "markdown",
      "metadata": {
        "id": "_dstuq-t9lJ1"
      },
      "source": [
        "You will learn about \"tensors\", the data-storing objects going into the network, about tensor operations, which layers are made of, and about gradient descent, which allows our network to learn from its training examples."
      ]
    }
  ]
}