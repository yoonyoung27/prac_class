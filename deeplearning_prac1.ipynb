{
  "nbformat": 4,
  "nbformat_minor": 0,
  "metadata": {
    "colab": {
      "name": "deeplearning_prac1.ipynb",
      "provenance": [],
      "authorship_tag": "ABX9TyPqgIyhoJo2VKoE8IcIDkcC",
      "include_colab_link": true
    },
    "kernelspec": {
      "name": "python3",
      "display_name": "Python 3"
    },
    "language_info": {
      "name": "python"
    },
    "accelerator": "GPU"
  },
  "cells": [
    {
      "cell_type": "markdown",
      "metadata": {
        "id": "view-in-github",
        "colab_type": "text"
      },
      "source": [
        "<a href=\"https://colab.research.google.com/github/yoonyoung27/prac_class/blob/main/deeplearning_prac1.ipynb\" target=\"_parent\"><img src=\"https://colab.research.google.com/assets/colab-badge.svg\" alt=\"Open In Colab\"/></a>"
      ]
    },
    {
      "cell_type": "markdown",
      "metadata": {
        "id": "4QpU3b1SvluJ"
      },
      "source": [
        "### Preparation settings\n",
        "\n",
        "* 런타임 유형 : GPU"
      ]
    },
    {
      "cell_type": "code",
      "metadata": {
        "colab": {
          "base_uri": "https://localhost:8080/"
        },
        "id": "t6gHUNt7vWjV",
        "outputId": "7d41778e-641f-448a-ce59-a85bf41cc81e"
      },
      "source": [
        "!nvidia-smi"
      ],
      "execution_count": 16,
      "outputs": [
        {
          "output_type": "stream",
          "text": [
            "Mon Apr  5 07:04:38 2021       \n",
            "+-----------------------------------------------------------------------------+\n",
            "| NVIDIA-SMI 460.67       Driver Version: 460.32.03    CUDA Version: 11.2     |\n",
            "|-------------------------------+----------------------+----------------------+\n",
            "| GPU  Name        Persistence-M| Bus-Id        Disp.A | Volatile Uncorr. ECC |\n",
            "| Fan  Temp  Perf  Pwr:Usage/Cap|         Memory-Usage | GPU-Util  Compute M. |\n",
            "|                               |                      |               MIG M. |\n",
            "|===============================+======================+======================|\n",
            "|   0  Tesla P100-PCIE...  Off  | 00000000:00:04.0 Off |                    0 |\n",
            "| N/A   34C    P0    26W / 250W |      0MiB / 16280MiB |      0%      Default |\n",
            "|                               |                      |                  N/A |\n",
            "+-------------------------------+----------------------+----------------------+\n",
            "                                                                               \n",
            "+-----------------------------------------------------------------------------+\n",
            "| Processes:                                                                  |\n",
            "|  GPU   GI   CI        PID   Type   Process name                  GPU Memory |\n",
            "|        ID   ID                                                   Usage      |\n",
            "|=============================================================================|\n",
            "|  No running processes found                                                 |\n",
            "+-----------------------------------------------------------------------------+\n"
          ],
          "name": "stdout"
        }
      ]
    },
    {
      "cell_type": "markdown",
      "metadata": {
        "id": "pa8kWMMIvg2i"
      },
      "source": [
        "* GPU 확인 : Persistance-M"
      ]
    },
    {
      "cell_type": "code",
      "metadata": {
        "colab": {
          "base_uri": "https://localhost:8080/",
          "height": 35
        },
        "id": "yk11DVw1vsHZ",
        "outputId": "3d454ced-030d-41cf-9e38-322a952fa391"
      },
      "source": [
        "import tensorflow\n",
        "tensorflow.keras.__version__"
      ],
      "execution_count": 17,
      "outputs": [
        {
          "output_type": "execute_result",
          "data": {
            "application/vnd.google.colaboratory.intrinsic+json": {
              "type": "string"
            },
            "text/plain": [
              "'2.4.0'"
            ]
          },
          "metadata": {
            "tags": []
          },
          "execution_count": 17
        }
      ]
    },
    {
      "cell_type": "markdown",
      "metadata": {
        "id": "B-mPJ4jzvrf2"
      },
      "source": [
        "* [Tensorflow](https://www.tensorflow.org/?hl=ko) : ML 모델을 개발하고 학습시키는 데 도움이 되는 핵심 오픈소스 라이브러리"
      ]
    },
    {
      "cell_type": "markdown",
      "metadata": {
        "id": "RoUDp7fXxXtq"
      },
      "source": [
        "# Classify hand-written digits\n",
        "\n",
        "This notebook contains the code samples found in Chapter 2, Section 1 of [Deep Learning with Python](https://www.manning.com/books/deep-learning-with-python?a_aid=keras&a_bid=76564dff).\n",
        "\n",
        "**The problem we are trying to solve here is to classify grayscale images of handwritten digits (28 pixels by 28 pixels), into their 10 categories (0 to 9).** It's a first concrete example of a neural network which makes use of the Python library Keras, MNIST dataset."
      ]
    },
    {
      "cell_type": "markdown",
      "metadata": {
        "id": "dTOtHOcT1H01"
      },
      "source": [
        "### Ready for dataset"
      ]
    },
    {
      "cell_type": "code",
      "metadata": {
        "id": "SVbbEdO-xnmZ"
      },
      "source": [
        "from tensorflow.keras.datasets import mnist\n",
        "\n",
        "(train_images, train_labels), (test_images, test_labels) = mnist.load_data()"
      ],
      "execution_count": 18,
      "outputs": []
    },
    {
      "cell_type": "markdown",
      "metadata": {
        "id": "jqezv36txoRP"
      },
      "source": [
        "* mnist.load_data() 함수는 '(x_train, y_train), (x_test, y_test)'값을 반환하므로 (train_images, train_labels), (test_images, test_labels) 변수로 반환값을 받는다.\n",
        "* `train_images` and `train_labels` form the \"training set\", the data that the model will learn from. The model will then be tested on the \n",
        "\"test set\", `test_images` and `test_labels`. Our images are encoded as Numpy arrays, and the labels are simply an array of digits, ranging \n",
        "from 0 to 9. There is a one-to-one correspondence between the images and the labels."
      ]
    },
    {
      "cell_type": "code",
      "metadata": {
        "colab": {
          "base_uri": "https://localhost:8080/"
        },
        "id": "MAoOGcMmzbON",
        "outputId": "5b69cc28-80d8-42ac-fd36-d15f460dbc6a"
      },
      "source": [
        "print(train_images.shape,\n",
        "      len(train_labels),\n",
        "      train_labels)"
      ],
      "execution_count": 19,
      "outputs": [
        {
          "output_type": "stream",
          "text": [
            "(60000, 28, 28) 60000 [5 0 4 ... 5 6 8]\n"
          ],
          "name": "stdout"
        }
      ]
    },
    {
      "cell_type": "markdown",
      "metadata": {
        "id": "A_wj6dzczcBe"
      },
      "source": [
        "* The train set has 60000 observations, 28 pixels by 28 pixels"
      ]
    },
    {
      "cell_type": "code",
      "metadata": {
        "colab": {
          "base_uri": "https://localhost:8080/"
        },
        "id": "tx_Bb8kPzibz",
        "outputId": "e43453a3-9b4b-4dd4-97c4-92f8dd4f29c6"
      },
      "source": [
        "print(test_images.shape,\n",
        "      len(test_labels),\n",
        "      test_labels)"
      ],
      "execution_count": 20,
      "outputs": [
        {
          "output_type": "stream",
          "text": [
            "(10000, 28, 28) 10000 [7 2 1 ... 4 5 6]\n"
          ],
          "name": "stdout"
        }
      ]
    },
    {
      "cell_type": "markdown",
      "metadata": {
        "id": "VEefyBts0KfG"
      },
      "source": [
        "* The test tet has 10000 observations, 28 pixels by 28 pixels"
      ]
    },
    {
      "cell_type": "markdown",
      "metadata": {
        "id": "e3oxh4Sj1hin"
      },
      "source": [
        "### Defining model\n",
        "\n",
        "First, we will present our neural network with the training data, 'train_images' and 'train_labels'."
      ]
    },
    {
      "cell_type": "code",
      "metadata": {
        "id": "iR5IWjOu2NkD"
      },
      "source": [
        "from tensorflow.keras import models\n",
        "from tensorflow.keras import layers\n",
        "\n",
        "network = models.Sequential()\n",
        "network.add(layers.Dense(512, activation='relu', input_shape=(28 * 28,)))\n",
        "network.add(layers.Dense(10, activation='softmax'))"
      ],
      "execution_count": 21,
      "outputs": []
    },
    {
      "cell_type": "markdown",
      "metadata": {
        "id": "23W_YPy83bAV"
      },
      "source": [
        "* Core building block of neural network is layers\n",
        "* Layers extract representations\n",
        "* This step define our model ![image.png](data:image/png;base64,iVBORw0KGgoAAAANSUhEUgAAAAgAAAASCAYAAABmQp92AAAAlklEQVQoFb2QwQ1DMQhDsw/zeB/m8TzexxX5CUnVSr01J4RfwGb4xxvfdOl0PwAlDMC5oDdAzBaqpuw34Aw+1T8BYnhE+ko4jTweRFNyBszZprHgCYi0LCce2UrHqk8KpbGvQzhW3UBdcOvK8B7WABENENvLdckGavyVpidMY6OiRhusQA9Qv/ZSovdfQDoroSr/2V/AC19IAiBUdabdAAAAAElFTkSuQmCC) = f(x;weights)"
      ]
    },
    {
      "cell_type": "markdown",
      "metadata": {
        "id": "dcO77efC1hHn"
      },
      "source": [
        "### Comfile\n",
        "\n",
        "Second, prepare for network training"
      ]
    },
    {
      "cell_type": "code",
      "metadata": {
        "id": "eQuune0R4bkv"
      },
      "source": [
        "network.compile(optimizer='rmsprop',\n",
        "                loss='categorical_crossentropy',\n",
        "                metrics=['accuracy'])"
      ],
      "execution_count": 22,
      "outputs": []
    },
    {
      "cell_type": "markdown",
      "metadata": {
        "id": "XSwFv34-5INr"
      },
      "source": [
        "* Loss function [Loss(![image.png](data:image/png;base64,iVBORw0KGgoAAAANSUhEUgAAAAgAAAASCAYAAABmQp92AAAAlklEQVQoFb2QwQ1DMQhDsw/zeB/m8TzexxX5CUnVSr01J4RfwGb4xxvfdOl0PwAlDMC5oDdAzBaqpuw34Aw+1T8BYnhE+ko4jTweRFNyBszZprHgCYi0LCce2UrHqk8KpbGvQzhW3UBdcOvK8B7WABENENvLdckGavyVpidMY6OiRhusQA9Qv/ZSovdfQDoroSr/2V/AC19IAiBUdabdAAAAAElFTkSuQmCC), y)] : Measure how good a job it is doing on its training data, and how it will be able to steer itself in the right direction\n",
        "* Optimizer : Minimize the loss funcion with respect to weights\n",
        "* Metrics : Monitor during training and testing"
      ]
    },
    {
      "cell_type": "code",
      "metadata": {
        "id": "iw5f_Tch7DCk"
      },
      "source": [
        "train_images = train_images.reshape((60000, 28 * 28))\n",
        "train_images = train_images.astype('float32') / 255\n",
        "\n",
        "test_images = test_images.reshape((10000, 28 * 28))\n",
        "test_images = test_images.astype('float32') / 255"
      ],
      "execution_count": 23,
      "outputs": []
    },
    {
      "cell_type": "markdown",
      "metadata": {
        "id": "gkcHbHjE7NRE"
      },
      "source": [
        "* Rescale values from [0, 255] to [0, 1]"
      ]
    },
    {
      "cell_type": "code",
      "metadata": {
        "id": "-u8Qk4V47hBr"
      },
      "source": [
        "from tensorflow.keras.utils import to_categorical\n",
        "\n",
        "train_labels = to_categorical(train_labels)\n",
        "test_labels = to_categorical(test_labels)"
      ],
      "execution_count": 24,
      "outputs": []
    },
    {
      "cell_type": "markdown",
      "metadata": {
        "id": "csUhyDvL7p5m"
      },
      "source": [
        "* Categorically encode the labels"
      ]
    },
    {
      "cell_type": "markdown",
      "metadata": {
        "id": "jAyKmFni76d3"
      },
      "source": [
        "### Fit\n",
        "\n",
        "Third, the network will learn to associate images and labels."
      ]
    },
    {
      "cell_type": "code",
      "metadata": {
        "colab": {
          "base_uri": "https://localhost:8080/"
        },
        "id": "5hgrni_T8cdD",
        "outputId": "07b8485e-c24b-43a7-94f7-835afbd08e97"
      },
      "source": [
        "network.fit(train_images, train_labels, epochs=5, batch_size=128)"
      ],
      "execution_count": 25,
      "outputs": [
        {
          "output_type": "stream",
          "text": [
            "Epoch 1/5\n",
            "469/469 [==============================] - 4s 3ms/step - loss: 0.4329 - accuracy: 0.8730\n",
            "Epoch 2/5\n",
            "469/469 [==============================] - 1s 3ms/step - loss: 0.1109 - accuracy: 0.9673\n",
            "Epoch 3/5\n",
            "469/469 [==============================] - 1s 2ms/step - loss: 0.0689 - accuracy: 0.9799\n",
            "Epoch 4/5\n",
            "469/469 [==============================] - 1s 2ms/step - loss: 0.0486 - accuracy: 0.9855\n",
            "Epoch 5/5\n",
            "469/469 [==============================] - 1s 2ms/step - loss: 0.0356 - accuracy: 0.9892\n"
          ],
          "name": "stdout"
        },
        {
          "output_type": "execute_result",
          "data": {
            "text/plain": [
              "<tensorflow.python.keras.callbacks.History at 0x7fa25f5dea50>"
            ]
          },
          "metadata": {
            "tags": []
          },
          "execution_count": 25
        }
      ]
    },
    {
      "cell_type": "markdown",
      "metadata": {
        "id": "iF1mNf4C8qTT"
      },
      "source": [
        "* The \"loss\" of the network over the training data, and the \"accuracy\" of the network over the training data is displayed during training"
      ]
    },
    {
      "cell_type": "markdown",
      "metadata": {
        "id": "Dn6UoSBC1g_8"
      },
      "source": [
        "### Test\n",
        "\n",
        "Finally, we will ask the network to produce predictions for 'test_images', and we will verify if these predictions match the labels from 'test_labels'."
      ]
    },
    {
      "cell_type": "code",
      "metadata": {
        "colab": {
          "base_uri": "https://localhost:8080/"
        },
        "id": "tKH0KWXs9B4M",
        "outputId": "17a19753-0389-4e49-b9c9-edcec6d0eedd"
      },
      "source": [
        "test_loss, test_acc = network.evaluate(test_images, test_labels)"
      ],
      "execution_count": 26,
      "outputs": [
        {
          "output_type": "stream",
          "text": [
            "313/313 [==============================] - 1s 2ms/step - loss: 0.0645 - accuracy: 0.9817\n"
          ],
          "name": "stdout"
        }
      ]
    },
    {
      "cell_type": "code",
      "metadata": {
        "colab": {
          "base_uri": "https://localhost:8080/"
        },
        "id": "bMxGF1Pa9FY5",
        "outputId": "55a9cb94-57c6-4728-f89d-c8fc095df39e"
      },
      "source": [
        "print('test_acc:', test_acc)"
      ],
      "execution_count": 27,
      "outputs": [
        {
          "output_type": "stream",
          "text": [
            "test_acc: 0.9817000031471252\n"
          ],
          "name": "stdout"
        }
      ]
    },
    {
      "cell_type": "markdown",
      "metadata": {
        "id": "DVcuceUc9Z1Y"
      },
      "source": [
        "* This gap between training accuracy and test accuracy is an example of \"overfitting\", the fact that machine learning models tend to perform worse on new data than on their training data"
      ]
    },
    {
      "cell_type": "markdown",
      "metadata": {
        "id": "_dstuq-t9lJ1"
      },
      "source": [
        "You will learn about \"tensors\", the data-storing objects going into the network, about tensor operations, which layers are made of, and about gradient descent, which allows our network to learn from its training examples."
      ]
    }
  ]
}