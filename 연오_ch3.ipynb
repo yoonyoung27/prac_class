{
  "nbformat": 4,
  "nbformat_minor": 0,
  "metadata": {
    "colab": {
      "name": "연오_ch3.ipynb",
      "provenance": [],
      "authorship_tag": "ABX9TyPF1M+BsotmwVspxLBnfqUW",
      "include_colab_link": true
    },
    "kernelspec": {
      "name": "python3",
      "display_name": "Python 3"
    },
    "language_info": {
      "name": "python"
    }
  },
  "cells": [
    {
      "cell_type": "markdown",
      "metadata": {
        "id": "view-in-github",
        "colab_type": "text"
      },
      "source": [
        "<a href=\"https://colab.research.google.com/github/yoonyoung27/prac_class/blob/main/%EC%97%B0%EC%98%A4_ch3.ipynb\" target=\"_parent\"><img src=\"https://colab.research.google.com/assets/colab-badge.svg\" alt=\"Open In Colab\"/></a>"
      ]
    },
    {
      "cell_type": "markdown",
      "metadata": {
        "id": "cj8hJF85N_V9"
      },
      "source": [
        "# 함수"
      ]
    },
    {
      "cell_type": "code",
      "metadata": {
        "id": "Q-gxFmTrODnA"
      },
      "source": [
        ""
      ],
      "execution_count": null,
      "outputs": []
    }
  ]
}