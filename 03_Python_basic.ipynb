{
  "nbformat": 4,
  "nbformat_minor": 0,
  "metadata": {
    "colab": {
      "name": "03_Python_basic.ipynb",
      "provenance": [],
      "toc_visible": true,
      "authorship_tag": "ABX9TyP36Zx0St5Bdqy+b2UORZ/0",
      "include_colab_link": true
    },
    "kernelspec": {
      "name": "python3",
      "display_name": "Python 3"
    },
    "language_info": {
      "name": "python"
    }
  },
  "cells": [
    {
      "cell_type": "markdown",
      "metadata": {
        "id": "view-in-github",
        "colab_type": "text"
      },
      "source": [
        "<a href=\"https://colab.research.google.com/github/yoonyoung27/prac_class/blob/main/03_Python_basic.ipynb\" target=\"_parent\"><img src=\"https://colab.research.google.com/assets/colab-badge.svg\" alt=\"Open In Colab\"/></a>"
      ]
    },
    {
      "cell_type": "markdown",
      "metadata": {
        "id": "TYFlaZtu-_RD"
      },
      "source": [
        "## Chapter 2\n",
        "[Jump to Python Ch2](https://wikidocs.net/11)"
      ]
    },
    {
      "cell_type": "markdown",
      "metadata": {
        "id": "VUbV1XPd_BPt"
      },
      "source": [
        "###Numeric operations\n",
        "- Four fundamental arithmatic orperations(+, -, /, *)\n",
        "- Power(**)\n",
        "- Quotiant and remainder (%, //)"
      ]
    },
    {
      "cell_type": "code",
      "metadata": {
        "colab": {
          "base_uri": "https://localhost:8080/"
        },
        "id": "Q3vP-7ArsuUg",
        "outputId": "b4aeec48-206d-4a3c-fd98-98c95d6f6f25"
      },
      "source": [
        "3+2"
      ],
      "execution_count": null,
      "outputs": [
        {
          "output_type": "execute_result",
          "data": {
            "text/plain": [
              "5"
            ]
          },
          "metadata": {
            "tags": []
          },
          "execution_count": 1
        }
      ]
    },
    {
      "cell_type": "code",
      "metadata": {
        "colab": {
          "base_uri": "https://localhost:8080/"
        },
        "id": "IHOHsEBF_E-V",
        "outputId": "980ae954-6399-4901-eec0-0c624d162453"
      },
      "source": [
        "3-2"
      ],
      "execution_count": null,
      "outputs": [
        {
          "output_type": "execute_result",
          "data": {
            "text/plain": [
              "1"
            ]
          },
          "metadata": {
            "tags": []
          },
          "execution_count": 2
        }
      ]
    },
    {
      "cell_type": "code",
      "metadata": {
        "colab": {
          "base_uri": "https://localhost:8080/"
        },
        "id": "cV6FR447_Hu2",
        "outputId": "0c871134-a37e-433e-9ffe-972e99563616"
      },
      "source": [
        "3/2"
      ],
      "execution_count": null,
      "outputs": [
        {
          "output_type": "execute_result",
          "data": {
            "text/plain": [
              "1.5"
            ]
          },
          "metadata": {
            "tags": []
          },
          "execution_count": 3
        }
      ]
    },
    {
      "cell_type": "code",
      "metadata": {
        "colab": {
          "base_uri": "https://localhost:8080/"
        },
        "id": "7fc7_RRw_LJ3",
        "outputId": "9e7eed8d-586f-444f-b5b4-06d2acb19fa5"
      },
      "source": [
        "3*2"
      ],
      "execution_count": null,
      "outputs": [
        {
          "output_type": "execute_result",
          "data": {
            "text/plain": [
              "6"
            ]
          },
          "metadata": {
            "tags": []
          },
          "execution_count": 4
        }
      ]
    },
    {
      "cell_type": "code",
      "metadata": {
        "colab": {
          "base_uri": "https://localhost:8080/"
        },
        "id": "nPeqPlZh_NCz",
        "outputId": "b7b4a0fe-406e-4f27-8dfe-d642535fb451"
      },
      "source": [
        "3**2"
      ],
      "execution_count": null,
      "outputs": [
        {
          "output_type": "execute_result",
          "data": {
            "text/plain": [
              "9"
            ]
          },
          "metadata": {
            "tags": []
          },
          "execution_count": 5
        }
      ]
    },
    {
      "cell_type": "code",
      "metadata": {
        "colab": {
          "base_uri": "https://localhost:8080/"
        },
        "id": "a20k1yVk_PJh",
        "outputId": "2cce31e0-940a-4645-f7fa-77a567e852c9"
      },
      "source": [
        "3%2"
      ],
      "execution_count": null,
      "outputs": [
        {
          "output_type": "execute_result",
          "data": {
            "text/plain": [
              "1"
            ]
          },
          "metadata": {
            "tags": []
          },
          "execution_count": 6
        }
      ]
    },
    {
      "cell_type": "code",
      "metadata": {
        "colab": {
          "base_uri": "https://localhost:8080/"
        },
        "id": "9ABwtK_T_QyI",
        "outputId": "8032029e-b676-4890-a669-8228fd35adee"
      },
      "source": [
        "3//2"
      ],
      "execution_count": null,
      "outputs": [
        {
          "output_type": "execute_result",
          "data": {
            "text/plain": [
              "1"
            ]
          },
          "metadata": {
            "tags": []
          },
          "execution_count": 7
        }
      ]
    },
    {
      "cell_type": "markdown",
      "metadata": {
        "id": "lLNFYpQE_TGW"
      },
      "source": [
        "###String operations\n",
        "- How to define string(\"0\", '0', \"\"\"0\"\"\", and '''0''')\n",
        "- Escape codes\n",
        "- Formating \n",
        "- Indexing\n",
        "- String operations(+,*)\n",
        "- String functions(join, split, upper, lower, strip, ...)"
      ]
    },
    {
      "cell_type": "code",
      "metadata": {
        "colab": {
          "base_uri": "https://localhost:8080/"
        },
        "id": "UC-mktty_Y9X",
        "outputId": "a2022673-dea6-4d6a-f739-3e6c916395ca"
      },
      "source": [
        "str = '''Kevin said \"hi Jin\"'''\n",
        "print(str)"
      ],
      "execution_count": null,
      "outputs": [
        {
          "output_type": "stream",
          "text": [
            "Kevin said \"hi Jin\"\n"
          ],
          "name": "stdout"
        }
      ]
    },
    {
      "cell_type": "code",
      "metadata": {
        "colab": {
          "base_uri": "https://localhost:8080/"
        },
        "id": "TySepq8B_aW8",
        "outputId": "02375966-4e23-4835-a99b-94516cc14eca"
      },
      "source": [
        "str = \"this is\\na string\"\n",
        "print(str)"
      ],
      "execution_count": null,
      "outputs": [
        {
          "output_type": "stream",
          "text": [
            "this is\n",
            "a string\n"
          ],
          "name": "stdout"
        }
      ]
    },
    {
      "cell_type": "code",
      "metadata": {
        "colab": {
          "base_uri": "https://localhost:8080/",
          "height": 35
        },
        "id": "a8pO7Hmu_b8T",
        "outputId": "0d1e8f11-dd83-4b20-c07b-e6738753addb"
      },
      "source": [
        "a = \"40\"\n",
        "\"varible a : {}\".format(a)"
      ],
      "execution_count": null,
      "outputs": [
        {
          "output_type": "execute_result",
          "data": {
            "application/vnd.google.colaboratory.intrinsic+json": {
              "type": "string"
            },
            "text/plain": [
              "'varible a : 40'"
            ]
          },
          "metadata": {
            "tags": []
          },
          "execution_count": 10
        }
      ]
    },
    {
      "cell_type": "code",
      "metadata": {
        "colab": {
          "base_uri": "https://localhost:8080/",
          "height": 35
        },
        "id": "fsdW0XSV_dxC",
        "outputId": "0668d284-0df9-445c-8ce3-70b7dfa1faf6"
      },
      "source": [
        "str = \"aabccd\"\n",
        "str[1:3]"
      ],
      "execution_count": null,
      "outputs": [
        {
          "output_type": "execute_result",
          "data": {
            "application/vnd.google.colaboratory.intrinsic+json": {
              "type": "string"
            },
            "text/plain": [
              "'ab'"
            ]
          },
          "metadata": {
            "tags": []
          },
          "execution_count": 11
        }
      ]
    },
    {
      "cell_type": "code",
      "metadata": {
        "colab": {
          "base_uri": "https://localhost:8080/",
          "height": 35
        },
        "id": "bQEwEIIJ_fTs",
        "outputId": "6b858d5c-2c9e-4630-d80c-99e57f0bb847"
      },
      "source": [
        "str1 = \"aab\" \n",
        "str2 = \"ccd\"\n",
        "str1+str2"
      ],
      "execution_count": null,
      "outputs": [
        {
          "output_type": "execute_result",
          "data": {
            "application/vnd.google.colaboratory.intrinsic+json": {
              "type": "string"
            },
            "text/plain": [
              "'aabccd'"
            ]
          },
          "metadata": {
            "tags": []
          },
          "execution_count": 12
        }
      ]
    },
    {
      "cell_type": "code",
      "metadata": {
        "colab": {
          "base_uri": "https://localhost:8080/",
          "height": 35
        },
        "id": "lmv89Zne_gKO",
        "outputId": "2265565e-74b1-4427-8525-5f6ae3e83c20"
      },
      "source": [
        "str1*3"
      ],
      "execution_count": null,
      "outputs": [
        {
          "output_type": "execute_result",
          "data": {
            "application/vnd.google.colaboratory.intrinsic+json": {
              "type": "string"
            },
            "text/plain": [
              "'aabaabaab'"
            ]
          },
          "metadata": {
            "tags": []
          },
          "execution_count": 13
        }
      ]
    },
    {
      "cell_type": "code",
      "metadata": {
        "colab": {
          "base_uri": "https://localhost:8080/",
          "height": 35
        },
        "id": "xXkkQEVg_ixI",
        "outputId": "567b9d50-0d6c-40be-9a2f-c02ad4234f9c"
      },
      "source": [
        "alist = [\"a\",\"b\",\"c\"]\n",
        "b = \" \".join(alist)\n",
        "b"
      ],
      "execution_count": null,
      "outputs": [
        {
          "output_type": "execute_result",
          "data": {
            "application/vnd.google.colaboratory.intrinsic+json": {
              "type": "string"
            },
            "text/plain": [
              "'a b c'"
            ]
          },
          "metadata": {
            "tags": []
          },
          "execution_count": 14
        }
      ]
    },
    {
      "cell_type": "code",
      "metadata": {
        "colab": {
          "base_uri": "https://localhost:8080/"
        },
        "id": "rrnsXnAh_kxB",
        "outputId": "c5e3aba9-39fa-47f9-a0a2-69e8d3988e15"
      },
      "source": [
        "b.split()"
      ],
      "execution_count": null,
      "outputs": [
        {
          "output_type": "execute_result",
          "data": {
            "text/plain": [
              "['a', 'b', 'c']"
            ]
          },
          "metadata": {
            "tags": []
          },
          "execution_count": 15
        }
      ]
    },
    {
      "cell_type": "code",
      "metadata": {
        "colab": {
          "base_uri": "https://localhost:8080/",
          "height": 35
        },
        "id": "XKFci2Yo_mep",
        "outputId": "5e4977c2-6c8d-4ab3-e375-b0ac987c47bf"
      },
      "source": [
        "b.upper()"
      ],
      "execution_count": null,
      "outputs": [
        {
          "output_type": "execute_result",
          "data": {
            "application/vnd.google.colaboratory.intrinsic+json": {
              "type": "string"
            },
            "text/plain": [
              "'A B C'"
            ]
          },
          "metadata": {
            "tags": []
          },
          "execution_count": 16
        }
      ]
    },
    {
      "cell_type": "markdown",
      "metadata": {
        "id": "jBUVbE0X_oLE"
      },
      "source": [
        "###List\n",
        "  - How to define a list\n",
        "  - Indexing\n",
        "  - List operations (+, *, len )\n",
        "  - List functions(append, sort, reverse, ...)"
      ]
    },
    {
      "cell_type": "code",
      "metadata": {
        "colab": {
          "base_uri": "https://localhost:8080/"
        },
        "id": "4xPxvF85_qxX",
        "outputId": "0d27c016-165a-418d-eeb8-67da4c164f00"
      },
      "source": [
        "a = [1,2, [1,2], [1,2,[1,2,3]]]\n",
        "a[3][2][0]"
      ],
      "execution_count": null,
      "outputs": [
        {
          "output_type": "execute_result",
          "data": {
            "text/plain": [
              "1"
            ]
          },
          "metadata": {
            "tags": []
          },
          "execution_count": 17
        }
      ]
    },
    {
      "cell_type": "code",
      "metadata": {
        "colab": {
          "base_uri": "https://localhost:8080/"
        },
        "id": "mUzKeBbW_tsh",
        "outputId": "beda2330-652c-45ae-ab66-16a9deb6316d"
      },
      "source": [
        "len(a)"
      ],
      "execution_count": null,
      "outputs": [
        {
          "output_type": "execute_result",
          "data": {
            "text/plain": [
              "4"
            ]
          },
          "metadata": {
            "tags": []
          },
          "execution_count": 18
        }
      ]
    },
    {
      "cell_type": "code",
      "metadata": {
        "colab": {
          "base_uri": "https://localhost:8080/"
        },
        "id": "_aO91_zO_vZo",
        "outputId": "0c92edfa-2b11-46a7-c5b0-4a5ea62893ee"
      },
      "source": [
        "b = ['a', 'b', 'c']\n",
        "a+b"
      ],
      "execution_count": null,
      "outputs": [
        {
          "output_type": "execute_result",
          "data": {
            "text/plain": [
              "[1, 2, [1, 2], [1, 2, [1, 2, 3]], 'a', 'b', 'c']"
            ]
          },
          "metadata": {
            "tags": []
          },
          "execution_count": 19
        }
      ]
    },
    {
      "cell_type": "code",
      "metadata": {
        "colab": {
          "base_uri": "https://localhost:8080/"
        },
        "id": "RCWWlyxU_xGy",
        "outputId": "e4078635-66dc-4fdb-d2b7-ea309cdc9efc"
      },
      "source": [
        "b*3"
      ],
      "execution_count": null,
      "outputs": [
        {
          "output_type": "execute_result",
          "data": {
            "text/plain": [
              "['a', 'b', 'c', 'a', 'b', 'c', 'a', 'b', 'c']"
            ]
          },
          "metadata": {
            "tags": []
          },
          "execution_count": 20
        }
      ]
    },
    {
      "cell_type": "code",
      "metadata": {
        "colab": {
          "base_uri": "https://localhost:8080/"
        },
        "id": "kzz7BdCi_1IG",
        "outputId": "ed73a0e7-112a-4144-cfc5-c37ddcdbddd8"
      },
      "source": [
        "c = [1,2,3,4,0,-1]\n",
        "c.sort()\n",
        "c"
      ],
      "execution_count": null,
      "outputs": [
        {
          "output_type": "execute_result",
          "data": {
            "text/plain": [
              "[-1, 0, 1, 2, 3, 4]"
            ]
          },
          "metadata": {
            "tags": []
          },
          "execution_count": 21
        }
      ]
    },
    {
      "cell_type": "code",
      "metadata": {
        "colab": {
          "base_uri": "https://localhost:8080/"
        },
        "id": "RM5NG2GG_22T",
        "outputId": "48912f92-9e07-4d84-fd7d-398b0388ae16"
      },
      "source": [
        "c.append(10)\n",
        "c"
      ],
      "execution_count": null,
      "outputs": [
        {
          "output_type": "execute_result",
          "data": {
            "text/plain": [
              "[-1, 0, 1, 2, 3, 4, 10]"
            ]
          },
          "metadata": {
            "tags": []
          },
          "execution_count": 22
        }
      ]
    },
    {
      "cell_type": "code",
      "metadata": {
        "colab": {
          "base_uri": "https://localhost:8080/"
        },
        "id": "iwdgDBf8_4nX",
        "outputId": "d0649aa1-c63a-45c1-88df-82335cea0f39"
      },
      "source": [
        "c.reverse()\n",
        "c"
      ],
      "execution_count": null,
      "outputs": [
        {
          "output_type": "execute_result",
          "data": {
            "text/plain": [
              "[10, 4, 3, 2, 1, 0, -1]"
            ]
          },
          "metadata": {
            "tags": []
          },
          "execution_count": 23
        }
      ]
    },
    {
      "cell_type": "markdown",
      "metadata": {
        "id": "q3_0UPyN_6ph"
      },
      "source": [
        "###Dictionary\n",
        "- How to define a dictionary\n",
        "- Indexing\n",
        "- Editing\n",
        "- Dictionary functions(keys, values, items, get(※), in)"
      ]
    },
    {
      "cell_type": "code",
      "metadata": {
        "colab": {
          "base_uri": "https://localhost:8080/",
          "height": 35
        },
        "id": "EwKfILe9AHOE",
        "outputId": "0b5bb177-5423-4678-da2d-f83bf773171a"
      },
      "source": [
        "dic = {'name':'pey', 'phone':'0119993323', 'birth': '1118'}\n",
        "dic['birth']"
      ],
      "execution_count": null,
      "outputs": [
        {
          "output_type": "execute_result",
          "data": {
            "application/vnd.google.colaboratory.intrinsic+json": {
              "type": "string"
            },
            "text/plain": [
              "'1118'"
            ]
          },
          "metadata": {
            "tags": []
          },
          "execution_count": 24
        }
      ]
    },
    {
      "cell_type": "code",
      "metadata": {
        "colab": {
          "base_uri": "https://localhost:8080/"
        },
        "id": "u1e-E9XPAIYk",
        "outputId": "132bcfeb-06d2-432f-c294-c15b85cf9f43"
      },
      "source": [
        "dic['newkey1'] = 123\n",
        "dic"
      ],
      "execution_count": null,
      "outputs": [
        {
          "output_type": "execute_result",
          "data": {
            "text/plain": [
              "{'birth': '1118', 'name': 'pey', 'newkey1': 123, 'phone': '0119993323'}"
            ]
          },
          "metadata": {
            "tags": []
          },
          "execution_count": 25
        }
      ]
    },
    {
      "cell_type": "code",
      "metadata": {
        "colab": {
          "base_uri": "https://localhost:8080/"
        },
        "id": "2nCaIbVLAJ4k",
        "outputId": "176a3e23-29e1-4c6b-f0cb-2bdcbb4c6a06"
      },
      "source": [
        "dic.keys()"
      ],
      "execution_count": null,
      "outputs": [
        {
          "output_type": "execute_result",
          "data": {
            "text/plain": [
              "dict_keys(['name', 'phone', 'birth', 'newkey1'])"
            ]
          },
          "metadata": {
            "tags": []
          },
          "execution_count": 26
        }
      ]
    },
    {
      "cell_type": "code",
      "metadata": {
        "colab": {
          "base_uri": "https://localhost:8080/"
        },
        "id": "yF_f97PsALmE",
        "outputId": "e0b3b1e3-4b38-4e79-e019-7ba0660f3dd0"
      },
      "source": [
        "dic.values()"
      ],
      "execution_count": null,
      "outputs": [
        {
          "output_type": "execute_result",
          "data": {
            "text/plain": [
              "dict_values(['pey', '0119993323', '1118', 123])"
            ]
          },
          "metadata": {
            "tags": []
          },
          "execution_count": 27
        }
      ]
    },
    {
      "cell_type": "code",
      "metadata": {
        "colab": {
          "base_uri": "https://localhost:8080/"
        },
        "id": "dTxccVLUMqG2",
        "outputId": "0ee7f6bf-094d-45dc-f2a2-7544a84b70a1"
      },
      "source": [
        "dic.items()"
      ],
      "execution_count": null,
      "outputs": [
        {
          "output_type": "execute_result",
          "data": {
            "text/plain": [
              "dict_items([('name', 'pey'), ('phone', '0119993323'), ('birth', '1118'), ('newkey1', 123)])"
            ]
          },
          "metadata": {
            "tags": []
          },
          "execution_count": 28
        }
      ]
    },
    {
      "cell_type": "code",
      "metadata": {
        "colab": {
          "base_uri": "https://localhost:8080/",
          "height": 35
        },
        "id": "b74YbOheNEbG",
        "outputId": "7f4d06e9-ea52-41aa-9973-80898f9466d7"
      },
      "source": [
        "dic.get('name')"
      ],
      "execution_count": null,
      "outputs": [
        {
          "output_type": "execute_result",
          "data": {
            "application/vnd.google.colaboratory.intrinsic+json": {
              "type": "string"
            },
            "text/plain": [
              "'pey'"
            ]
          },
          "metadata": {
            "tags": []
          },
          "execution_count": 29
        }
      ]
    },
    {
      "cell_type": "code",
      "metadata": {
        "colab": {
          "base_uri": "https://localhost:8080/",
          "height": 169
        },
        "id": "4-epSSCUNGY4",
        "outputId": "c4e0da78-5dfc-4c36-c85e-4d38bd06e369"
      },
      "source": [
        "dic['namename']"
      ],
      "execution_count": null,
      "outputs": [
        {
          "output_type": "error",
          "ename": "KeyError",
          "evalue": "ignored",
          "traceback": [
            "\u001b[0;31m---------------------------------------------------------------------------\u001b[0m",
            "\u001b[0;31mKeyError\u001b[0m                                  Traceback (most recent call last)",
            "\u001b[0;32m<ipython-input-30-55b3bd297c64>\u001b[0m in \u001b[0;36m<module>\u001b[0;34m()\u001b[0m\n\u001b[0;32m----> 1\u001b[0;31m \u001b[0mdic\u001b[0m\u001b[0;34m[\u001b[0m\u001b[0;34m'namename'\u001b[0m\u001b[0;34m]\u001b[0m\u001b[0;34m\u001b[0m\u001b[0;34m\u001b[0m\u001b[0m\n\u001b[0m",
            "\u001b[0;31mKeyError\u001b[0m: 'namename'"
          ]
        }
      ]
    },
    {
      "cell_type": "code",
      "metadata": {
        "id": "uNm9Nw-ONIiW"
      },
      "source": [
        "dic.get('namename')"
      ],
      "execution_count": null,
      "outputs": []
    },
    {
      "cell_type": "code",
      "metadata": {
        "colab": {
          "base_uri": "https://localhost:8080/"
        },
        "id": "9AnEQLgKNKtq",
        "outputId": "aea9542b-36e5-4e78-840d-17071c1150b0"
      },
      "source": [
        "'name' in ['name', 'aaa']"
      ],
      "execution_count": null,
      "outputs": [
        {
          "output_type": "execute_result",
          "data": {
            "text/plain": [
              "True"
            ]
          },
          "metadata": {
            "tags": []
          },
          "execution_count": 32
        }
      ]
    },
    {
      "cell_type": "markdown",
      "metadata": {
        "id": "9Fw3mL_rNOL9"
      },
      "source": [
        "###\\*Chapter 2 practice\n",
        "\n",
        "1) Remove duplicates\n",
        "``` python \n",
        ">>> a = [1, 1, 1, 2, 2, 3, 3, 3, 4, 4, 5]\n",
        "```\n",
        "\n",
        "2) How to extract 'A' and 'B' from the list 'a'?\n",
        "``` python\n",
        ">>> a = {'A':90, 'B':80, 'C':70}\n",
        "```\n",
        "\n",
        "3) What is the result? \n",
        "``` python\n",
        ">>> a = b = [1, 2, 3]\n",
        ">>> a[1] = 4\n",
        ">>> print(b)\n",
        "```"
      ]
    },
    {
      "cell_type": "code",
      "metadata": {
        "colab": {
          "base_uri": "https://localhost:8080/"
        },
        "id": "cRbisQuRNNq7",
        "outputId": "e3dd306e-1e31-4c99-995e-a587a1c091f3"
      },
      "source": [
        "a = [1, 1, 1, 2, 2, 3, 3, 3, 4, 4, 5]\n",
        "list(set(a))"
      ],
      "execution_count": null,
      "outputs": [
        {
          "output_type": "execute_result",
          "data": {
            "text/plain": [
              "[1, 2, 3, 4, 5]"
            ]
          },
          "metadata": {
            "tags": []
          },
          "execution_count": 33
        }
      ]
    },
    {
      "cell_type": "code",
      "metadata": {
        "colab": {
          "base_uri": "https://localhost:8080/"
        },
        "id": "pq-gcD7qNSzk",
        "outputId": "d66e11c2-ab50-4955-c9ce-9033b94e47eb"
      },
      "source": [
        "a = {'A':90, 'B':80, 'C':70}\n",
        "a['A']"
      ],
      "execution_count": null,
      "outputs": [
        {
          "output_type": "execute_result",
          "data": {
            "text/plain": [
              "90"
            ]
          },
          "metadata": {
            "tags": []
          },
          "execution_count": 34
        }
      ]
    },
    {
      "cell_type": "code",
      "metadata": {
        "colab": {
          "base_uri": "https://localhost:8080/"
        },
        "id": "fjAUbgi7NUWw",
        "outputId": "7cd56c9a-f05f-45f2-88e5-de306cb031bd"
      },
      "source": [
        "a = b = [1, 2, 3]\n",
        "a[1] = 4\n",
        "print(b)\n",
        "\n",
        "a = [1,2,3]\n",
        "b = a.copy()\n",
        "a[1] = 4\n",
        "print(b)"
      ],
      "execution_count": null,
      "outputs": [
        {
          "output_type": "stream",
          "text": [
            "[1, 4, 3]\n",
            "[1, 2, 3]\n"
          ],
          "name": "stdout"
        }
      ]
    },
    {
      "cell_type": "markdown",
      "metadata": {
        "id": "0dtlhaedNXb9"
      },
      "source": [
        "##Chapter 3\n",
        "[Jump to python ch3](https://wikidocs.net/19)"
      ]
    },
    {
      "cell_type": "markdown",
      "metadata": {
        "id": "z82YgJAJNfri"
      },
      "source": [
        "###If else "
      ]
    },
    {
      "cell_type": "code",
      "metadata": {
        "colab": {
          "base_uri": "https://localhost:8080/"
        },
        "id": "aqv5ncgbNV5j",
        "outputId": "f89f7254-67f1-4536-bb44-c2192cb1e833"
      },
      "source": [
        "if 1 :\n",
        "    print(\"true\")\n",
        "else :\n",
        "    print(\"not true\")\n",
        "\n",
        "if 0 :\n",
        "    print(\"true\")\n",
        "else :\n",
        "    print(\"not true\")"
      ],
      "execution_count": null,
      "outputs": [
        {
          "output_type": "stream",
          "text": [
            "true\n",
            "not true\n"
          ],
          "name": "stdout"
        }
      ]
    },
    {
      "cell_type": "code",
      "metadata": {
        "colab": {
          "base_uri": "https://localhost:8080/"
        },
        "id": "5Jebd_eUNiwP",
        "outputId": "e5c23695-0f4f-403b-f23f-562092617d2a"
      },
      "source": [
        "a = 10; b = 0\n",
        "if a > 0 or b > 2 :\n",
        "  print(\"true\")\n",
        "else :\n",
        "  print(\"not true\")"
      ],
      "execution_count": null,
      "outputs": [
        {
          "output_type": "stream",
          "text": [
            "true\n"
          ],
          "name": "stdout"
        }
      ]
    },
    {
      "cell_type": "markdown",
      "metadata": {
        "id": "AesyUMd5NmH_"
      },
      "source": [
        "###For loop"
      ]
    },
    {
      "cell_type": "code",
      "metadata": {
        "colab": {
          "base_uri": "https://localhost:8080/"
        },
        "id": "UxaFLM5hNkWJ",
        "outputId": "9c0ebea9-8ae2-4f19-c9e7-6250a5f71d94"
      },
      "source": [
        "for i in range(5) :\n",
        "    print(i)"
      ],
      "execution_count": null,
      "outputs": [
        {
          "output_type": "stream",
          "text": [
            "0\n",
            "1\n",
            "2\n",
            "3\n",
            "4\n"
          ],
          "name": "stdout"
        }
      ]
    },
    {
      "cell_type": "code",
      "metadata": {
        "colab": {
          "base_uri": "https://localhost:8080/"
        },
        "id": "zzjKaOwPNpKg",
        "outputId": "dc826a2f-c71f-4dc5-d0ee-091b83faeec5"
      },
      "source": [
        "listofnames = ['Tom', 'Jane', 'Karl']\n",
        "for name in listofnames :\n",
        "    print(name)"
      ],
      "execution_count": null,
      "outputs": [
        {
          "output_type": "stream",
          "text": [
            "Tom\n",
            "Jane\n",
            "Karl\n"
          ],
          "name": "stdout"
        }
      ]
    },
    {
      "cell_type": "code",
      "metadata": {
        "colab": {
          "base_uri": "https://localhost:8080/"
        },
        "id": "sTmvR5KRNrxc",
        "outputId": "528e0215-4c21-4b8d-b002-a787ffa6c8a3"
      },
      "source": [
        "for (key,value) in dic.items() :\n",
        "    print(key, value)"
      ],
      "execution_count": null,
      "outputs": [
        {
          "output_type": "stream",
          "text": [
            "name pey\n",
            "phone 0119993323\n",
            "birth 1118\n",
            "newkey1 123\n"
          ],
          "name": "stdout"
        }
      ]
    },
    {
      "cell_type": "markdown",
      "metadata": {
        "id": "8-gkn46RNu2e"
      },
      "source": [
        "###\\*Chapter 3 practice \n",
        "\n",
        "1) Interprete the code below. What is the result?\n",
        "``` python\n",
        "a = \"Life is too short, you need python\"\n",
        "\n",
        "if \"wife\" in a: print(\"wife\")\n",
        "elif \"python\" in a and \"you\" not in a: print(\"python\")\n",
        "elif \"shirt\" not in a: print(\"shirt\")\n",
        "elif \"need\" in a: print(\"need\")\n",
        "else: print(\"none\")\n",
        "```\n",
        "\n",
        "2) print numbers 1 to 100 using for loop\n",
        "\n",
        "3) Do the same thing Using list compression \n",
        "``` python\n",
        "numbers = [1, 2, 3, 4, 5]\n",
        "result = []\n",
        "for n in numbers:\n",
        "    if n % 2 == 1:\n",
        "        result.append(n*2)\n",
        "```"
      ]
    },
    {
      "cell_type": "code",
      "metadata": {
        "colab": {
          "base_uri": "https://localhost:8080/"
        },
        "id": "plGDM-9cNtbH",
        "outputId": "8f34e0f2-0ad7-4a15-df53-77be45af6eac"
      },
      "source": [
        "a = \"Life is too short, you need python\"\n",
        " \n",
        "if \"wife\" in a: print(\"wife\")\n",
        "elif \"python\" in a and \"you\" not in a: print(\"python\")\n",
        "elif \"shirt\" not in a: print(\"shirt\")\n",
        "elif \"need\" in a: print(\"need\")\n",
        "else: print(\"none\")"
      ],
      "execution_count": null,
      "outputs": [
        {
          "output_type": "stream",
          "text": [
            "shirt\n"
          ],
          "name": "stdout"
        }
      ]
    },
    {
      "cell_type": "code",
      "metadata": {
        "colab": {
          "base_uri": "https://localhost:8080/"
        },
        "id": "gQvtIyLSNzT-",
        "outputId": "581286d6-2c36-408e-cb47-1c78ab4a37b5"
      },
      "source": [
        "for i in range(1,101):\n",
        "    print(i, end=', ')"
      ],
      "execution_count": null,
      "outputs": [
        {
          "output_type": "stream",
          "text": [
            "1, 2, 3, 4, 5, 6, 7, 8, 9, 10, 11, 12, 13, 14, 15, 16, 17, 18, 19, 20, 21, 22, 23, 24, 25, 26, 27, 28, 29, 30, 31, 32, 33, 34, 35, 36, 37, 38, 39, 40, 41, 42, 43, 44, 45, 46, 47, 48, 49, 50, 51, 52, 53, 54, 55, 56, 57, 58, 59, 60, 61, 62, 63, 64, 65, 66, 67, 68, 69, 70, 71, 72, 73, 74, 75, 76, 77, 78, 79, 80, 81, 82, 83, 84, 85, 86, 87, 88, 89, 90, 91, 92, 93, 94, 95, 96, 97, 98, 99, 100, "
          ],
          "name": "stdout"
        }
      ]
    },
    {
      "cell_type": "code",
      "metadata": {
        "colab": {
          "base_uri": "https://localhost:8080/"
        },
        "id": "UuLAT-2SN1HE",
        "outputId": "9cdb58d4-540c-4ae1-dc9f-6f864ae233a8"
      },
      "source": [
        "numbers = [1, 2, 3, 4, 5]\n",
        "result = []\n",
        "for n in numbers:\n",
        "    if n % 2 == 1:\n",
        "        result.append(n*2)\n",
        "result"
      ],
      "execution_count": null,
      "outputs": [
        {
          "output_type": "execute_result",
          "data": {
            "text/plain": [
              "[2, 6, 10]"
            ]
          },
          "metadata": {
            "tags": []
          },
          "execution_count": 43
        }
      ]
    },
    {
      "cell_type": "code",
      "metadata": {
        "colab": {
          "base_uri": "https://localhost:8080/"
        },
        "id": "tjLyDGUqN2xZ",
        "outputId": "14a73c10-525c-4547-f9f4-4e456af0655c"
      },
      "source": [
        "[n*2 if n%2 == 1 else n*2+1 for n in numbers]"
      ],
      "execution_count": null,
      "outputs": [
        {
          "output_type": "execute_result",
          "data": {
            "text/plain": [
              "[2, 5, 6, 9, 10]"
            ]
          },
          "metadata": {
            "tags": []
          },
          "execution_count": 44
        }
      ]
    },
    {
      "cell_type": "markdown",
      "metadata": {
        "id": "a5Ms-R3uN6zk"
      },
      "source": [
        "## Chapter 4 \n",
        "\n",
        "[Jump to python ch4](https://wikidocs.net/26)"
      ]
    },
    {
      "cell_type": "markdown",
      "metadata": {
        "id": "EDl1gioDOAvD"
      },
      "source": [
        "###Function"
      ]
    },
    {
      "cell_type": "code",
      "metadata": {
        "colab": {
          "base_uri": "https://localhost:8080/"
        },
        "id": "RAyKlM0eN4gq",
        "outputId": "55148524-13cc-4627-cd22-b9d23304a5ea"
      },
      "source": [
        "def add(a, b):\n",
        "    return a+b\n",
        "print(add(3, 4))"
      ],
      "execution_count": null,
      "outputs": [
        {
          "output_type": "stream",
          "text": [
            "7\n"
          ],
          "name": "stdout"
        }
      ]
    },
    {
      "cell_type": "markdown",
      "metadata": {
        "id": "Q15b13JxOFPK"
      },
      "source": [
        "###Write data"
      ]
    },
    {
      "cell_type": "code",
      "metadata": {
        "id": "0ESM-oK1ODkh"
      },
      "source": [
        "with open('ids.txt', 'w') as f :\n",
        "    f.write('ID\\nJohn\\nKarl\\nAndy\\nTim\\n')"
      ],
      "execution_count": null,
      "outputs": []
    },
    {
      "cell_type": "code",
      "metadata": {
        "id": "BVGBK8SbOIJf"
      },
      "source": [
        "with open('data1.txt', 'w') as f :\n",
        "    f.write('ID\\tfield1\\tfield2\\tfield3\\nTom\\t1\\t3\\t1\\nJohn\\t1\\t3\\t3\\nTom\\t1\\t1\\t1\\nKarl\\t1\\t1\\t2\\nKarl\\t1\\t3\\t2\\nKarl\\t2\\t2\\t2\\nAndy\\t1\\t2\\t3')"
      ],
      "execution_count": null,
      "outputs": []
    },
    {
      "cell_type": "code",
      "metadata": {
        "id": "fsVaYYi8OICi"
      },
      "source": [
        "with open('data2.txt', 'w') as f :\n",
        "    f.write('ID\\tfield1\\tfield2\\tfield3\\nTom\\t2\\t3\\t1\\nJane\\t1\\t1\\t3\\nJane\\t2\\t2\\t1\\nMax\\t3\\t1\\t2\\nKarl\\t1\\t4\\t2\\nMax\\t3\\t2\\t2\\nMax\\t2\\t2\\t1\\nTom\\t2\\t3\\t1\\nJane\\t1\\t1\\t3\\nJane\\t2\\t2\\t1\\nMax\\t3\\t1\\t2\\nKarl\\t1\\t4\\t2\\nMax\\t3\\t2\\t2\\nMax\\t2\\t2\\t1')"
      ],
      "execution_count": null,
      "outputs": []
    },
    {
      "cell_type": "markdown",
      "metadata": {
        "id": "on1PpOoHOL_e"
      },
      "source": [
        "###Read data"
      ]
    },
    {
      "cell_type": "code",
      "metadata": {
        "colab": {
          "base_uri": "https://localhost:8080/"
        },
        "id": "ZmEMlS_WOPdt",
        "outputId": "981fe6e3-7a39-4e8b-9182-693813ba94c9"
      },
      "source": [
        "ids = []\n",
        "with open('ids.txt', 'r') as f :\n",
        "    for line in f :\n",
        "        print(line)\n",
        "        ids.append(line.strip())\n",
        "ids"
      ],
      "execution_count": null,
      "outputs": [
        {
          "output_type": "stream",
          "text": [
            "ID\n",
            "\n",
            "John\n",
            "\n",
            "Karl\n",
            "\n",
            "Andy\n",
            "\n",
            "Tim\n",
            "\n"
          ],
          "name": "stdout"
        },
        {
          "output_type": "execute_result",
          "data": {
            "text/plain": [
              "['ID', 'John', 'Karl', 'Andy', 'Tim']"
            ]
          },
          "metadata": {
            "tags": []
          },
          "execution_count": 5
        }
      ]
    },
    {
      "cell_type": "code",
      "metadata": {
        "colab": {
          "base_uri": "https://localhost:8080/"
        },
        "id": "swiXj0hEOSVU",
        "outputId": "f52bef7e-33c3-4cd1-f952-a9c6a28c8889"
      },
      "source": [
        "ids = []\n",
        "V1s = []\n",
        "with open('data1.txt', 'r', encoding='utf-8') as f :\n",
        "    for item in f :\n",
        "        print(item)\n",
        "        ID, field1, _, _ = item.strip().split()\n",
        "        ids.append(ID)\n",
        "        V1s.append(field1)\n",
        "ID\n",
        "V1s"
      ],
      "execution_count": null,
      "outputs": [
        {
          "output_type": "stream",
          "text": [
            "ID\tfield1\tfield2\tfield3\n",
            "\n",
            "Tom\t1\t3\t1\n",
            "\n",
            "John\t1\t3\t3\n",
            "\n",
            "Tom\t1\t1\t1\n",
            "\n",
            "Karl\t1\t1\t2\n",
            "\n",
            "Karl\t1\t3\t2\n",
            "\n",
            "Karl\t2\t2\t2\n",
            "\n",
            "Andy\t1\t2\t3\n"
          ],
          "name": "stdout"
        },
        {
          "output_type": "execute_result",
          "data": {
            "text/plain": [
              "['field1', '1', '1', '1', '1', '1', '2', '1']"
            ]
          },
          "metadata": {
            "tags": []
          },
          "execution_count": 50
        }
      ]
    },
    {
      "cell_type": "markdown",
      "metadata": {
        "id": "IliNzVFcOV-b"
      },
      "source": [
        "* split() 메서드는 whitespace를 기반으로 문자열을 나눈다"
      ]
    },
    {
      "cell_type": "markdown",
      "metadata": {
        "id": "A7PcKc_ROZE8"
      },
      "source": [
        "###Data generator\n",
        "Do not load all data into the memory. Feed data from file using generator."
      ]
    },
    {
      "cell_type": "code",
      "metadata": {
        "colab": {
          "base_uri": "https://localhost:8080/"
        },
        "id": "VtP_PhfCPC3a",
        "outputId": "a039998d-507a-481a-af94-98e3300b7e51"
      },
      "source": [
        "import sys\n",
        "fnm = 'data2.txt'\n",
        "def fgenerator(fnm, iter_option = 0) :\n",
        "    with open(fnm, 'r', encoding='utf-8') as f :\n",
        "        for idx, item in enumerate(f) :\n",
        "            ID, V1, V2, V3 = item.strip().split()\n",
        "            if iter_option == 0 :\n",
        "                yield ID\n",
        "            elif iter_option == 1 :\n",
        "                yield V1\n",
        "            elif iter_option == 2 :\n",
        "                yield V2\n",
        "            else :\n",
        "                yield V3\n",
        "\n",
        "gen_from_file = fgenerator(fnm)\n",
        "for i in gen_from_file :\n",
        "    print(i)"
      ],
      "execution_count": null,
      "outputs": [
        {
          "output_type": "stream",
          "text": [
            "ID\n",
            "Tom\n",
            "Jane\n",
            "Jane\n",
            "Max\n",
            "Karl\n",
            "Max\n",
            "Max\n",
            "Tom\n",
            "Jane\n",
            "Jane\n",
            "Max\n",
            "Karl\n",
            "Max\n",
            "Max\n"
          ],
          "name": "stdout"
        }
      ]
    },
    {
      "cell_type": "markdown",
      "metadata": {
        "id": "fMCx40V0PaHW"
      },
      "source": [
        "* enumerate() 함수를 사용하여 문자열을 반복하면 인덱스와 결과값이 포함된 튜플이 반환된다"
      ]
    },
    {
      "cell_type": "code",
      "metadata": {
        "colab": {
          "base_uri": "https://localhost:8080/"
        },
        "id": "jCuSTZgkPatN",
        "outputId": "17b3d91b-d6d6-46db-956b-d5638dc5942c"
      },
      "source": [
        "sys.getsizeof(gen_from_file)"
      ],
      "execution_count": null,
      "outputs": [
        {
          "output_type": "execute_result",
          "data": {
            "text/plain": [
              "128"
            ]
          },
          "metadata": {
            "tags": []
          },
          "execution_count": 52
        }
      ]
    },
    {
      "cell_type": "markdown",
      "metadata": {
        "id": "A-VDMugVPeD_"
      },
      "source": [
        "* sys.getsizeof() 함수는 객체의 메모리 사이즈를 바이트 단위로 반환한다"
      ]
    },
    {
      "cell_type": "code",
      "metadata": {
        "colab": {
          "base_uri": "https://localhost:8080/"
        },
        "id": "fkfu4hhdPcme",
        "outputId": "3fbfd578-0060-4fda-f4e9-1572ff4d8c5c"
      },
      "source": [
        "def freader(fnm, iter_option = 0) :\n",
        "    IDs = []\n",
        "    with open(fnm, 'r', encoding='utf-8') as f :\n",
        "        for idx, item in enumerate(f) :\n",
        "            ID, V1, V2, V3 = item.strip().split()\n",
        "            if iter_option == 0 :\n",
        "                IDs.append(ID)\n",
        "            elif iter_option == 1 :\n",
        "                IDs.append(V1)\n",
        "            elif iter_option == 2 :\n",
        "                IDs.append(V2)\n",
        "            else :\n",
        "                IDs.append(V3)\n",
        "    return IDs\n",
        "res = freader(fnm, 0)\n",
        "res"
      ],
      "execution_count": null,
      "outputs": [
        {
          "output_type": "execute_result",
          "data": {
            "text/plain": [
              "['ID',\n",
              " 'Tom',\n",
              " 'Jane',\n",
              " 'Jane',\n",
              " 'Max',\n",
              " 'Karl',\n",
              " 'Max',\n",
              " 'Max',\n",
              " 'Tom',\n",
              " 'Jane',\n",
              " 'Jane',\n",
              " 'Max',\n",
              " 'Karl',\n",
              " 'Max',\n",
              " 'Max']"
            ]
          },
          "metadata": {
            "tags": []
          },
          "execution_count": 53
        }
      ]
    },
    {
      "cell_type": "code",
      "metadata": {
        "colab": {
          "base_uri": "https://localhost:8080/"
        },
        "id": "CzE1i5pJPg78",
        "outputId": "2ae531a4-56b7-4ae6-84e4-3816dcad2fab"
      },
      "source": [
        "sys.getsizeof(res)"
      ],
      "execution_count": null,
      "outputs": [
        {
          "output_type": "execute_result",
          "data": {
            "text/plain": [
              "200"
            ]
          },
          "metadata": {
            "tags": []
          },
          "execution_count": 54
        }
      ]
    },
    {
      "cell_type": "code",
      "metadata": {
        "colab": {
          "base_uri": "https://localhost:8080/"
        },
        "id": "9VA7z2bHPjPL",
        "outputId": "20a90f7f-f45f-495f-9326-4ac3183914d3"
      },
      "source": [
        "class DataGenerator() : \n",
        "    def __init__(self, fnm, iter_option=0) :\n",
        "        self.fnm = fnm\n",
        "        self.iter_option = iter_option\n",
        "    \n",
        "    def __iter__(self) :\n",
        "        with open(fnm, 'r', encoding='utf-8') as f :\n",
        "            for idx, item in enumerate(f) :\n",
        "                ID, V1, V2, V3 = item.strip().split()\n",
        "                if self.iter_option == 0 :\n",
        "                    yield ID\n",
        "                elif self.iter_option == 1 :\n",
        "                    yield V1\n",
        "                elif self.iter_option == 2 :\n",
        "                    yield V2\n",
        "                else :\n",
        "                    yield V3\n",
        "    \n",
        "    def __len__(self) :\n",
        "        with open(fnm, 'r', encoding='utf-8') as f :\n",
        "            for idx, item in enumerate(f) :\n",
        "                pass\n",
        "            return idx\n",
        "\n",
        "fnm = 'data2.txt'\n",
        "gen1 = DataGenerator(fnm)\n",
        "for idx, item in enumerate(gen1) :\n",
        "    print(item)"
      ],
      "execution_count": null,
      "outputs": [
        {
          "output_type": "stream",
          "text": [
            "ID\n",
            "Tom\n",
            "Jane\n",
            "Jane\n",
            "Max\n",
            "Karl\n",
            "Max\n",
            "Max\n",
            "Tom\n",
            "Jane\n",
            "Jane\n",
            "Max\n",
            "Karl\n",
            "Max\n",
            "Max\n"
          ],
          "name": "stdout"
        }
      ]
    },
    {
      "cell_type": "markdown",
      "metadata": {
        "id": "MVI-_Ks4VJ-X"
      },
      "source": [
        "* \\_\\_iter\\_\\_ 메서드는 해당 객체에 iter()함수를 적용했을 때 호출되는 메서드이다\n",
        "* \\_\\_len\\_\\_ 메서드는 해당 객체에 len()함수를 적용했을 때 호출되는 메서드이다"
      ]
    },
    {
      "cell_type": "code",
      "metadata": {
        "colab": {
          "base_uri": "https://localhost:8080/"
        },
        "id": "5zU9HAXgP2-0",
        "outputId": "85c9ca16-9f7b-42da-9d9d-55faddf497b1"
      },
      "source": [
        "list(iter(gen1))"
      ],
      "execution_count": null,
      "outputs": [
        {
          "output_type": "execute_result",
          "data": {
            "text/plain": [
              "['ID',\n",
              " 'Tom',\n",
              " 'Jane',\n",
              " 'Jane',\n",
              " 'Max',\n",
              " 'Karl',\n",
              " 'Max',\n",
              " 'Max',\n",
              " 'Tom',\n",
              " 'Jane',\n",
              " 'Jane',\n",
              " 'Max',\n",
              " 'Karl',\n",
              " 'Max',\n",
              " 'Max']"
            ]
          },
          "metadata": {
            "tags": []
          },
          "execution_count": 56
        }
      ]
    },
    {
      "cell_type": "code",
      "metadata": {
        "colab": {
          "base_uri": "https://localhost:8080/"
        },
        "id": "mrX3WLJNVDxa",
        "outputId": "a0c25b83-fe12-4918-d3ae-7ac4693aac57"
      },
      "source": [
        "len(gen1)"
      ],
      "execution_count": null,
      "outputs": [
        {
          "output_type": "execute_result",
          "data": {
            "text/plain": [
              "14"
            ]
          },
          "metadata": {
            "tags": []
          },
          "execution_count": 57
        }
      ]
    },
    {
      "cell_type": "markdown",
      "metadata": {
        "id": "-KGWhMt6dmul"
      },
      "source": [
        "###*Chapter 4 practice\n",
        "Make a program that produce 'new_data.txt' with IDs listed in ids.txt."
      ]
    },
    {
      "cell_type": "code",
      "metadata": {
        "id": "XRO5BtOhcoQh",
        "colab": {
          "base_uri": "https://localhost:8080/"
        },
        "outputId": "fa139391-e6a1-4174-93c6-b989c8c12a6b"
      },
      "source": [
        "with open('new_data.txt', 'w') as fw :\n",
        "    with open(\"data1.txt\", encoding='utf-8') as f:\n",
        "        for item in f :\n",
        "            nm, f1, f2, f3 = item.strip().split()\n",
        "            if nm in ids :\n",
        "                fw.write(item)\n",
        "\n",
        "    fw.write(\"\\n\")\n",
        "\n",
        "    with open(\"data2.txt\", encoding='utf-8') as f:\n",
        "        for item in f :\n",
        "            nm, f1, f2, f3 = item.strip().split()\n",
        "        if nm in ids[1:] :\n",
        "            fw.write(item)\n",
        "\n",
        "with open(\"new_data.txt\", encoding='utf-8') as f:\n",
        "    for item in f :\n",
        "        print(item)"
      ],
      "execution_count": null,
      "outputs": [
        {
          "output_type": "stream",
          "text": [
            "ID\tfield1\tfield2\tfield3\n",
            "\n",
            "John\t1\t3\t3\n",
            "\n",
            "Karl\t1\t1\t2\n",
            "\n",
            "Karl\t1\t3\t2\n",
            "\n",
            "Karl\t2\t2\t2\n",
            "\n",
            "Andy\t1\t2\t3\n",
            "\n"
          ],
          "name": "stdout"
        }
      ]
    },
    {
      "cell_type": "markdown",
      "metadata": {
        "id": "rNyuYJ9XdBdj"
      },
      "source": [
        "####*Pandas "
      ]
    },
    {
      "cell_type": "code",
      "metadata": {
        "id": "G1RNXQoEeI1P"
      },
      "source": [
        "import pandas as pd\n",
        "\n",
        "ids = pd.read_csv('ids.txt', delimiter = \"\\t\")\n",
        "data1 = pd.read_csv('data1.txt', delimiter = \"\\t\")\n",
        "data2 = pd.read_csv('data2.txt', delimiter = \"\\t\")"
      ],
      "execution_count": null,
      "outputs": []
    },
    {
      "cell_type": "code",
      "metadata": {
        "id": "kWHyat6DeMLs",
        "colab": {
          "base_uri": "https://localhost:8080/",
          "height": 166
        },
        "outputId": "7f820ece-058e-46a8-b63a-d1237a82c8a7"
      },
      "source": [
        "ids"
      ],
      "execution_count": null,
      "outputs": [
        {
          "output_type": "execute_result",
          "data": {
            "text/html": [
              "<div>\n",
              "<style scoped>\n",
              "    .dataframe tbody tr th:only-of-type {\n",
              "        vertical-align: middle;\n",
              "    }\n",
              "\n",
              "    .dataframe tbody tr th {\n",
              "        vertical-align: top;\n",
              "    }\n",
              "\n",
              "    .dataframe thead th {\n",
              "        text-align: right;\n",
              "    }\n",
              "</style>\n",
              "<table border=\"1\" class=\"dataframe\">\n",
              "  <thead>\n",
              "    <tr style=\"text-align: right;\">\n",
              "      <th></th>\n",
              "      <th>ID</th>\n",
              "    </tr>\n",
              "  </thead>\n",
              "  <tbody>\n",
              "    <tr>\n",
              "      <th>0</th>\n",
              "      <td>John</td>\n",
              "    </tr>\n",
              "    <tr>\n",
              "      <th>1</th>\n",
              "      <td>Karl</td>\n",
              "    </tr>\n",
              "    <tr>\n",
              "      <th>2</th>\n",
              "      <td>Andy</td>\n",
              "    </tr>\n",
              "    <tr>\n",
              "      <th>3</th>\n",
              "      <td>Tim</td>\n",
              "    </tr>\n",
              "  </tbody>\n",
              "</table>\n",
              "</div>"
            ],
            "text/plain": [
              "     ID\n",
              "0  John\n",
              "1  Karl\n",
              "2  Andy\n",
              "3   Tim"
            ]
          },
          "metadata": {
            "tags": []
          },
          "execution_count": 36
        }
      ]
    },
    {
      "cell_type": "code",
      "metadata": {
        "id": "DFjoZQJ9ePX0",
        "colab": {
          "base_uri": "https://localhost:8080/"
        },
        "outputId": "3712a6d6-b92a-4b60-b7f9-e4cc081fd253"
      },
      "source": [
        "list(ids['ID'])"
      ],
      "execution_count": null,
      "outputs": [
        {
          "output_type": "execute_result",
          "data": {
            "text/plain": [
              "['John', 'Karl', 'Andy', 'Tim']"
            ]
          },
          "metadata": {
            "tags": []
          },
          "execution_count": 37
        }
      ]
    },
    {
      "cell_type": "code",
      "metadata": {
        "id": "XebmqS4MeREj",
        "colab": {
          "base_uri": "https://localhost:8080/",
          "height": 254
        },
        "outputId": "1f67a684-5201-490a-e525-427c1b12ac25"
      },
      "source": [
        "data1"
      ],
      "execution_count": null,
      "outputs": [
        {
          "output_type": "execute_result",
          "data": {
            "text/html": [
              "<div>\n",
              "<style scoped>\n",
              "    .dataframe tbody tr th:only-of-type {\n",
              "        vertical-align: middle;\n",
              "    }\n",
              "\n",
              "    .dataframe tbody tr th {\n",
              "        vertical-align: top;\n",
              "    }\n",
              "\n",
              "    .dataframe thead th {\n",
              "        text-align: right;\n",
              "    }\n",
              "</style>\n",
              "<table border=\"1\" class=\"dataframe\">\n",
              "  <thead>\n",
              "    <tr style=\"text-align: right;\">\n",
              "      <th></th>\n",
              "      <th>ID</th>\n",
              "      <th>field1</th>\n",
              "      <th>field2</th>\n",
              "      <th>field3</th>\n",
              "    </tr>\n",
              "  </thead>\n",
              "  <tbody>\n",
              "    <tr>\n",
              "      <th>0</th>\n",
              "      <td>Tom</td>\n",
              "      <td>1</td>\n",
              "      <td>3</td>\n",
              "      <td>1</td>\n",
              "    </tr>\n",
              "    <tr>\n",
              "      <th>1</th>\n",
              "      <td>John</td>\n",
              "      <td>1</td>\n",
              "      <td>3</td>\n",
              "      <td>3</td>\n",
              "    </tr>\n",
              "    <tr>\n",
              "      <th>2</th>\n",
              "      <td>Tom</td>\n",
              "      <td>1</td>\n",
              "      <td>1</td>\n",
              "      <td>1</td>\n",
              "    </tr>\n",
              "    <tr>\n",
              "      <th>3</th>\n",
              "      <td>Karl</td>\n",
              "      <td>1</td>\n",
              "      <td>1</td>\n",
              "      <td>2</td>\n",
              "    </tr>\n",
              "    <tr>\n",
              "      <th>4</th>\n",
              "      <td>Karl</td>\n",
              "      <td>1</td>\n",
              "      <td>3</td>\n",
              "      <td>2</td>\n",
              "    </tr>\n",
              "    <tr>\n",
              "      <th>5</th>\n",
              "      <td>Karl</td>\n",
              "      <td>2</td>\n",
              "      <td>2</td>\n",
              "      <td>2</td>\n",
              "    </tr>\n",
              "    <tr>\n",
              "      <th>6</th>\n",
              "      <td>Andy</td>\n",
              "      <td>1</td>\n",
              "      <td>2</td>\n",
              "      <td>3</td>\n",
              "    </tr>\n",
              "  </tbody>\n",
              "</table>\n",
              "</div>"
            ],
            "text/plain": [
              "     ID  field1  field2  field3\n",
              "0   Tom       1       3       1\n",
              "1  John       1       3       3\n",
              "2   Tom       1       1       1\n",
              "3  Karl       1       1       2\n",
              "4  Karl       1       3       2\n",
              "5  Karl       2       2       2\n",
              "6  Andy       1       2       3"
            ]
          },
          "metadata": {
            "tags": []
          },
          "execution_count": 38
        }
      ]
    },
    {
      "cell_type": "code",
      "metadata": {
        "id": "CPY4-ja8eTId",
        "colab": {
          "base_uri": "https://localhost:8080/",
          "height": 462
        },
        "outputId": "a56d38df-e0d6-48d1-a542-ddb9b1780996"
      },
      "source": [
        "data2"
      ],
      "execution_count": null,
      "outputs": [
        {
          "output_type": "execute_result",
          "data": {
            "text/html": [
              "<div>\n",
              "<style scoped>\n",
              "    .dataframe tbody tr th:only-of-type {\n",
              "        vertical-align: middle;\n",
              "    }\n",
              "\n",
              "    .dataframe tbody tr th {\n",
              "        vertical-align: top;\n",
              "    }\n",
              "\n",
              "    .dataframe thead th {\n",
              "        text-align: right;\n",
              "    }\n",
              "</style>\n",
              "<table border=\"1\" class=\"dataframe\">\n",
              "  <thead>\n",
              "    <tr style=\"text-align: right;\">\n",
              "      <th></th>\n",
              "      <th>ID</th>\n",
              "      <th>field1</th>\n",
              "      <th>field2</th>\n",
              "      <th>field3</th>\n",
              "    </tr>\n",
              "  </thead>\n",
              "  <tbody>\n",
              "    <tr>\n",
              "      <th>0</th>\n",
              "      <td>Tom</td>\n",
              "      <td>2</td>\n",
              "      <td>3</td>\n",
              "      <td>1</td>\n",
              "    </tr>\n",
              "    <tr>\n",
              "      <th>1</th>\n",
              "      <td>Jane</td>\n",
              "      <td>1</td>\n",
              "      <td>1</td>\n",
              "      <td>3</td>\n",
              "    </tr>\n",
              "    <tr>\n",
              "      <th>2</th>\n",
              "      <td>Jane</td>\n",
              "      <td>2</td>\n",
              "      <td>2</td>\n",
              "      <td>1</td>\n",
              "    </tr>\n",
              "    <tr>\n",
              "      <th>3</th>\n",
              "      <td>Max</td>\n",
              "      <td>3</td>\n",
              "      <td>1</td>\n",
              "      <td>2</td>\n",
              "    </tr>\n",
              "    <tr>\n",
              "      <th>4</th>\n",
              "      <td>Karl</td>\n",
              "      <td>1</td>\n",
              "      <td>4</td>\n",
              "      <td>2</td>\n",
              "    </tr>\n",
              "    <tr>\n",
              "      <th>5</th>\n",
              "      <td>Max</td>\n",
              "      <td>3</td>\n",
              "      <td>2</td>\n",
              "      <td>2</td>\n",
              "    </tr>\n",
              "    <tr>\n",
              "      <th>6</th>\n",
              "      <td>Max</td>\n",
              "      <td>2</td>\n",
              "      <td>2</td>\n",
              "      <td>1</td>\n",
              "    </tr>\n",
              "    <tr>\n",
              "      <th>7</th>\n",
              "      <td>Tom</td>\n",
              "      <td>2</td>\n",
              "      <td>3</td>\n",
              "      <td>1</td>\n",
              "    </tr>\n",
              "    <tr>\n",
              "      <th>8</th>\n",
              "      <td>Jane</td>\n",
              "      <td>1</td>\n",
              "      <td>1</td>\n",
              "      <td>3</td>\n",
              "    </tr>\n",
              "    <tr>\n",
              "      <th>9</th>\n",
              "      <td>Jane</td>\n",
              "      <td>2</td>\n",
              "      <td>2</td>\n",
              "      <td>1</td>\n",
              "    </tr>\n",
              "    <tr>\n",
              "      <th>10</th>\n",
              "      <td>Max</td>\n",
              "      <td>3</td>\n",
              "      <td>1</td>\n",
              "      <td>2</td>\n",
              "    </tr>\n",
              "    <tr>\n",
              "      <th>11</th>\n",
              "      <td>Karl</td>\n",
              "      <td>1</td>\n",
              "      <td>4</td>\n",
              "      <td>2</td>\n",
              "    </tr>\n",
              "    <tr>\n",
              "      <th>12</th>\n",
              "      <td>Max</td>\n",
              "      <td>3</td>\n",
              "      <td>2</td>\n",
              "      <td>2</td>\n",
              "    </tr>\n",
              "    <tr>\n",
              "      <th>13</th>\n",
              "      <td>Max</td>\n",
              "      <td>2</td>\n",
              "      <td>2</td>\n",
              "      <td>1</td>\n",
              "    </tr>\n",
              "  </tbody>\n",
              "</table>\n",
              "</div>"
            ],
            "text/plain": [
              "      ID  field1  field2  field3\n",
              "0    Tom       2       3       1\n",
              "1   Jane       1       1       3\n",
              "2   Jane       2       2       1\n",
              "3    Max       3       1       2\n",
              "4   Karl       1       4       2\n",
              "5    Max       3       2       2\n",
              "6    Max       2       2       1\n",
              "7    Tom       2       3       1\n",
              "8   Jane       1       1       3\n",
              "9   Jane       2       2       1\n",
              "10   Max       3       1       2\n",
              "11  Karl       1       4       2\n",
              "12   Max       3       2       2\n",
              "13   Max       2       2       1"
            ]
          },
          "metadata": {
            "tags": []
          },
          "execution_count": 39
        }
      ]
    },
    {
      "cell_type": "code",
      "metadata": {
        "id": "rzIn5UBxeVFd"
      },
      "source": [
        "idlist = list(ids['ID'])\n",
        "filter_d1 = data1['ID'].isin(idlist)\n",
        "filter_d2 = data2['ID'].isin(idlist)"
      ],
      "execution_count": null,
      "outputs": []
    },
    {
      "cell_type": "code",
      "metadata": {
        "id": "wgioIJ6-eYl0",
        "colab": {
          "base_uri": "https://localhost:8080/",
          "height": 106
        },
        "outputId": "809c95fe-f10c-4aaf-b319-d06986f808b4"
      },
      "source": [
        "data2[filter_d2]"
      ],
      "execution_count": null,
      "outputs": [
        {
          "output_type": "execute_result",
          "data": {
            "text/html": [
              "<div>\n",
              "<style scoped>\n",
              "    .dataframe tbody tr th:only-of-type {\n",
              "        vertical-align: middle;\n",
              "    }\n",
              "\n",
              "    .dataframe tbody tr th {\n",
              "        vertical-align: top;\n",
              "    }\n",
              "\n",
              "    .dataframe thead th {\n",
              "        text-align: right;\n",
              "    }\n",
              "</style>\n",
              "<table border=\"1\" class=\"dataframe\">\n",
              "  <thead>\n",
              "    <tr style=\"text-align: right;\">\n",
              "      <th></th>\n",
              "      <th>ID</th>\n",
              "      <th>field1</th>\n",
              "      <th>field2</th>\n",
              "      <th>field3</th>\n",
              "    </tr>\n",
              "  </thead>\n",
              "  <tbody>\n",
              "    <tr>\n",
              "      <th>4</th>\n",
              "      <td>Karl</td>\n",
              "      <td>1</td>\n",
              "      <td>4</td>\n",
              "      <td>2</td>\n",
              "    </tr>\n",
              "    <tr>\n",
              "      <th>11</th>\n",
              "      <td>Karl</td>\n",
              "      <td>1</td>\n",
              "      <td>4</td>\n",
              "      <td>2</td>\n",
              "    </tr>\n",
              "  </tbody>\n",
              "</table>\n",
              "</div>"
            ],
            "text/plain": [
              "      ID  field1  field2  field3\n",
              "4   Karl       1       4       2\n",
              "11  Karl       1       4       2"
            ]
          },
          "metadata": {
            "tags": []
          },
          "execution_count": 41
        }
      ]
    },
    {
      "cell_type": "code",
      "metadata": {
        "id": "QAzJWVAWeaX3",
        "colab": {
          "base_uri": "https://localhost:8080/",
          "height": 254
        },
        "outputId": "cb33d28e-4b30-49d0-8b7a-19e5c31c768c"
      },
      "source": [
        "pd.concat([data1[filter_d1], data2[filter_d2]])"
      ],
      "execution_count": null,
      "outputs": [
        {
          "output_type": "execute_result",
          "data": {
            "text/html": [
              "<div>\n",
              "<style scoped>\n",
              "    .dataframe tbody tr th:only-of-type {\n",
              "        vertical-align: middle;\n",
              "    }\n",
              "\n",
              "    .dataframe tbody tr th {\n",
              "        vertical-align: top;\n",
              "    }\n",
              "\n",
              "    .dataframe thead th {\n",
              "        text-align: right;\n",
              "    }\n",
              "</style>\n",
              "<table border=\"1\" class=\"dataframe\">\n",
              "  <thead>\n",
              "    <tr style=\"text-align: right;\">\n",
              "      <th></th>\n",
              "      <th>ID</th>\n",
              "      <th>field1</th>\n",
              "      <th>field2</th>\n",
              "      <th>field3</th>\n",
              "    </tr>\n",
              "  </thead>\n",
              "  <tbody>\n",
              "    <tr>\n",
              "      <th>1</th>\n",
              "      <td>John</td>\n",
              "      <td>1</td>\n",
              "      <td>3</td>\n",
              "      <td>3</td>\n",
              "    </tr>\n",
              "    <tr>\n",
              "      <th>3</th>\n",
              "      <td>Karl</td>\n",
              "      <td>1</td>\n",
              "      <td>1</td>\n",
              "      <td>2</td>\n",
              "    </tr>\n",
              "    <tr>\n",
              "      <th>4</th>\n",
              "      <td>Karl</td>\n",
              "      <td>1</td>\n",
              "      <td>3</td>\n",
              "      <td>2</td>\n",
              "    </tr>\n",
              "    <tr>\n",
              "      <th>5</th>\n",
              "      <td>Karl</td>\n",
              "      <td>2</td>\n",
              "      <td>2</td>\n",
              "      <td>2</td>\n",
              "    </tr>\n",
              "    <tr>\n",
              "      <th>6</th>\n",
              "      <td>Andy</td>\n",
              "      <td>1</td>\n",
              "      <td>2</td>\n",
              "      <td>3</td>\n",
              "    </tr>\n",
              "    <tr>\n",
              "      <th>4</th>\n",
              "      <td>Karl</td>\n",
              "      <td>1</td>\n",
              "      <td>4</td>\n",
              "      <td>2</td>\n",
              "    </tr>\n",
              "    <tr>\n",
              "      <th>11</th>\n",
              "      <td>Karl</td>\n",
              "      <td>1</td>\n",
              "      <td>4</td>\n",
              "      <td>2</td>\n",
              "    </tr>\n",
              "  </tbody>\n",
              "</table>\n",
              "</div>"
            ],
            "text/plain": [
              "      ID  field1  field2  field3\n",
              "1   John       1       3       3\n",
              "3   Karl       1       1       2\n",
              "4   Karl       1       3       2\n",
              "5   Karl       2       2       2\n",
              "6   Andy       1       2       3\n",
              "4   Karl       1       4       2\n",
              "11  Karl       1       4       2"
            ]
          },
          "metadata": {
            "tags": []
          },
          "execution_count": 23
        }
      ]
    },
    {
      "cell_type": "markdown",
      "metadata": {
        "id": "pdpNrKeAVRSx"
      },
      "source": [
        "##Numpy\n",
        "\n",
        "- NumPy stands for ‘Numerical Python’ or ‘Numeric Python’.\n",
        "\n",
        "- Provides fast mathematical computation on arrays and matrices"
      ]
    },
    {
      "cell_type": "code",
      "metadata": {
        "id": "KR3-g49GVTXI"
      },
      "source": [
        "import numpy as np"
      ],
      "execution_count": 2,
      "outputs": []
    },
    {
      "cell_type": "markdown",
      "metadata": {
        "id": "samqsOtNVl_E"
      },
      "source": [
        "###Generating\n",
        "\n",
        "- np.array()\n",
        "- np.ones()\n",
        "- np.zeros()\n",
        "- np.arange()\n",
        "- np.full()\n"
      ]
    },
    {
      "cell_type": "code",
      "metadata": {
        "colab": {
          "base_uri": "https://localhost:8080/"
        },
        "id": "wsQqqqWdVcg2",
        "outputId": "8065e793-bd49-4f55-fce2-37bef55c808c"
      },
      "source": [
        "a = np.array([1,2,3,4,5,0])\n",
        "b = [1,2,3,4,5]\n",
        "a + a"
      ],
      "execution_count": 4,
      "outputs": [
        {
          "output_type": "execute_result",
          "data": {
            "text/plain": [
              "array([ 2,  4,  6,  8, 10,  0])"
            ]
          },
          "metadata": {
            "tags": []
          },
          "execution_count": 4
        }
      ]
    },
    {
      "cell_type": "code",
      "metadata": {
        "colab": {
          "base_uri": "https://localhost:8080/"
        },
        "id": "zPM8yS8ZVkSZ",
        "outputId": "340283a9-82c1-494b-e8a7-348b3cd848b9"
      },
      "source": [
        "np.ones([2,3])"
      ],
      "execution_count": null,
      "outputs": [
        {
          "output_type": "execute_result",
          "data": {
            "text/plain": [
              "array([[1., 1., 1.],\n",
              "       [1., 1., 1.]])"
            ]
          },
          "metadata": {
            "tags": []
          },
          "execution_count": 63
        }
      ]
    },
    {
      "cell_type": "code",
      "metadata": {
        "colab": {
          "base_uri": "https://localhost:8080/"
        },
        "id": "5auNvnZSVp95",
        "outputId": "7f01be56-f5d0-41ac-feeb-6c90151c9768"
      },
      "source": [
        "np.zeros([2,2])"
      ],
      "execution_count": null,
      "outputs": [
        {
          "output_type": "execute_result",
          "data": {
            "text/plain": [
              "array([[0., 0.],\n",
              "       [0., 0.]])"
            ]
          },
          "metadata": {
            "tags": []
          },
          "execution_count": 64
        }
      ]
    },
    {
      "cell_type": "code",
      "metadata": {
        "colab": {
          "base_uri": "https://localhost:8080/"
        },
        "id": "_irKScyKVrdb",
        "outputId": "c168e097-ecca-4e65-f53e-9d3585a938db"
      },
      "source": [
        "np.arange(1,10)"
      ],
      "execution_count": null,
      "outputs": [
        {
          "output_type": "execute_result",
          "data": {
            "text/plain": [
              "array([1, 2, 3, 4, 5, 6, 7, 8, 9])"
            ]
          },
          "metadata": {
            "tags": []
          },
          "execution_count": 65
        }
      ]
    },
    {
      "cell_type": "code",
      "metadata": {
        "colab": {
          "base_uri": "https://localhost:8080/"
        },
        "id": "nt393szUVupY",
        "outputId": "6540b70b-4e06-4791-cbdd-05ca70755d7b"
      },
      "source": [
        "a = np.full([2,3], -1)\n",
        "a"
      ],
      "execution_count": null,
      "outputs": [
        {
          "output_type": "execute_result",
          "data": {
            "text/plain": [
              "array([[-1, -1, -1],\n",
              "       [-1, -1, -1]])"
            ]
          },
          "metadata": {
            "tags": []
          },
          "execution_count": 66
        }
      ]
    },
    {
      "cell_type": "code",
      "metadata": {
        "colab": {
          "base_uri": "https://localhost:8080/"
        },
        "id": "8x6JILzqV3Iw",
        "outputId": "b0b0cc75-2328-4e1e-c1a7-007f1015df81"
      },
      "source": [
        "a.T"
      ],
      "execution_count": null,
      "outputs": [
        {
          "output_type": "execute_result",
          "data": {
            "text/plain": [
              "array([[-1, -1],\n",
              "       [-1, -1],\n",
              "       [-1, -1]])"
            ]
          },
          "metadata": {
            "tags": []
          },
          "execution_count": 67
        }
      ]
    },
    {
      "cell_type": "markdown",
      "metadata": {
        "id": "99Utkqp6V89s"
      },
      "source": [
        "###Indexing"
      ]
    },
    {
      "cell_type": "code",
      "metadata": {
        "colab": {
          "base_uri": "https://localhost:8080/"
        },
        "id": "Tw6B2BNlWPxa",
        "outputId": "2bc960b5-c02a-4243-9fe7-29c5aa5aa656"
      },
      "source": [
        "a = np.arange(1,10)\n",
        "a[0:10:2]"
      ],
      "execution_count": null,
      "outputs": [
        {
          "output_type": "execute_result",
          "data": {
            "text/plain": [
              "array([1, 3, 5, 7, 9])"
            ]
          },
          "metadata": {
            "tags": []
          },
          "execution_count": 68
        }
      ]
    },
    {
      "cell_type": "code",
      "metadata": {
        "colab": {
          "base_uri": "https://localhost:8080/"
        },
        "id": "wtRHsNkDWRik",
        "outputId": "a1332e8b-53f3-4158-e1bc-203893dd0d54"
      },
      "source": [
        "b = np.arange(0,10).reshape(2,5)\n",
        "b[:,2:]"
      ],
      "execution_count": null,
      "outputs": [
        {
          "output_type": "execute_result",
          "data": {
            "text/plain": [
              "array([[2, 3, 4],\n",
              "       [7, 8, 9]])"
            ]
          },
          "metadata": {
            "tags": []
          },
          "execution_count": 69
        }
      ]
    },
    {
      "cell_type": "markdown",
      "metadata": {
        "id": "PxSfyq9nVb48"
      },
      "source": [
        "###Operation\n",
        "* +\n",
        "* *\n",
        "* @\n",
        "* broadcasting"
      ]
    },
    {
      "cell_type": "code",
      "metadata": {
        "colab": {
          "base_uri": "https://localhost:8080/"
        },
        "id": "yaK4boZxVe0z",
        "outputId": "7010033f-17fa-4952-d7d7-819232807188"
      },
      "source": [
        "b + b"
      ],
      "execution_count": null,
      "outputs": [
        {
          "output_type": "execute_result",
          "data": {
            "text/plain": [
              "[1, 2, 3, 4, 5, 1, 2, 3, 4, 5]"
            ]
          },
          "metadata": {
            "tags": []
          },
          "execution_count": 60
        }
      ]
    },
    {
      "cell_type": "code",
      "metadata": {
        "colab": {
          "base_uri": "https://localhost:8080/"
        },
        "id": "DQt6j267VgW5",
        "outputId": "941ae356-f30b-4d6e-c296-966a1ffc0bce"
      },
      "source": [
        "a * a"
      ],
      "execution_count": null,
      "outputs": [
        {
          "output_type": "execute_result",
          "data": {
            "text/plain": [
              "array([ 1,  4,  9, 16, 25,  0])"
            ]
          },
          "metadata": {
            "tags": []
          },
          "execution_count": 61
        }
      ]
    },
    {
      "cell_type": "code",
      "metadata": {
        "colab": {
          "base_uri": "https://localhost:8080/"
        },
        "id": "gJOzrpEoViiC",
        "outputId": "e4aef652-9edc-4389-d63a-50b195545444"
      },
      "source": [
        "a @ a #dot product"
      ],
      "execution_count": null,
      "outputs": [
        {
          "output_type": "execute_result",
          "data": {
            "text/plain": [
              "55"
            ]
          },
          "metadata": {
            "tags": []
          },
          "execution_count": 62
        }
      ]
    },
    {
      "cell_type": "code",
      "metadata": {
        "id": "mBljlG83WeRE",
        "outputId": "b353eb7d-be8f-4146-a6c7-a2be04856235",
        "colab": {
          "base_uri": "https://localhost:8080/"
        }
      },
      "source": [
        "np.array([1,2,3,4]) + np.array([[10,10,10,10],[20,20,20,20]])"
      ],
      "execution_count": 7,
      "outputs": [
        {
          "output_type": "execute_result",
          "data": {
            "text/plain": [
              "array([[11, 12, 13, 14],\n",
              "       [21, 22, 23, 24]])"
            ]
          },
          "metadata": {
            "tags": []
          },
          "execution_count": 7
        }
      ]
    },
    {
      "cell_type": "code",
      "metadata": {
        "id": "0ABzsUlaZOuH",
        "outputId": "7cde1b22-f403-4b65-ac21-132762461e0d",
        "colab": {
          "base_uri": "https://localhost:8080/"
        }
      },
      "source": [
        "[1,2,3,4] + [[5,6,7,8],[9,10,11,12]]"
      ],
      "execution_count": 8,
      "outputs": [
        {
          "output_type": "execute_result",
          "data": {
            "text/plain": [
              "[1, 2, 3, 4, [5, 6, 7, 8], [9, 10, 11, 12]]"
            ]
          },
          "metadata": {
            "tags": []
          },
          "execution_count": 8
        }
      ]
    },
    {
      "cell_type": "markdown",
      "metadata": {
        "id": "uCpfb2vXZnxY"
      },
      "source": [
        "\\* 리스트 연산과 구분"
      ]
    },
    {
      "cell_type": "markdown",
      "metadata": {
        "id": "Vajd1TbdWThE"
      },
      "source": [
        "###Function\n",
        "\n",
        "- np.abs()\n",
        "- np.exp()\n",
        "- np.power()\n",
        "- np.log()\n",
        "- np.sqrt()\n"
      ]
    },
    {
      "cell_type": "code",
      "metadata": {
        "colab": {
          "base_uri": "https://localhost:8080/"
        },
        "id": "BcE_DJVvWcSq",
        "outputId": "e25dbffd-8b32-42e6-cf29-fae54f18c4c8"
      },
      "source": [
        "a = np.arange(-3,5)\n",
        "a"
      ],
      "execution_count": null,
      "outputs": [
        {
          "output_type": "execute_result",
          "data": {
            "text/plain": [
              "array([-3, -2, -1,  0,  1,  2,  3,  4])"
            ]
          },
          "metadata": {
            "tags": []
          },
          "execution_count": 73
        }
      ]
    },
    {
      "cell_type": "code",
      "metadata": {
        "colab": {
          "base_uri": "https://localhost:8080/"
        },
        "id": "7_ycvUXmWrQT",
        "outputId": "7584851f-f7a2-47a4-d8c1-f4d657417383"
      },
      "source": [
        "np.abs(a)"
      ],
      "execution_count": null,
      "outputs": [
        {
          "output_type": "execute_result",
          "data": {
            "text/plain": [
              "array([3, 2, 1, 0, 1, 2, 3, 4])"
            ]
          },
          "metadata": {
            "tags": []
          },
          "execution_count": 74
        }
      ]
    },
    {
      "cell_type": "code",
      "metadata": {
        "colab": {
          "base_uri": "https://localhost:8080/"
        },
        "id": "i1RaSbvPWpoK",
        "outputId": "e40e4e01-4f10-4563-83ef-ed94b56d8535"
      },
      "source": [
        "np.exp(a)"
      ],
      "execution_count": null,
      "outputs": [
        {
          "output_type": "execute_result",
          "data": {
            "text/plain": [
              "array([4.97870684e-02, 1.35335283e-01, 3.67879441e-01, 1.00000000e+00,\n",
              "       2.71828183e+00, 7.38905610e+00, 2.00855369e+01, 5.45981500e+01])"
            ]
          },
          "metadata": {
            "tags": []
          },
          "execution_count": 75
        }
      ]
    },
    {
      "cell_type": "code",
      "metadata": {
        "colab": {
          "base_uri": "https://localhost:8080/"
        },
        "id": "5mP72uzkWs0S",
        "outputId": "11fad8b5-ff36-4ee1-85d9-95c9d4141f35"
      },
      "source": [
        "np.power(a,2)"
      ],
      "execution_count": null,
      "outputs": [
        {
          "output_type": "execute_result",
          "data": {
            "text/plain": [
              "array([ 9,  4,  1,  0,  1,  4,  9, 16])"
            ]
          },
          "metadata": {
            "tags": []
          },
          "execution_count": 76
        }
      ]
    },
    {
      "cell_type": "code",
      "metadata": {
        "colab": {
          "base_uri": "https://localhost:8080/"
        },
        "id": "EC8f-3w1WufH",
        "outputId": "03367af1-f17f-4f3a-ecc1-27dab5226f89"
      },
      "source": [
        "np.log(np.array([2,4,8]))"
      ],
      "execution_count": null,
      "outputs": [
        {
          "output_type": "execute_result",
          "data": {
            "text/plain": [
              "array([0.69314718, 1.38629436, 2.07944154])"
            ]
          },
          "metadata": {
            "tags": []
          },
          "execution_count": 77
        }
      ]
    },
    {
      "cell_type": "code",
      "metadata": {
        "colab": {
          "base_uri": "https://localhost:8080/"
        },
        "id": "0byNlOF5WwJE",
        "outputId": "21e4f179-6e47-498a-87b9-4181db762c84"
      },
      "source": [
        "np.log2(np.array([2,4,8]))"
      ],
      "execution_count": null,
      "outputs": [
        {
          "output_type": "execute_result",
          "data": {
            "text/plain": [
              "array([1., 2., 3.])"
            ]
          },
          "metadata": {
            "tags": []
          },
          "execution_count": 78
        }
      ]
    },
    {
      "cell_type": "code",
      "metadata": {
        "colab": {
          "base_uri": "https://localhost:8080/"
        },
        "id": "8CYFNAR6WyDd",
        "outputId": "4c1912fb-e3b7-4171-e038-1a18222bd7e6"
      },
      "source": [
        "np.log(np.array([3,9])) / np.log(3)"
      ],
      "execution_count": null,
      "outputs": [
        {
          "output_type": "execute_result",
          "data": {
            "text/plain": [
              "array([1., 2.])"
            ]
          },
          "metadata": {
            "tags": []
          },
          "execution_count": 79
        }
      ]
    },
    {
      "cell_type": "markdown",
      "metadata": {
        "id": "NCG45NBAWz3w"
      },
      "source": [
        "####Statistics \n",
        "[Statistics](https://numpy.org/doc/stable/reference/routines.statistics.html)"
      ]
    },
    {
      "cell_type": "code",
      "metadata": {
        "colab": {
          "base_uri": "https://localhost:8080/"
        },
        "id": "iBhQwwc0W7FJ",
        "outputId": "961aebfd-83c1-4d1f-81e3-32b8f76f752f"
      },
      "source": [
        "np.median(a)"
      ],
      "execution_count": null,
      "outputs": [
        {
          "output_type": "execute_result",
          "data": {
            "text/plain": [
              "0.5"
            ]
          },
          "metadata": {
            "tags": []
          },
          "execution_count": 80
        }
      ]
    },
    {
      "cell_type": "code",
      "metadata": {
        "colab": {
          "base_uri": "https://localhost:8080/"
        },
        "id": "nn7JDENuW9ci",
        "outputId": "a3b73706-38ac-472a-f95a-b1cb57def459"
      },
      "source": [
        "np.mean(a)"
      ],
      "execution_count": null,
      "outputs": [
        {
          "output_type": "execute_result",
          "data": {
            "text/plain": [
              "0.5"
            ]
          },
          "metadata": {
            "tags": []
          },
          "execution_count": 81
        }
      ]
    },
    {
      "cell_type": "code",
      "metadata": {
        "id": "UfPPwmC6W-63",
        "colab": {
          "base_uri": "https://localhost:8080/"
        },
        "outputId": "536598f6-ac2a-4f11-cab4-b53bfdeb3f9d"
      },
      "source": [
        "np.std(a)"
      ],
      "execution_count": null,
      "outputs": [
        {
          "output_type": "execute_result",
          "data": {
            "text/plain": [
              "2.29128784747792"
            ]
          },
          "metadata": {
            "tags": []
          },
          "execution_count": 82
        }
      ]
    },
    {
      "cell_type": "code",
      "metadata": {
        "id": "0plpAySMZvGS",
        "outputId": "be9ad090-8a46-4b59-edeb-5506df982844",
        "colab": {
          "base_uri": "https://localhost:8080/"
        }
      },
      "source": [
        "a.prod()"
      ],
      "execution_count": 9,
      "outputs": [
        {
          "output_type": "execute_result",
          "data": {
            "text/plain": [
              "0"
            ]
          },
          "metadata": {
            "tags": []
          },
          "execution_count": 9
        }
      ]
    },
    {
      "cell_type": "markdown",
      "metadata": {
        "id": "waB_g72IaXBy"
      },
      "source": [
        "\\* 모든 원소의 곱"
      ]
    },
    {
      "cell_type": "code",
      "metadata": {
        "id": "Ez11rHRBaZAd",
        "outputId": "8c89507c-37f4-4988-f0a0-564cdd287a89",
        "colab": {
          "base_uri": "https://localhost:8080/"
        }
      },
      "source": [
        "a.argmax()"
      ],
      "execution_count": 10,
      "outputs": [
        {
          "output_type": "execute_result",
          "data": {
            "text/plain": [
              "4"
            ]
          },
          "metadata": {
            "tags": []
          },
          "execution_count": 10
        }
      ]
    },
    {
      "cell_type": "markdown",
      "metadata": {
        "id": "yn_1YQJbakmb"
      },
      "source": [
        "\\* max 원소의 위치"
      ]
    },
    {
      "cell_type": "code",
      "metadata": {
        "id": "btV9y3vsasrh",
        "outputId": "b5398133-f996-4026-e1aa-23aef2a36bea",
        "colab": {
          "base_uri": "https://localhost:8080/"
        }
      },
      "source": [
        "c = np.array([[1,2,3,4,5],[6,7,8,9,10]])\n",
        "c.sum(axis=0)"
      ],
      "execution_count": 12,
      "outputs": [
        {
          "output_type": "execute_result",
          "data": {
            "text/plain": [
              "array([ 7,  9, 11, 13, 15])"
            ]
          },
          "metadata": {
            "tags": []
          },
          "execution_count": 12
        }
      ]
    },
    {
      "cell_type": "markdown",
      "metadata": {
        "id": "ef4VVga4bA5k"
      },
      "source": [
        "\\* 열을 기준으로 덧셈"
      ]
    }
  ]
}